{
 "cells": [
  {
   "cell_type": "markdown",
   "metadata": {
    "collapsed": true
   },
   "source": [
    "# Tomography.dev"
   ]
  },
  {
   "cell_type": "markdown",
   "metadata": {},
   "source": [
    "* Anton Karazeev, you can text me: [anton.karazeev@gmail.com](mailto:anton.karazeev@gmail.com) or [t.me/akarazeev](t.me/akarazeev)"
   ]
  },
  {
   "cell_type": "code",
   "execution_count": 77,
   "metadata": {
    "collapsed": true
   },
   "outputs": [],
   "source": [
    "import os\n",
    "import sys\n",
    "from math import pi\n",
    "\n",
    "from IPython.display import Image\n",
    "\n",
    "from math import pi\n",
    "import Qconfig\n",
    "from qiskit import QuantumProgram\n",
    "from qiskit.tools.visualization import plot_histogram, plot_state\n",
    "import qiskit.tools.qcvv.tomography as tomo\n",
    "import pickle\n",
    "\n",
    "assert sys.version_info >= (3,5), \"Only Python 3.5 or greater supported.\""
   ]
  },
  {
   "cell_type": "code",
   "execution_count": 78,
   "metadata": {},
   "outputs": [
    {
     "data": {
      "text/plain": [
       "['ibmqx5',\n",
       " 'ibmqx4',\n",
       " 'ibmqx_hpc_qasm_simulator',\n",
       " 'ibmqx2',\n",
       " 'ibmqx_qasm_simulator',\n",
       " 'local_projectq_simulator',\n",
       " 'local_qasm_simulator',\n",
       " 'local_clifford_simulator',\n",
       " 'local_qiskit_simulator',\n",
       " 'local_unitary_simulator']"
      ]
     },
     "execution_count": 78,
     "metadata": {},
     "output_type": "execute_result"
    }
   ],
   "source": [
    "# Create your first QuantumProgram object instance.\n",
    "Q_program = QuantumProgram()\n",
    "Q_program.set_api(Qconfig.APItoken, Qconfig.config[\"url\"])\n",
    "\n",
    "# List of available backends.\n",
    "Q_program.available_backends()"
   ]
  },
  {
   "cell_type": "code",
   "execution_count": 79,
   "metadata": {
    "collapsed": true
   },
   "outputs": [],
   "source": [
    "n = 1\n",
    "q_regs = Q_program.create_quantum_register(\"qr\", n)\n",
    "c_regs = Q_program.create_classical_register(\"cr\", n)"
   ]
  },
  {
   "cell_type": "code",
   "execution_count": 80,
   "metadata": {
    "collapsed": true
   },
   "outputs": [],
   "source": [
    "def make_tomography_set(qprogram, circuit_name, qreg, creg):\n",
    "    # Prepare helper-circuits.\n",
    "    RxPi = qprogram.create_circuit('tmp_RxPi', [qreg], [creg])\n",
    "    RxPi.rx(pi, qreg[0])\n",
    "    RxPi2 = qprogram.create_circuit('tmp_RxPi2', [qreg], [creg])\n",
    "    RxPi2.rx(pi/2., qreg[0])\n",
    "    RyPi2 = qprogram.create_circuit('tmp_RyPi2', [qreg], [creg])\n",
    "    RyPi2.ry(pi/2., qreg[0])\n",
    "    Meas = qprogram.create_circuit('tmp_Meas', [qreg], [creg])\n",
    "    Meas.measure(qreg[0], creg[0])\n",
    "    \n",
    "    circuit_names = []\n",
    "    for left in ['=', 'tmp_RxPi', 'tmp_RxPi2', 'tmp_RyPi2']:\n",
    "        for right in ['=', 'tmp_RxPi2', 'tmp_RyPi2']:\n",
    "            tmp_name = left + '_' + circuit_name + '_' + right\n",
    "            tmp_name = tmp_name.replace('tmp_', '')\n",
    "            circuit_names.append(tmp_name)\n",
    "            \n",
    "            tmp_circuit = qprogram.get_circuit(circuit_name)\n",
    "            if left != '=':\n",
    "                tmp_circuit = qprogram.get_circuit(left) + tmp_circuit\n",
    "            if right != '=':\n",
    "                tmp_circuit = tmp_circuit + qprogram.get_circuit(right)\n",
    "            \n",
    "            qprogram.add_circuit(circuit_names[-1], tmp_circuit +\n",
    "                                 qprogram.get_circuit('tmp_Meas'))\n",
    "\n",
    "    return circuit_names"
   ]
  },
  {
   "cell_type": "code",
   "execution_count": 81,
   "metadata": {},
   "outputs": [
    {
     "data": {
      "text/plain": [
       "<qiskit.extensions.standard.ry.RYGate at 0x11227ac50>"
      ]
     },
     "execution_count": 81,
     "metadata": {},
     "output_type": "execute_result"
    }
   ],
   "source": [
    "# Id on qubit-0 only.\n",
    "ident = Q_program.create_circuit('Id', [q_regs], [c_regs])\n",
    "# ident.iden(q_regs[0])\n",
    "\n",
    "# Rx(Pi) on qubit-0 only.\n",
    "RxPi = Q_program.create_circuit('RxPi', [q_regs], [c_regs])\n",
    "RxPi.rx(pi, q_regs[0])\n",
    "\n",
    "# Rx(Pi/2) on qubit-0 only.\n",
    "RxPi2 = Q_program.create_circuit('RxPi2', [q_regs], [c_regs])\n",
    "RxPi2.rx(pi/2., q_regs[0])\n",
    "\n",
    "# Ry(Pi/2) on qubit-0 only.\n",
    "RyPi2 = Q_program.create_circuit('RyPi2', [q_regs], [c_regs])\n",
    "RyPi2.ry(pi/2., q_regs[0])"
   ]
  },
  {
   "cell_type": "code",
   "execution_count": 82,
   "metadata": {},
   "outputs": [
    {
     "data": {
      "text/plain": [
       "dict_keys(['Id', 'RxPi', 'RxPi2', 'RyPi2'])"
      ]
     },
     "execution_count": 82,
     "metadata": {},
     "output_type": "execute_result"
    }
   ],
   "source": [
    "Q_program.get_circuit_names()"
   ]
  },
  {
   "cell_type": "code",
   "execution_count": 83,
   "metadata": {},
   "outputs": [],
   "source": [
    "tomography = dict()\n",
    "\n",
    "for name in ['Id', 'RxPi', 'RxPi2', 'RyPi2']:\n",
    "    tomography[name] = dict(circuits=make_tomography_set(Q_program, name, q_regs, c_regs))"
   ]
  },
  {
   "cell_type": "code",
   "execution_count": 90,
   "metadata": {},
   "outputs": [
    {
     "data": {
      "text/plain": [
       "{'Id': {'circuits': ['=_Id_=',\n",
       "   '=_Id_RxPi2',\n",
       "   '=_Id_RyPi2',\n",
       "   'RxPi_Id_=',\n",
       "   'RxPi_Id_RxPi2',\n",
       "   'RxPi_Id_RyPi2',\n",
       "   'RxPi2_Id_=',\n",
       "   'RxPi2_Id_RxPi2',\n",
       "   'RxPi2_Id_RyPi2',\n",
       "   'RyPi2_Id_=',\n",
       "   'RyPi2_Id_RxPi2',\n",
       "   'RyPi2_Id_RyPi2']},\n",
       " 'RxPi': {'circuits': ['=_RxPi_=',\n",
       "   '=_RxPi_RxPi2',\n",
       "   '=_RxPi_RyPi2',\n",
       "   'RxPi_RxPi_=',\n",
       "   'RxPi_RxPi_RxPi2',\n",
       "   'RxPi_RxPi_RyPi2',\n",
       "   'RxPi2_RxPi_=',\n",
       "   'RxPi2_RxPi_RxPi2',\n",
       "   'RxPi2_RxPi_RyPi2',\n",
       "   'RyPi2_RxPi_=',\n",
       "   'RyPi2_RxPi_RxPi2',\n",
       "   'RyPi2_RxPi_RyPi2']},\n",
       " 'RxPi2': {'circuits': ['=_RxPi2_=',\n",
       "   '=_RxPi2_RxPi2',\n",
       "   '=_RxPi2_RyPi2',\n",
       "   'RxPi_RxPi2_=',\n",
       "   'RxPi_RxPi2_RxPi2',\n",
       "   'RxPi_RxPi2_RyPi2',\n",
       "   'RxPi2_RxPi2_=',\n",
       "   'RxPi2_RxPi2_RxPi2',\n",
       "   'RxPi2_RxPi2_RyPi2',\n",
       "   'RyPi2_RxPi2_=',\n",
       "   'RyPi2_RxPi2_RxPi2',\n",
       "   'RyPi2_RxPi2_RyPi2']},\n",
       " 'RyPi2': {'circuits': ['=_RyPi2_=',\n",
       "   '=_RyPi2_RxPi2',\n",
       "   '=_RyPi2_RyPi2',\n",
       "   'RxPi_RyPi2_=',\n",
       "   'RxPi_RyPi2_RxPi2',\n",
       "   'RxPi_RyPi2_RyPi2',\n",
       "   'RxPi2_RyPi2_=',\n",
       "   'RxPi2_RyPi2_RxPi2',\n",
       "   'RxPi2_RyPi2_RyPi2',\n",
       "   'RyPi2_RyPi2_=',\n",
       "   'RyPi2_RyPi2_RxPi2',\n",
       "   'RyPi2_RyPi2_RyPi2']}}"
      ]
     },
     "execution_count": 90,
     "metadata": {},
     "output_type": "execute_result"
    }
   ],
   "source": [
    "tomography"
   ]
  },
  {
   "cell_type": "code",
   "execution_count": 91,
   "metadata": {
    "scrolled": true
   },
   "outputs": [
    {
     "name": "stdout",
     "output_type": "stream",
     "text": [
      "Id COMPLETED\n",
      "RxPi COMPLETED\n",
      "RxPi2 COMPLETED\n",
      "RyPi2 COMPLETED\n",
      "CPU times: user 7.16 s, sys: 384 ms, total: 7.55 s\n",
      "Wall time: 10.8 s\n"
     ]
    }
   ],
   "source": [
    "%%time\n",
    "tomography_results = dict()\n",
    "\n",
    "backend = 'local_qasm_simulator'\n",
    "shots = 1024\n",
    "for circuit_name in tomography.keys():\n",
    "    tmp_results = Q_program.execute(tomography[circuit_name]['circuits'], shots=shots, backend=backend)\n",
    "    print(circuit_name, tmp_results)\n",
    "\n",
    "    tomography_results[circuit_name] = dict()\n",
    "    for name in tomography[circuit_name]['circuits']:\n",
    "        tomography_results[circuit_name][name] = tmp_results.get_data(name)['counts']"
   ]
  },
  {
   "cell_type": "code",
   "execution_count": 92,
   "metadata": {},
   "outputs": [
    {
     "data": {
      "text/plain": [
       "{'Id': {'=_Id_=': {'0': 1024},\n",
       "  '=_Id_RxPi2': {'0': 512, '1': 512},\n",
       "  '=_Id_RyPi2': {'0': 515, '1': 509},\n",
       "  'RxPi2_Id_=': {'0': 501, '1': 523},\n",
       "  'RxPi2_Id_RxPi2': {'1': 1024},\n",
       "  'RxPi2_Id_RyPi2': {'0': 533, '1': 491},\n",
       "  'RxPi_Id_=': {'1': 1024},\n",
       "  'RxPi_Id_RxPi2': {'0': 515, '1': 509},\n",
       "  'RxPi_Id_RyPi2': {'0': 530, '1': 494},\n",
       "  'RyPi2_Id_=': {'0': 513, '1': 511},\n",
       "  'RyPi2_Id_RxPi2': {'0': 503, '1': 521},\n",
       "  'RyPi2_Id_RyPi2': {'1': 1024}},\n",
       " 'RxPi': {'=_RxPi_=': {'1': 1024},\n",
       "  '=_RxPi_RxPi2': {'0': 529, '1': 495},\n",
       "  '=_RxPi_RyPi2': {'0': 487, '1': 537},\n",
       "  'RxPi2_RxPi_=': {'0': 521, '1': 503},\n",
       "  'RxPi2_RxPi_RxPi2': {'0': 1024},\n",
       "  'RxPi2_RxPi_RyPi2': {'0': 487, '1': 537},\n",
       "  'RxPi_RxPi_=': {'0': 1024},\n",
       "  'RxPi_RxPi_RxPi2': {'0': 510, '1': 514},\n",
       "  'RxPi_RxPi_RyPi2': {'0': 517, '1': 507},\n",
       "  'RyPi2_RxPi_=': {'0': 530, '1': 494},\n",
       "  'RyPi2_RxPi_RxPi2': {'0': 500, '1': 524},\n",
       "  'RyPi2_RxPi_RyPi2': {'1': 1024}},\n",
       " 'RxPi2': {'=_RxPi2_=': {'0': 503, '1': 521},\n",
       "  '=_RxPi2_RxPi2': {'1': 1024},\n",
       "  '=_RxPi2_RyPi2': {'0': 510, '1': 514},\n",
       "  'RxPi2_RxPi2_=': {'1': 1024},\n",
       "  'RxPi2_RxPi2_RxPi2': {'0': 511, '1': 513},\n",
       "  'RxPi2_RxPi2_RyPi2': {'0': 506, '1': 518},\n",
       "  'RxPi_RxPi2_=': {'0': 499, '1': 525},\n",
       "  'RxPi_RxPi2_RxPi2': {'0': 1024},\n",
       "  'RxPi_RxPi2_RyPi2': {'0': 480, '1': 544},\n",
       "  'RyPi2_RxPi2_=': {'0': 521, '1': 503},\n",
       "  'RyPi2_RxPi2_RxPi2': {'0': 534, '1': 490},\n",
       "  'RyPi2_RxPi2_RyPi2': {'1': 1024}},\n",
       " 'RyPi2': {'=_RyPi2_=': {'0': 543, '1': 481},\n",
       "  '=_RyPi2_RxPi2': {'0': 513, '1': 511},\n",
       "  '=_RyPi2_RyPi2': {'1': 1024},\n",
       "  'RxPi2_RyPi2_=': {'0': 498, '1': 526},\n",
       "  'RxPi2_RyPi2_RxPi2': {'1': 1024},\n",
       "  'RxPi2_RyPi2_RyPi2': {'0': 507, '1': 517},\n",
       "  'RxPi_RyPi2_=': {'0': 519, '1': 505},\n",
       "  'RxPi_RyPi2_RxPi2': {'0': 487, '1': 537},\n",
       "  'RxPi_RyPi2_RyPi2': {'0': 1024},\n",
       "  'RyPi2_RyPi2_=': {'1': 1024},\n",
       "  'RyPi2_RyPi2_RxPi2': {'0': 498, '1': 526},\n",
       "  'RyPi2_RyPi2_RyPi2': {'0': 517, '1': 507}}}"
      ]
     },
     "execution_count": 92,
     "metadata": {},
     "output_type": "execute_result"
    }
   ],
   "source": [
    "tomography_results"
   ]
  },
  {
   "cell_type": "code",
   "execution_count": 93,
   "metadata": {},
   "outputs": [
    {
     "name": "stdout",
     "output_type": "stream",
     "text": [
      "Id COMPLETED\n",
      "RxPi COMPLETED\n",
      "RxPi2 COMPLETED\n",
      "RyPi2 COMPLETED\n",
      "CPU times: user 10.7 s, sys: 471 ms, total: 11.2 s\n",
      "Wall time: 30min 19s\n"
     ]
    }
   ],
   "source": [
    "%%time\n",
    "tomography_results_real = dict()\n",
    "\n",
    "backend = 'ibmqx2'\n",
    "shots = 8192\n",
    "for circuit_name in tomography.keys():\n",
    "    tmp_results = Q_program.execute(tomography[circuit_name]['circuits'], shots=shots,\n",
    "                                    backend=backend, wait=10, timeout=600, max_credits=8)\n",
    "    print(circuit_name, tmp_results)\n",
    "\n",
    "    tomography_results_real[circuit_name] = dict()\n",
    "    for name in tomography[circuit_name]['circuits']:\n",
    "        tomography_results_real[circuit_name][name] = tmp_results.get_data(name)['counts']"
   ]
  },
  {
   "cell_type": "code",
   "execution_count": 95,
   "metadata": {},
   "outputs": [
    {
     "name": "stdout",
     "output_type": "stream",
     "text": [
      "Qconfig.py           \u001b[32mdata\u001b[m\u001b[m                 main.ipynb\r\n",
      "\u001b[32m__pycache__\u001b[m\u001b[m          dev_tomography.ipynb tomography.txt\r\n"
     ]
    }
   ],
   "source": [
    "!ls"
   ]
  },
  {
   "cell_type": "code",
   "execution_count": 96,
   "metadata": {
    "collapsed": true
   },
   "outputs": [],
   "source": [
    "with open('data/tomography_results_real.pkl', 'wb') as file:\n",
    "    pickle.dump(tomography_results_real, file)"
   ]
  },
  {
   "cell_type": "code",
   "execution_count": 97,
   "metadata": {
    "collapsed": true
   },
   "outputs": [],
   "source": [
    "with open('data/tomography_results.pkl', 'wb') as file:\n",
    "    pickle.dump(tomography_results, file)"
   ]
  },
  {
   "cell_type": "code",
   "execution_count": 94,
   "metadata": {},
   "outputs": [
    {
     "data": {
      "text/plain": [
       "{'Id': {'=_Id_=': {'00000': 4733, '00001': 3459},\n",
       "  '=_Id_RxPi2': {'00000': 4498, '00001': 3694},\n",
       "  '=_Id_RyPi2': {'00000': 4479, '00001': 3713},\n",
       "  'RxPi2_Id_=': {'00000': 4463, '00001': 3729},\n",
       "  'RxPi2_Id_RxPi2': {'00000': 4368, '00001': 3824},\n",
       "  'RxPi2_Id_RyPi2': {'00000': 4532, '00001': 3660},\n",
       "  'RxPi_Id_=': {'00000': 4241, '00001': 3951},\n",
       "  'RxPi_Id_RxPi2': {'00000': 4548, '00001': 3644},\n",
       "  'RxPi_Id_RyPi2': {'00000': 4587, '00001': 3605},\n",
       "  'RyPi2_Id_=': {'00000': 4560, '00001': 3632},\n",
       "  'RyPi2_Id_RxPi2': {'00000': 4503, '00001': 3689},\n",
       "  'RyPi2_Id_RyPi2': {'00000': 4318, '00001': 3874}},\n",
       " 'RxPi': {'=_RxPi_=': {'00000': 4037, '00001': 4155},\n",
       "  '=_RxPi_RxPi2': {'00000': 4121, '00001': 4071},\n",
       "  '=_RxPi_RyPi2': {'00000': 4139, '00001': 4053},\n",
       "  'RxPi2_RxPi_=': {'00000': 4185, '00001': 4007},\n",
       "  'RxPi2_RxPi_RxPi2': {'00000': 4200, '00001': 3992},\n",
       "  'RxPi2_RxPi_RyPi2': {'00000': 4048, '00001': 4144},\n",
       "  'RxPi_RxPi_=': {'00000': 4161, '00001': 4031},\n",
       "  'RxPi_RxPi_RxPi2': {'00000': 4123, '00001': 4069},\n",
       "  'RxPi_RxPi_RyPi2': {'00000': 4166, '00001': 4026},\n",
       "  'RyPi2_RxPi_=': {'00000': 4195, '00001': 3997},\n",
       "  'RyPi2_RxPi_RxPi2': {'00000': 4091, '00001': 4101},\n",
       "  'RyPi2_RxPi_RyPi2': {'00000': 4057, '00001': 4135}},\n",
       " 'RxPi2': {'=_RxPi2_=': {'00000': 3809, '00001': 4383},\n",
       "  '=_RxPi2_RxPi2': {'00000': 3862, '00001': 4330},\n",
       "  '=_RxPi2_RyPi2': {'00000': 3765, '00001': 4427},\n",
       "  'RxPi2_RxPi2_=': {'00000': 3830, '00001': 4362},\n",
       "  'RxPi2_RxPi2_RxPi2': {'00000': 3843, '00001': 4349},\n",
       "  'RxPi2_RxPi2_RyPi2': {'00000': 3809, '00001': 4383},\n",
       "  'RxPi_RxPi2_=': {'00000': 3800, '00001': 4392},\n",
       "  'RxPi_RxPi2_RxPi2': {'00000': 3836, '00001': 4356},\n",
       "  'RxPi_RxPi2_RyPi2': {'00000': 3893, '00001': 4299},\n",
       "  'RyPi2_RxPi2_=': {'00000': 3758, '00001': 4434},\n",
       "  'RyPi2_RxPi2_RxPi2': {'00000': 3863, '00001': 4329},\n",
       "  'RyPi2_RxPi2_RyPi2': {'00000': 3756, '00001': 4436}},\n",
       " 'RyPi2': {'=_RyPi2_=': {'00000': 4279, '00001': 3913},\n",
       "  '=_RyPi2_RxPi2': {'00000': 4339, '00001': 3853},\n",
       "  '=_RyPi2_RyPi2': {'00000': 4048, '00001': 4144},\n",
       "  'RxPi2_RyPi2_=': {'00000': 4340, '00001': 3852},\n",
       "  'RxPi2_RyPi2_RxPi2': {'00000': 4161, '00001': 4031},\n",
       "  'RxPi2_RyPi2_RyPi2': {'00000': 4233, '00001': 3959},\n",
       "  'RxPi_RyPi2_=': {'00000': 4255, '00001': 3937},\n",
       "  'RxPi_RyPi2_RxPi2': {'00000': 4210, '00001': 3982},\n",
       "  'RxPi_RyPi2_RyPi2': {'00000': 4511, '00001': 3681},\n",
       "  'RyPi2_RyPi2_=': {'00000': 4103, '00001': 4089},\n",
       "  'RyPi2_RyPi2_RxPi2': {'00000': 4259, '00001': 3933},\n",
       "  'RyPi2_RyPi2_RyPi2': {'00000': 4224, '00001': 3968}}}"
      ]
     },
     "execution_count": 94,
     "metadata": {},
     "output_type": "execute_result"
    }
   ],
   "source": [
    "tomography_results_real"
   ]
  }
 ],
 "metadata": {
  "kernelspec": {
   "display_name": "Python 3",
   "language": "python",
   "name": "python3"
  },
  "language_info": {
   "codemirror_mode": {
    "name": "ipython",
    "version": 3
   },
   "file_extension": ".py",
   "mimetype": "text/x-python",
   "name": "python",
   "nbconvert_exporter": "python",
   "pygments_lexer": "ipython3",
   "version": "3.6.4"
  }
 },
 "nbformat": 4,
 "nbformat_minor": 2
}

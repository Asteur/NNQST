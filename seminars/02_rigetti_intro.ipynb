{
 "cells": [
  {
   "cell_type": "markdown",
   "metadata": {},
   "source": [
    "<table>\n",
    "    <tr>\n",
    "        <th><img src=\"img/rqc.png\" href=\"http://www.rqc.ru/\" width=\"150px\"></th>\n",
    "        <th colspan=\"3\" align=left style=\"font-weight:normal\">\n",
    "            <p>• Anton Karazeev: [a.karazeev@rqc.ru](mailto:a.karazeev@rqc.ru) or [t.me/akarazeev](t.me/akarazeev)</p>\n",
    "            <p>• Based on ...</p>\n",
    "        </th>\n",
    "    </tr>\n",
    "</table>"
   ]
  },
  {
   "cell_type": "markdown",
   "metadata": {},
   "source": [
    "# Rigetti Forest"
   ]
  },
  {
   "cell_type": "markdown",
   "metadata": {},
   "source": [
    "## Введение"
   ]
  },
  {
   "cell_type": "code",
   "execution_count": 41,
   "metadata": {},
   "outputs": [
    {
     "name": "stdout",
     "output_type": "stream",
     "text": [
      "{'00': 0.49999999999999989, '01': 0.0, '10': 0.0, '11': 0.49999999999999989}\n"
     ]
    }
   ],
   "source": [
    "from pyquil.quil import Program\n",
    "from pyquil.gates import H, CNOT\n",
    "from pyquil.api import QVMConnection\n",
    "\n",
    "# Создаём объект для квантовой программы.\n",
    "p = Program()\n",
    "\n",
    "# \"Мутирование\" квантовой программы под действием\n",
    "# \"инструкции\" `H(0)` - гейт Адамара, который\n",
    "# действует на нулевой кубит.\n",
    "p.inst(H(0))\n",
    "# Добавление CNOT гейта, который использует нулевой\n",
    "# кубит как управляющий, а первый кубит как таргет.\n",
    "p.inst(CNOT(0, 1))\n",
    "\n",
    "# Объект \"квантовой виртуальной машины\" - создаёт\n",
    "# соединение с облачным бэкэндом.\n",
    "qvm = QVMConnection()\n",
    "\n",
    "# Запускаем квантовую программу `p` на бэкэнде.\n",
    "result = qvm.wavefunction(p)\n",
    "\n",
    "# Посмотреть на результаты программы в виде \"{'00': p1,\n",
    "# '01': p2, ...}\", где p1, p2, ... - вероятности\n",
    "# соответствующих исходов.\n",
    "print(result.get_outcome_probs())"
   ]
  },
  {
   "cell_type": "code",
   "execution_count": 68,
   "metadata": {},
   "outputs": [
    {
     "data": {
      "image/png": "[encoded data removed]",
      "text/plain": [
       "<matplotlib.figure.Figure at 0x11128ce80>"
      ]
     },
     "metadata": {},
     "output_type": "display_data"
    }
   ],
   "source": [
    "# Построим гистограмму исходов.\n",
    "result.plot()"
   ]
  },
  {
   "cell_type": "code",
   "execution_count": 69,
   "metadata": {
    "scrolled": true
   },
   "outputs": [
    {
     "data": {
      "text/plain": [
       "'(0.71+0j)|00> + (0.71+0j)|11>'"
      ]
     },
     "execution_count": 69,
     "metadata": {},
     "output_type": "execute_result"
    }
   ],
   "source": [
    "# Ещё один способ представить состояние.\n",
    "result.pretty_print()"
   ]
  },
  {
   "cell_type": "markdown",
   "metadata": {},
   "source": [
    "## Гейты"
   ]
  },
  {
   "cell_type": "code",
   "execution_count": 52,
   "metadata": {},
   "outputs": [
    {
     "name": "stdout",
     "output_type": "stream",
     "text": [
      "[ 1.+0.j  0.+0.j]\n"
     ]
    }
   ],
   "source": [
    "import numpy as np\n",
    "from pyquil.gates import I\n",
    "\n",
    "quantum_simulator = QVMConnection()\n",
    "\n",
    "# Создаём квантовую программу, которая использует\n",
    "# один кубит и применяет к нему тождественное\n",
    "# преобразование.\n",
    "p = Program(I(0))\n",
    "\n",
    "# После запуска программы на квантовом симуляторе\n",
    "# вернётся состояние системы после применения к\n",
    "# кубитам всех операторов из `p`.\n",
    "wavefunction = quantum_simulator.wavefunction(p)\n",
    "\n",
    "# `wavefunction` содержит в себе список\n",
    "# амплитуд каждого из базисных состояний.\n",
    "print(wavefunction.amplitudes)"
   ]
  },
  {
   "cell_type": "markdown",
   "metadata": {},
   "source": [
    "$\\newcommand{\\ket}[1]{\\left|{#1}\\right\\rangle} \\newcommand{\\bra}[1]{\\left\\langle{#1}\\right|} \\newcommand{\\braket}[2]{\\left\\langle{#1}\\vert{#2}\\right\\rangle}$\n",
    "Действие тождественного оператора:\n",
    "$$I \\ket{0} = \\begin{pmatrix} 1 & 0 \\\\ 0 & 1 \\end{pmatrix} \\begin{pmatrix} 1 \\\\ 0 \\end{pmatrix} = \\begin{pmatrix} 1 \\\\ 0 \\end{pmatrix} = \\ket{0},$$\n",
    "$$I \\ket{1} = \\begin{pmatrix} 1 & 0 \\\\ 0 & 1 \\end{pmatrix} \\begin{pmatrix} 0 \\\\ 1 \\end{pmatrix} = \\begin{pmatrix} 0 \\\\ 1 \\end{pmatrix} = \\ket{1}.$$"
   ]
  },
  {
   "cell_type": "code",
   "execution_count": 54,
   "metadata": {
    "scrolled": true
   },
   "outputs": [
    {
     "name": "stdout",
     "output_type": "stream",
     "text": [
      "Соответственно наш кубит в состоянии: alpha=(1+0j), beta=0j\n",
      "Вероятность исхода 0: 1.0\n",
      "Вероятность исхода 1: 0.0\n"
     ]
    }
   ],
   "source": [
    "alpha, beta = wavefunction\n",
    "\n",
    "print(\"Соответственно наш кубит в состоянии: alpha={}, beta={}\".format(alpha, beta))\n",
    "print(\"Вероятность исхода 0: {}\".format(abs(alpha)**2))\n",
    "print(\"Вероятность исхода 1: {}\".format(abs(beta)**2))"
   ]
  },
  {
   "cell_type": "markdown",
   "metadata": {},
   "source": [
    "## Гейт X (Оператор NOT)"
   ]
  },
  {
   "cell_type": "markdown",
   "metadata": {},
   "source": [
    "Действие оператора NOT:\n",
    "$$X \\ket{0} = \\begin{pmatrix} 0 & 1 \\\\ 1 & 0 \\end{pmatrix} \\begin{pmatrix} 1 \\\\ 0 \\end{pmatrix} = \\begin{pmatrix} 0 \\\\ 1 \\end{pmatrix} = \\ket{1},$$\n",
    "$$X \\ket{1} = \\begin{pmatrix} 0 & 1 \\\\ 1 & 0 \\end{pmatrix} \\begin{pmatrix} 0 \\\\ 1 \\end{pmatrix} = \\begin{pmatrix} 1 \\\\ 0 \\end{pmatrix} = \\ket{0}.$$"
   ]
  },
  {
   "cell_type": "code",
   "execution_count": 61,
   "metadata": {},
   "outputs": [
    {
     "name": "stdout",
     "output_type": "stream",
     "text": [
      "Волновая функция после применения X к |0>: (1+0j)|1>\n"
     ]
    }
   ],
   "source": [
    "from pyquil.gates import X\n",
    "\n",
    "# Пишем программу, которая состоит из\n",
    "# одного оператора - NOT.\n",
    "p = Program(X(0))\n",
    "\n",
    "wavefunc = quantum_simulator.wavefunction(p)\n",
    "alpha, beta = wavefunc\n",
    "\n",
    "print(\"Волновая функция после применения X к |0>: {}\".format(wavefunc))"
   ]
  },
  {
   "cell_type": "code",
   "execution_count": 63,
   "metadata": {},
   "outputs": [
    {
     "name": "stdout",
     "output_type": "stream",
     "text": [
      "{'0': 0.0, '1': 1.0}\n"
     ]
    }
   ],
   "source": [
    "# Посмотреть на вероятности исходов.\n",
    "print(wavefunc.get_outcome_probs())"
   ]
  },
  {
   "cell_type": "markdown",
   "metadata": {},
   "source": [
    "## Гейт CNOT"
   ]
  },
  {
   "cell_type": "code",
   "execution_count": 66,
   "metadata": {},
   "outputs": [
    {
     "name": "stdout",
     "output_type": "stream",
     "text": [
      "CNOT|00> =  (1+0j)|00>\n",
      "CNOT|01> =  (1+0j)|11>\n",
      "CNOT|10> =  (1+0j)|10>\n",
      "CNOT|11> =  (1+0j)|01>\n"
     ]
    }
   ],
   "source": [
    "from pyquil.gates import CNOT\n",
    "\n",
    "# Соответствует применению CNOT к\n",
    "# состоянию |00>.\n",
    "p = Program(CNOT(0, 1))\n",
    "wavefunction = quantum_simulator.wavefunction(p)\n",
    "print(\"CNOT|00> = \", wavefunction)\n",
    "\n",
    "# Соответствует применению CNOT к\n",
    "# состоянию |01>.\n",
    "p = Program(X(0), CNOT(0, 1))\n",
    "wavefunction = quantum_simulator.wavefunction(p)\n",
    "print(\"CNOT|01> = \", wavefunction)\n",
    "\n",
    "# Соответствует применению CNOT к\n",
    "# состоянию |10>.\n",
    "p = Program(X(1), CNOT(0, 1))\n",
    "wavefunction = quantum_simulator.wavefunction(p)\n",
    "print(\"CNOT|10> = \", wavefunction)\n",
    "\n",
    "# Соответствует применению CNOT к\n",
    "# состоянию |11>.\n",
    "p = Program(X(0), X(1), CNOT(0, 1))\n",
    "wavefunction = quantum_simulator.wavefunction(p)\n",
    "print(\"CNOT|11> = \", wavefunction)"
   ]
  },
  {
   "cell_type": "markdown",
   "metadata": {},
   "source": [
    "## Гейт SWAP\n",
    "\n",
    "$SWAP = \\begin{pmatrix} 1 & 0 & 0 & 0 \\\\ 0 & 0 & 1 & 0 \\\\ 0 & 1 & 0 & 0 \\\\ 0 & 0 & 0 & 1 \\end{pmatrix}$, меняет состояния $\\ket{10}$ и $\\ket{01}$ местами."
   ]
  },
  {
   "cell_type": "code",
   "execution_count": 67,
   "metadata": {},
   "outputs": [
    {
     "name": "stdout",
     "output_type": "stream",
     "text": [
      "SWAP|00> =  (1+0j)|00>\n",
      "SWAP|01> =  (1+0j)|10>\n",
      "SWAP|10> =  (1+0j)|01>\n",
      "SWAP|11> =  (1+0j)|11>\n"
     ]
    }
   ],
   "source": [
    "from pyquil.gates import SWAP\n",
    "\n",
    "# Соответствует применению SWAP к\n",
    "# состоянию |00>.\n",
    "p = Program(SWAP(0, 1))\n",
    "wavefunction = quantum_simulator.wavefunction(p)\n",
    "print(\"SWAP|00> = \", wavefunction)\n",
    "\n",
    "# Соответствует применению SWAP к\n",
    "# состоянию |01>.\n",
    "p = Program(X(0), SWAP(0, 1))\n",
    "wavefunction = quantum_simulator.wavefunction(p)\n",
    "print(\"SWAP|01> = \", wavefunction)\n",
    "\n",
    "# Соответствует применению SWAP к\n",
    "# состоянию |10>.\n",
    "p = Program(X(1), SWAP(0, 1))\n",
    "wavefunction = quantum_simulator.wavefunction(p)\n",
    "print(\"SWAP|10> = \", wavefunction)\n",
    "\n",
    "# Соответствует применению SWAP к\n",
    "# состоянию |11>.\n",
    "p = Program(X(0), X(1), SWAP(0, 1))\n",
    "wavefunction = quantum_simulator.wavefunction(p)\n",
    "print(\"SWAP|11> = \", wavefunction)"
   ]
  },
  {
   "cell_type": "markdown",
   "metadata": {},
   "source": [
    "## Измерения кубит"
   ]
  },
  {
   "cell_type": "code",
   "execution_count": 85,
   "metadata": {},
   "outputs": [
    {
     "data": {
      "text/plain": [
       "<pyquil.quil.Program at 0x114c73630>"
      ]
     },
     "execution_count": 85,
     "metadata": {},
     "output_type": "execute_result"
    }
   ],
   "source": [
    "# Указываем индексы классических регистров\n",
    "# для записи.\n",
    "classical_reg_index_0 = 0\n",
    "classical_reg_index_1 = 1\n",
    "\n",
    "# Указываем индексы квантовых регистров\n",
    "# для измерения.\n",
    "quantum_reg_index_0 = 0\n",
    "quantum_reg_index_1 = 1\n",
    "\n",
    "# Создаём простую программу, результаты измерений\n",
    "# записываем в соответствующие регистры.\n",
    "p = Program(I(0), X(1))\n",
    "p.measure(quantum_reg_index_0, classical_reg_index_0)\n",
    "p.measure(quantum_reg_index_1, classical_reg_index_1)"
   ]
  },
  {
   "cell_type": "code",
   "execution_count": 88,
   "metadata": {},
   "outputs": [
    {
     "name": "stdout",
     "output_type": "stream",
     "text": [
      "[[0, 1], [0, 1], [0, 1], [0, 1]]\n"
     ]
    }
   ],
   "source": [
    "# Указываем классические регистры, состояние которых\n",
    "# нам интересно после завршения программы.\n",
    "classical_regs = [0, 1]\n",
    "\n",
    "# Запускаем программу на квантовом симуляторе.\n",
    "print(quantum_simulator.run(p, classical_regs, trials=4))"
   ]
  },
  {
   "cell_type": "markdown",
   "metadata": {},
   "source": [
    "## Гейт Адамара\n",
    "\n",
    "$H = \\frac{1}{\\sqrt{2}}\\begin{pmatrix} 1 & 1 \\\\ 1 & -1 \\end{pmatrix}$:\n",
    "\n",
    "$H\\ket{0} = \\frac{1}{\\sqrt{2}}\\begin{pmatrix} 1 & 1 \\\\ 1 & -1 \\end{pmatrix} \\begin{pmatrix} 1 \\\\ 0 \\end{pmatrix} = \\frac{1}{\\sqrt{2}} \\begin{pmatrix} 1 \\\\ 1 \\end{pmatrix} = \\frac{1}{\\sqrt{2}} \\left(\\ket{0} + \\ket{1}\\right) = \\ket{+}$,\n",
    "\n",
    "$H\\ket{1} = \\frac{1}{\\sqrt{2}}\\begin{pmatrix} 1 & 1 \\\\ 1 & -1 \\end{pmatrix} \\begin{pmatrix} 0 \\\\ 1 \\end{pmatrix} = \\frac{1}{\\sqrt{2}} \\begin{pmatrix} 1 \\\\ -1 \\end{pmatrix} = \\frac{1}{\\sqrt{2}} \\left(\\ket{0} - \\ket{1}\\right) = \\ket{-}$."
   ]
  },
  {
   "cell_type": "code",
   "execution_count": 89,
   "metadata": {},
   "outputs": [
    {
     "name": "stdout",
     "output_type": "stream",
     "text": [
      "H|0> =  (0.7071067812+0j)|0> + (0.7071067812+0j)|1>\n",
      "Вероятности исходов: {'0': 0.49999999999999989, '1': 0.49999999999999989}\n"
     ]
    }
   ],
   "source": [
    "from pyquil.gates import H\n",
    "\n",
    "program = Program(H(0))\n",
    "wavefunction = quantum_simulator.wavefunction(program)\n",
    "\n",
    "print(\"H|0> = \", wavefunction)\n",
    "print(\"Вероятности исходов:\", wavefunction.get_outcome_probs())"
   ]
  },
  {
   "cell_type": "code",
   "execution_count": 93,
   "metadata": {},
   "outputs": [
    {
     "name": "stdout",
     "output_type": "stream",
     "text": [
      "[[0], [0], [0], [0], [1], [0], [0], [0], [0], [1]]\n"
     ]
    }
   ],
   "source": [
    "# Запустим на симуляторе.\n",
    "program = Program(H(0)).measure(0, 0)\n",
    "result = quantum_simulator.run(program, [0], trials=10)\n",
    "print(result)"
   ]
  },
  {
   "cell_type": "code",
   "execution_count": 96,
   "metadata": {},
   "outputs": [
    {
     "name": "stdout",
     "output_type": "stream",
     "text": [
      "X 0\n",
      "\n"
     ]
    }
   ],
   "source": [
    "program = Program()\n",
    "program.inst(X(0))\n",
    "\n",
    "print(program)"
   ]
  },
  {
   "cell_type": "code",
   "execution_count": null,
   "metadata": {
    "collapsed": true
   },
   "outputs": [],
   "source": []
  },
  {
   "cell_type": "markdown",
   "metadata": {},
   "source": [
    "# 19Q"
   ]
  },
  {
   "cell_type": "code",
   "execution_count": 97,
   "metadata": {},
   "outputs": [
    {
     "name": "stdout",
     "output_type": "stream",
     "text": [
      "Device 19Q-Acorn is online\n"
     ]
    }
   ],
   "source": [
    "from pyquil.api import get_devices\n",
    "for device in get_devices():\n",
    "    if device.is_online():\n",
    "        print('Device {} is online'.format(device.name))"
   ]
  },
  {
   "cell_type": "code",
   "execution_count": 99,
   "metadata": {},
   "outputs": [
    {
     "ename": "MissingPermissionsError",
     "evalue": "Error: User does not have access to QPU\n\nYour account may not be whitelisted for QPU access. To request the appropriate\npermissions please read the information located at:\n    https://forest.rigetti.com",
     "output_type": "error",
     "traceback": [
      "\u001b[0;31m---------------------------------------------------------------------------\u001b[0m",
      "\u001b[0;31mMissingPermissionsError\u001b[0m                   Traceback (most recent call last)",
      "\u001b[0;32m<ipython-input-99-855c4a3a30a7>\u001b[0m in \u001b[0;36m<module>\u001b[0;34m()\u001b[0m\n\u001b[1;32m      4\u001b[0m \u001b[0mqpu\u001b[0m \u001b[0;34m=\u001b[0m \u001b[0mapi\u001b[0m\u001b[0;34m.\u001b[0m\u001b[0mQPUConnection\u001b[0m\u001b[0;34m(\u001b[0m\u001b[0;34m'19Q-Acorn'\u001b[0m\u001b[0;34m)\u001b[0m\u001b[0;34m\u001b[0m\u001b[0m\n\u001b[1;32m      5\u001b[0m \u001b[0mp\u001b[0m \u001b[0;34m=\u001b[0m \u001b[0mProgram\u001b[0m\u001b[0;34m(\u001b[0m\u001b[0mH\u001b[0m\u001b[0;34m(\u001b[0m\u001b[0;36m0\u001b[0m\u001b[0;34m)\u001b[0m\u001b[0;34m,\u001b[0m \u001b[0mCNOT\u001b[0m\u001b[0;34m(\u001b[0m\u001b[0;36m0\u001b[0m\u001b[0;34m,\u001b[0m \u001b[0;36m1\u001b[0m\u001b[0;34m)\u001b[0m\u001b[0;34m,\u001b[0m \u001b[0mMEASURE\u001b[0m\u001b[0;34m(\u001b[0m\u001b[0;36m0\u001b[0m\u001b[0;34m,\u001b[0m \u001b[0;36m0\u001b[0m\u001b[0;34m)\u001b[0m\u001b[0;34m,\u001b[0m \u001b[0mMEASURE\u001b[0m\u001b[0;34m(\u001b[0m\u001b[0;36m1\u001b[0m\u001b[0;34m,\u001b[0m \u001b[0;36m1\u001b[0m\u001b[0;34m)\u001b[0m\u001b[0;34m)\u001b[0m\u001b[0;34m\u001b[0m\u001b[0m\n\u001b[0;32m----> 6\u001b[0;31m \u001b[0mqpu\u001b[0m\u001b[0;34m.\u001b[0m\u001b[0mrun_and_measure\u001b[0m\u001b[0;34m(\u001b[0m\u001b[0mp\u001b[0m\u001b[0;34m,\u001b[0m \u001b[0;34m[\u001b[0m\u001b[0;36m0\u001b[0m\u001b[0;34m,\u001b[0m \u001b[0;36m1\u001b[0m\u001b[0;34m]\u001b[0m\u001b[0;34m,\u001b[0m \u001b[0;36m1000\u001b[0m\u001b[0;34m)\u001b[0m\u001b[0;34m\u001b[0m\u001b[0m\n\u001b[0m",
      "\u001b[0;32m/usr/local/lib/python3.6/site-packages/pyquil/api/qpu.py\u001b[0m in \u001b[0;36mrun_and_measure\u001b[0;34m(self, quil_program, qubits, trials)\u001b[0m\n\u001b[1;32m    180\u001b[0m         \u001b[0mpayload\u001b[0m \u001b[0;34m=\u001b[0m \u001b[0mself\u001b[0m\u001b[0;34m.\u001b[0m\u001b[0m_run_and_measure_payload\u001b[0m\u001b[0;34m(\u001b[0m\u001b[0mquil_program\u001b[0m\u001b[0;34m,\u001b[0m \u001b[0mqubits\u001b[0m\u001b[0;34m,\u001b[0m \u001b[0mtrials\u001b[0m\u001b[0;34m)\u001b[0m\u001b[0;34m\u001b[0m\u001b[0m\n\u001b[1;32m    181\u001b[0m \u001b[0;34m\u001b[0m\u001b[0m\n\u001b[0;32m--> 182\u001b[0;31m         \u001b[0mresponse\u001b[0m \u001b[0;34m=\u001b[0m \u001b[0mpost_json\u001b[0m\u001b[0;34m(\u001b[0m\u001b[0mself\u001b[0m\u001b[0;34m.\u001b[0m\u001b[0msession\u001b[0m\u001b[0;34m,\u001b[0m \u001b[0mself\u001b[0m\u001b[0;34m.\u001b[0m\u001b[0masync_endpoint\u001b[0m \u001b[0;34m+\u001b[0m \u001b[0;34m\"/job\"\u001b[0m\u001b[0;34m,\u001b[0m \u001b[0mself\u001b[0m\u001b[0;34m.\u001b[0m\u001b[0m_wrap_program\u001b[0m\u001b[0;34m(\u001b[0m\u001b[0mpayload\u001b[0m\u001b[0;34m)\u001b[0m\u001b[0;34m)\u001b[0m\u001b[0;34m\u001b[0m\u001b[0m\n\u001b[0m\u001b[1;32m    183\u001b[0m         \u001b[0mjob\u001b[0m \u001b[0;34m=\u001b[0m \u001b[0mself\u001b[0m\u001b[0;34m.\u001b[0m\u001b[0mwait_for_job\u001b[0m\u001b[0;34m(\u001b[0m\u001b[0mget_job_id\u001b[0m\u001b[0;34m(\u001b[0m\u001b[0mresponse\u001b[0m\u001b[0;34m)\u001b[0m\u001b[0;34m)\u001b[0m\u001b[0;34m\u001b[0m\u001b[0m\n\u001b[1;32m    184\u001b[0m         \u001b[0;32mreturn\u001b[0m \u001b[0mjob\u001b[0m\u001b[0;34m.\u001b[0m\u001b[0mresult\u001b[0m\u001b[0;34m(\u001b[0m\u001b[0;34m)\u001b[0m\u001b[0;34m\u001b[0m\u001b[0m\n",
      "\u001b[0;32m/usr/local/lib/python3.6/site-packages/pyquil/api/_base_connection.py\u001b[0m in \u001b[0;36mpost_json\u001b[0;34m(session, url, json)\u001b[0m\n\u001b[1;32m     76\u001b[0m     \u001b[0mres\u001b[0m \u001b[0;34m=\u001b[0m \u001b[0msession\u001b[0m\u001b[0;34m.\u001b[0m\u001b[0mpost\u001b[0m\u001b[0;34m(\u001b[0m\u001b[0murl\u001b[0m\u001b[0;34m,\u001b[0m \u001b[0mjson\u001b[0m\u001b[0;34m=\u001b[0m\u001b[0mjson\u001b[0m\u001b[0;34m)\u001b[0m\u001b[0;34m\u001b[0m\u001b[0m\n\u001b[1;32m     77\u001b[0m     \u001b[0;32mif\u001b[0m \u001b[0mres\u001b[0m\u001b[0;34m.\u001b[0m\u001b[0mstatus_code\u001b[0m \u001b[0;34m>=\u001b[0m \u001b[0;36m400\u001b[0m\u001b[0;34m:\u001b[0m\u001b[0;34m\u001b[0m\u001b[0m\n\u001b[0;32m---> 78\u001b[0;31m         \u001b[0;32mraise\u001b[0m \u001b[0mparse_error\u001b[0m\u001b[0;34m(\u001b[0m\u001b[0mres\u001b[0m\u001b[0;34m)\u001b[0m\u001b[0;34m\u001b[0m\u001b[0m\n\u001b[0m\u001b[1;32m     79\u001b[0m     \u001b[0;32mreturn\u001b[0m \u001b[0mres\u001b[0m\u001b[0;34m\u001b[0m\u001b[0m\n\u001b[1;32m     80\u001b[0m \u001b[0;34m\u001b[0m\u001b[0m\n",
      "\u001b[0;31mMissingPermissionsError\u001b[0m: Error: User does not have access to QPU\n\nYour account may not be whitelisted for QPU access. To request the appropriate\npermissions please read the information located at:\n    https://forest.rigetti.com"
     ]
    }
   ],
   "source": [
    "from pyquil.quil import Program\n",
    "import pyquil.api as api\n",
    "from pyquil.gates import *\n",
    "qpu = api.QPUConnection('19Q-Acorn')\n",
    "p = Program(H(0), CNOT(0, 1), MEASURE(0, 0), MEASURE(1, 1))\n",
    "qpu.run_and_measure(p, [0, 1], 1000)"
   ]
  },
  {
   "cell_type": "code",
   "execution_count": null,
   "metadata": {
    "collapsed": true
   },
   "outputs": [],
   "source": []
  },
  {
   "cell_type": "code",
   "execution_count": null,
   "metadata": {
    "collapsed": true
   },
   "outputs": [],
   "source": []
  },
  {
   "cell_type": "code",
   "execution_count": null,
   "metadata": {
    "collapsed": true
   },
   "outputs": [],
   "source": []
  },
  {
   "cell_type": "markdown",
   "metadata": {},
   "source": [
    "## Реализация квантовых цепей\n",
    "\n",
    "<img src=\"img/03_circuits.jpg\" width=\"250px\">"
   ]
  }
 ],
 "metadata": {
  "kernelspec": {
   "display_name": "Python 3",
   "language": "python",
   "name": "python3"
  },
  "language_info": {
   "codemirror_mode": {
    "name": "ipython",
    "version": 3
   },
   "file_extension": ".py",
   "mimetype": "text/x-python",
   "name": "python",
   "nbconvert_exporter": "python",
   "pygments_lexer": "ipython3",
   "version": "3.6.4"
  }
 },
 "nbformat": 4,
 "nbformat_minor": 2
}

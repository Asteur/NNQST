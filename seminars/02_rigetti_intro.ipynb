{
 "cells": [
  {
   "cell_type": "code",
   "execution_count": 22,
   "metadata": {},
   "outputs": [
    {
     "name": "stdout",
     "output_type": "stream",
     "text": [
      "{'00': 0.49999999999999989, '01': 0.0, '10': 0.0, '11': 0.49999999999999989}\n"
     ]
    }
   ],
   "source": [
    "from pyquil.quil import Program\n",
    "from pyquil.gates import H, CNOT\n",
    "from pyquil.api import QVMConnection\n",
    "\n",
    "# Создаём объект для квантовой программы.\n",
    "p = Program()\n",
    "\n",
    "# \"Мутирование\" квантовой программы под действием\n",
    "# \"инструкции\" `H(0)` - гейт Адамара, который\n",
    "# действует на нулевой кубит.\n",
    "p.inst(H(0))\n",
    "# Добавление CNOT гейта, который использует нулевой\n",
    "# кубит как управляющий, а первый кубит как таргет.\n",
    "p.inst(CNOT(0, 1))\n",
    "\n",
    "# Объект \"квантовой виртуальной машины\" - создаёт\n",
    "# соединение с облачным бэкэндом.\n",
    "qvm = QVMConnection()\n",
    "\n",
    "# Запускаем квантовую программу `p` на бэкэнде.\n",
    "result = qvm.wavefunction(p)\n",
    "\n",
    "# Посмотреть на результаты программы в виде \"{'00': p1,\n",
    "# '01': p2, ...}\", где p1, p2, ... - вероятности\n",
    "# соответствующих исходов.\n",
    "print(result.get_outcome_probs())"
   ]
  },
  {
   "cell_type": "code",
   "execution_count": 23,
   "metadata": {},
   "outputs": [
    {
     "data": {
      "image/png": "[encoded data removed]",
      "text/plain": [
       "<matplotlib.figure.Figure at 0x114794a90>"
      ]
     },
     "metadata": {},
     "output_type": "display_data"
    }
   ],
   "source": [
    "result.plot()"
   ]
  },
  {
   "cell_type": "code",
   "execution_count": 25,
   "metadata": {},
   "outputs": [
    {
     "data": {
      "text/plain": [
       "'(0.71+0j)|00> + (0.71+0j)|11>'"
      ]
     },
     "execution_count": 25,
     "metadata": {},
     "output_type": "execute_result"
    }
   ],
   "source": [
    "result.pretty_print()"
   ]
  }
 ],
 "metadata": {
  "kernelspec": {
   "display_name": "Python 3",
   "language": "python",
   "name": "python3"
  },
  "language_info": {
   "codemirror_mode": {
    "name": "ipython",
    "version": 3
   },
   "file_extension": ".py",
   "mimetype": "text/x-python",
   "name": "python",
   "nbconvert_exporter": "python",
   "pygments_lexer": "ipython3",
   "version": "3.6.4"
  }
 },
 "nbformat": 4,
 "nbformat_minor": 2
}

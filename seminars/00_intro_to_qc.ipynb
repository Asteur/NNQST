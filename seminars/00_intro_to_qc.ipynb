{
 "cells": [
  {
   "cell_type": "markdown",
   "metadata": {},
   "source": [
    "<table>\n",
    "    <tr>\n",
    "        <th><img src=\"img/rqc.png\" href=\"http://www.rqc.ru/\" width=\"150px\"></th>\n",
    "        <th colspan=\"3\" align=left style=\"font-weight:normal\">\n",
    "            <p>• Anton Karazeev: [a.karazeev@rqc.ru](mailto:a.karazeev@rqc.ru) or [t.me/akarazeev](t.me/akarazeev)</p>\n",
    "            <p>• Based on [Introduction to Quantum Computing](http://pyquil.readthedocs.io/en/latest/intro.html)</p>\n",
    "        </th>\n",
    "    </tr>\n",
    "</table>"
   ]
  },
  {
   "cell_type": "markdown",
   "metadata": {},
   "source": [
    "# От классического бита к кубиту / From Bit to Qubit"
   ]
  },
  {
   "cell_type": "markdown",
   "metadata": {},
   "source": [
    "## Вероятностные биты как векторные пространства / Probabilistic Bits as Vector Spaces\n",
    "\n",
    "Возможные результаты измерения бита представим в виде ортонормированных базисных векторов $\\overrightarrow{0}$ и $\\overrightarrow{1}$. И назовём их **исходами**.\n",
    "\n",
    "Например, в двумерном пространстве базисные векторы можно представить следующим образом: $\\overrightarrow{0} = \\begin{pmatrix} 1 \\\\ 0 \\\\ \\end{pmatrix}$ и $\\overrightarrow{1} = \\begin{pmatrix} 0 \\\\ 1 \\\\ \\end{pmatrix}$. Выбор обусловлен следующим:\n",
    "- Они **нормированы** (их длины равны единице): $(\\overrightarrow{0}, \\overrightarrow{0}) = \\overrightarrow{0}^T \\cdot \\overrightarrow{0} = \\begin{pmatrix} 1 & 0 \\\\ \\end{pmatrix} \\begin{pmatrix} 1 \\\\ 0 \\\\ \\end{pmatrix} = 1 \\cdot 1 + 0 \\cdot 0 = 1$ и $(\\overrightarrow{1}, \\overrightarrow{1}) = \\overrightarrow{1}^T \\cdot \\overrightarrow{1} = \\begin{pmatrix} 0 & 1 \\\\ \\end{pmatrix} \\begin{pmatrix} 0 \\\\ 1 \\\\ \\end{pmatrix} = 0 \\cdot 0 + 1 \\cdot 1 = 1$,\n",
    "\n",
    "- И **ортогональны** (скалярное произведение равно $0$): $(\\overrightarrow{1}, \\overrightarrow{0}) = (\\overrightarrow{0}, \\overrightarrow{1}) = \\overrightarrow{0}^T \\cdot \\overrightarrow{1} = \\begin{pmatrix} 1 & 0 \\\\ \\end{pmatrix} \\begin{pmatrix} 0 \\\\ 1 \\\\ \\end{pmatrix} = 1 \\cdot 0 + 0 \\cdot 1 = 0$.\n",
    "\n",
    "Эти исходы образуют двумерное векторное пространство, которое представляет вероятностный бит: $\\overrightarrow{v} = a\\cdot\\overrightarrow{0} + b\\cdot\\overrightarrow{1}$, где $a$ и $b$ - вероятности того, что бит принимает значение 0 или 1 соответственно. Очевидно, что $a + b$ должно равнятся $1$.\n",
    "\n",
    "**Состояние** такой системы может быть представлено двумерным вектором на плоскости:"
   ]
  },
  {
   "cell_type": "code",
   "execution_count": 7,
   "metadata": {},
   "outputs": [
    {
     "data": {
      "image/png": "[encoded data removed]",
      "text/plain": [
       "<matplotlib.figure.Figure at 0x10e4179e8>"
      ]
     },
     "metadata": {},
     "output_type": "display_data"
    }
   ],
   "source": [
    "import numpy as np\n",
    "import matplotlib.pyplot as plt\n",
    "\n",
    "outcome_0 = np.array([1.0, 0.0])\n",
    "outcome_1 = np.array([0.0, 1.0])\n",
    "a = 0.75\n",
    "b = 0.25\n",
    "\n",
    "assert a + b == 1, \"Sum of probabilities must be equal to 1.0\"\n",
    "\n",
    "prob_bit = a*outcome_0 + b*outcome_1\n",
    "\n",
    "X, Y = prob_bit\n",
    "\n",
    "plt.figure(figsize=(5,5))\n",
    "ax = plt.gca()\n",
    "ax.quiver(X, Y, angles='xy', scale_units='xy', scale=1)\n",
    "ax.set_xlim([0,1])\n",
    "ax.set_ylim([0,1])\n",
    "plt.xlabel('$\\overrightarrow{0}$', fontsize=15)\n",
    "plt.ylabel('$\\overrightarrow{1}$', fontsize=15)\n",
    "plt.title('$\\overrightarrow{v} = {a}\\cdot\\overrightarrow{0} + {b}\\cdot\\overrightarrow{1}$'.format(0, 1, v='v', a=a, b=b))\n",
    "plt.draw()\n",
    "plt.show()"
   ]
  },
  {
   "cell_type": "markdown",
   "metadata": {},
   "source": [
    "По заданному вектору-состоянию можно найти вероятности исходов $0$ и $1$, если спроецировать $\\overrightarrow{v}$ на базисные векторы:\n",
    "$$Pr(0) = (\\overrightarrow{v}, \\overrightarrow{0}) = \\overrightarrow{v}^T \\cdot \\overrightarrow{0} = a,$$\n",
    "$$Pr(1) = (\\overrightarrow{v}, \\overrightarrow{1}) = \\overrightarrow{v}^T \\cdot \\overrightarrow{1} = b.$$"
   ]
  },
  {
   "cell_type": "code",
   "execution_count": 2,
   "metadata": {},
   "outputs": [
    {
     "name": "stdout",
     "output_type": "stream",
     "text": [
      "Получаем, что a=0.75\n",
      "Получаем, что b=0.25\n"
     ]
    }
   ],
   "source": [
    "print(\"Получаем, что a={}\".format(prob_bit.dot(outcome_0)))\n",
    "print(\"Получаем, что b={}\".format(prob_bit.dot(outcome_1)))"
   ]
  },
  {
   "cell_type": "markdown",
   "metadata": {},
   "source": [
    "$\\ket{v} = \\begin{pmatrix} -i \\\\ 1  \\end{pmatrix}, \\bra{v} = \\begin{pmatrix} +i & 1  \\end{pmatrix}$"
   ]
  },
  {
   "cell_type": "markdown",
   "metadata": {},
   "source": [
    "$(a-i\\cdot b)$ -> $(a+i \\cdot b)$ - Комплексное сопряжение\n",
    "\n",
    "\n",
    "$(a+i\\cdot b)$ -> $(a-i \\cdot b)$ - Комплексное сопряжение"
   ]
  },
  {
   "cell_type": "markdown",
   "metadata": {},
   "source": [
    "$(-5i)^*=+5i$"
   ]
  },
  {
   "cell_type": "markdown",
   "metadata": {},
   "source": [
    "## Обозначения Дирака / Dirac notation\n",
    "\n",
    "$\\newcommand{\\ket}[1]{\\left|{#1}\\right\\rangle} \\newcommand{\\bra}[1]{\\left\\langle{#1}\\right|} \\newcommand{\\braket}[2]{\\left\\langle{#1}\\vert{#2}\\right\\rangle}$\n",
    "$\\overrightarrow{v} = \\ket{v}$ - вектор **кет**\n",
    "\n",
    "$\\overrightarrow{v}^\\dagger = \\overrightarrow{v}^{*T} = \\bra{v}$ - вектор **бра**\n",
    "\n",
    "$\\overrightarrow{u}^\\dagger \\cdot \\overrightarrow{v} = \\braket{u}{v}$ - скалярное вроизведение векторов **бра** и **кет**\n",
    "\n",
    "Можно переписать формулу для измерения вероятности:\n",
    "\n",
    "$Pr(0) = \\braket{v}{0} = a$\n",
    "\n",
    "$Pr(1) = \\braket{v}{1} = b$"
   ]
  },
  {
   "cell_type": "markdown",
   "metadata": {},
   "source": [
    "Example:\n",
    "$\\begin{pmatrix} +i & 1  \\end{pmatrix} \\cdot \\begin{pmatrix} -i \\\\ 1  \\end{pmatrix} = 1 + 1 = 2$"
   ]
  },
  {
   "cell_type": "markdown",
   "metadata": {},
   "source": [
    "## Тензорное произведение / [Kronecker product](https://en.wikipedia.org/wiki/Kronecker_product)\n",
    "\n",
    "$\\ket{00} = \\ket{0} \\otimes \\ket{0} = \\begin{pmatrix} 1 \\\\ 0 \\\\ \\end{pmatrix} \\otimes \\begin{pmatrix} 1 \\\\ 0 \\\\ \\end{pmatrix} = \\begin{pmatrix} 1 \\cdot \\begin{pmatrix} 1 \\\\ 0 \\\\ \\end{pmatrix} \\\\ 0 \\cdot \\begin{pmatrix} 1 \\\\ 0 \\\\ \\end{pmatrix} \\\\ \\end{pmatrix} = \\begin{pmatrix} 1 \\\\ 0 \\\\ 0 \\\\ 0 \\\\ \\end{pmatrix}$\n",
    "\n",
    "$\\ket{01} = \\ket{0} \\otimes \\ket{1} = \\begin{pmatrix} 1 \\\\ 0 \\\\ \\end{pmatrix} \\otimes \\begin{pmatrix} 0 \\\\ 1 \\\\ \\end{pmatrix} = \\begin{pmatrix} 1 \\cdot \\begin{pmatrix} 0 \\\\ 1 \\\\ \\end{pmatrix} \\\\ 0 \\cdot \\begin{pmatrix} 0 \\\\ 1 \\\\ \\end{pmatrix} \\\\ \\end{pmatrix} = \\begin{pmatrix} 0 \\\\ 1 \\\\ 0 \\\\ 0 \\\\ \\end{pmatrix}$\n",
    "\n",
    "$\\ldots$"
   ]
  },
  {
   "cell_type": "markdown",
   "metadata": {},
   "source": [
    "## Несколько вероятностных бит / Multiple Probabilistic Bits\n",
    "\n",
    "Рассмотрим на примере двух монеток $u$ и $v$, орёл и решку обозначим за $0$ и $1$.\n",
    "\n",
    "Запишем состояния:\n",
    "\n",
    "$\\ket{u} = \\frac{1}{2} \\ket{0_u} + \\frac{1}{2} \\ket{1_u}$\n",
    "\n",
    "$\\ket{v} = \\frac{1}{2} \\ket{0_v} + \\frac{1}{2} \\ket{1_v}$, где $1_u$ обозначает исход $1$ у монетки $u$.\n",
    "\n",
    "У системы из двух монеток есть 4 варианта исходов: $\\left\\{ 0_u 0_v, 0_u 1_v, 1_u 0_v, 1_u 1_v \\right\\}$ - это и есть базис состояний четырёхмерного векторного пространства.\n",
    "\n",
    "**Комбинированное состояние** системы можно выразить через тензорное произведение: $\\ket{uv} = \\ket{u} \\otimes \\ket{v} = \\frac{1}{4}\\ket{0_u 0_v} + \\frac{1}{4}\\ket{0_u 1_v} + \\frac{1}{4}\\ket{1_u 0_v} + \\frac{1}{4}\\ket{1_u 1_v}$.\n",
    "\n",
    "Таким образом, **комбинированное пространство** это просто тензорное произведение всех пар базисных векторов меньших пространств.\n",
    "\n",
    "Можно встретить и такое обозначение: $\\otimes_{i=0}^{n-1}\\ket{v_i} = \\ket{v_0} \\otimes \\ket{v_1} \\otimes \\ldots \\otimes \\ket{v_{n-1}} = \\ket{v_0 v_1 \\ldots v_{n-1}}$"
   ]
  },
  {
   "cell_type": "markdown",
   "metadata": {},
   "source": [
    "^-- \"классика\" --^"
   ]
  },
  {
   "cell_type": "code",
   "execution_count": null,
   "metadata": {
    "collapsed": true
   },
   "outputs": [],
   "source": []
  },
  {
   "cell_type": "code",
   "execution_count": null,
   "metadata": {
    "collapsed": true
   },
   "outputs": [],
   "source": []
  },
  {
   "cell_type": "markdown",
   "metadata": {},
   "source": [
    "v-- квантовая механика начнётся здесь --v"
   ]
  },
  {
   "cell_type": "markdown",
   "metadata": {},
   "source": [
    "## Кубиты / Qubits\n",
    "\n",
    "Квантовый бит, который называется **кубитом**, является квантовым аналогом классического бита, у него тоже есть два возможных исхода после измерения.\n",
    "\n",
    "Кубит тоже может быть представлен в векторном пространстве - только вместо действительных коэффициентов будут комплексные.\n",
    "\n",
    "**Система** из кубита это двумерное комплексное векторное пространство, а **состояние** кубита - комплексный вектор в этом пространстве.\n",
    "\n",
    "Задаём пространство исходов: $\\left\\{ \\ket{0}, \\ket{1} \\right\\}$, тогда состояние произвольного кубита запишется следующим образом: $\\alpha \\ket{0} + \\beta \\ket{1}$. Так как коэффициенты могут быть мнимыми, то они не могут интерпретироваться как вероятности соответствующих исходов. Вместо этого перепишем формулы для вычисления вероятностей:\n",
    "$$Pr(0) = \\left\\vert\\braket{v}{0}\\right\\vert^2 = \\left\\vert\\alpha\\right\\vert^2 = \\alpha \\cdot \\alpha^* \\in R,$$\n",
    "$$Pr(1) = \\left\\vert\\braket{v}{1}\\right\\vert^2 = \\left\\vert\\beta\\right\\vert^2, \\alpha \\in C$$\n",
    "$$\\left\\vert\\alpha\\right\\vert^2 + \\left\\vert\\beta\\right\\vert^2 = 1.$$"
   ]
  },
  {
   "cell_type": "markdown",
   "metadata": {},
   "source": [
    "$|\\begin{pmatrix} \\alpha^* & \\beta^* \\\\ \\end{pmatrix} \\begin{pmatrix} 1 \\\\ 0 \\\\ \\end{pmatrix}|^2 = |\\alpha^*|^2$"
   ]
  },
  {
   "cell_type": "markdown",
   "metadata": {},
   "source": [
    "$a+ib$\n",
    "\n",
    "Длина: $\\sqrt{a^2 + b^2}$"
   ]
  },
  {
   "cell_type": "markdown",
   "metadata": {},
   "source": [
    "# Добавить про Собственные значения/векторы матриц"
   ]
  },
  {
   "cell_type": "code",
   "execution_count": null,
   "metadata": {
    "collapsed": true
   },
   "outputs": [],
   "source": []
  },
  {
   "cell_type": "markdown",
   "metadata": {},
   "source": [
    "## Теория  про кубиты\n",
    "\n",
    "Как и бит, кубит допускает два собственных состояния, обозначаемых |0> и |1> (обозначения Дирака), но при этом может находиться и в их суперпозиции, то есть в состоянии A|0> + B|1>, где B — комплексные числа, удовлетворяющие условию $|A|^{2}+|B|^{2}=1$.\n",
    "\n",
    "При любом измерении состояния кубита он случайно переходит в одно из своих собственных состояний. Вероятности перехода в эти состояния равны соответственно $|A|^{2}$ и $|B|^{2}$, то есть косвенно, по наблюдениям за множеством кубитов, мы всё-таки можем судить об исходном состоянии."
   ]
  },
  {
   "cell_type": "markdown",
   "metadata": {},
   "source": [
    "$\\ket{v}= \\alpha \\ket{0} + \\beta \\ket{1}$"
   ]
  },
  {
   "cell_type": "markdown",
   "metadata": {},
   "source": [
    "$(1+\\alpha * i,  4+\\beta * i)$"
   ]
  },
  {
   "cell_type": "markdown",
   "metadata": {},
   "source": [
    "## Сфера Блоха / Bloch Sphere\n",
    "\n",
    "Этот переход к комплескным векторам означает слудующее - вместо того, чтобы представлять вектор состояния на плоскости, мы будем представлять его на сфере.\n",
    "\n",
    "<img src=img/02_bloch.png width=500px>\n",
    "\n",
    "<p style=\"text-align: center;\"> [Source](https://www.researchgate.net/publication/236883187_Quantum_Search_Algorithms_Quantum_Wireless_and_a_Low-Complexity_Maximum_Likelihood_Iterative_Quantum_Multi-User_Detector_Design) </p>\n",
    "\n",
    "Состояние из нескольких кубит может быть точно так же представлено, если взять тензорные произведения пространств и состояний. Таким образом, система из $n$ кубит будет иметь $2^n$ возможных состояний."
   ]
  },
  {
   "cell_type": "markdown",
   "metadata": {},
   "source": [
    "## Операции над кубитами / Qubits Operations\n",
    "\n",
    "### На примере IBM Q Experience [*Composer*](https://quantumexperience.ng.bluemix.net/qx/editor)\n",
    "\n",
    "<img src=\"img/05_composer.jpg\" width=\"300px\">\n",
    "\n",
    "Так выглядит простейшая квантовая цепь, состоящая из гейтов Адамара ($H$) и $CNOT$. В конце стоят блоки, которые отвечают за измерение состояния кубит в базисе $\\sigma^z$.\n",
    "\n",
    "<img src=\"img/06_simulation.jpg\" width=\"600px\">\n",
    "\n",
    "Результаты симуляции.\n",
    "\n",
    "\n",
    "Начнём с простых операторов: тождественный оператор $I = \\begin{pmatrix} 1 & 0 \\\\ 0 & 1 \\end{pmatrix}$ и NOT оператор $X = \\begin{pmatrix} 0 & 1 \\\\ 1 & 0 \\end{pmatrix}$.\n",
    "\n",
    "Квантовые состояния могут быть представлены как комплексные векторы на сфере Блоха, а квантовые операции как матрицы со следующими свойствами:\n",
    "- Обратимость ($U^{-1} = U^\\dagger = U^{*T}$)\n",
    "- Если их применить к вектору, лежащему на сфере Блоха, то результирующий вектор тоже будет лежать на сфере Блоха\n",
    "\n",
    "Матрицы, которые удовлетворяют указанным свойствам, называются **унитарными**. Операция == Матрица == **Гейт**.\n",
    "\n",
    "Рассмотрим действие тождественного оператора:\n",
    "$$I \\ket{0} = \\begin{pmatrix} 1 & 0 \\\\ 0 & 1 \\end{pmatrix} \\begin{pmatrix} 1 \\\\ 0 \\end{pmatrix} = \\begin{pmatrix} 1 \\\\ 0 \\end{pmatrix} = \\ket{0},$$\n",
    "$$I \\ket{1} = \\begin{pmatrix} 1 & 0 \\\\ 0 & 1 \\end{pmatrix} \\begin{pmatrix} 0 \\\\ 1 \\end{pmatrix} = \\begin{pmatrix} 0 \\\\ 1 \\end{pmatrix} = \\ket{1}.$$\n",
    "\n",
    "Действие оператора NOT:\n",
    "$$X \\ket{0} = \\begin{pmatrix} 0 & 1 \\\\ 1 & 0 \\end{pmatrix} \\begin{pmatrix} 1 \\\\ 0 \\end{pmatrix} = \\begin{pmatrix} 0 \\\\ 1 \\end{pmatrix} = \\ket{1},$$\n",
    "$$X \\ket{1} = \\begin{pmatrix} 0 & 1 \\\\ 1 & 0 \\end{pmatrix} \\begin{pmatrix} 0 \\\\ 1 \\end{pmatrix} = \\begin{pmatrix} 1 \\\\ 0 \\end{pmatrix} = \\ket{0}.$$\n",
    "\n",
    "## Операторы Паули / Pauli Operators\n",
    "\n",
    "$X = \\begin{pmatrix} 0 & 1 \\\\ 1 & 0 \\end{pmatrix}$, $Y = \\begin{pmatrix} 0 & -i \\\\ i & 0 \\end{pmatrix}$, $Z = \\begin{pmatrix} 1 & 0 \\\\ 0 & -1 \\end{pmatrix}$.\n",
    "\n",
    "$\\sigma_1, \\sigma_2, \\sigma_3$\n",
    "\n",
    "Матрицы Паули осуществляют поворот на 180 градусов вектора, который представляет состояние кубита на сфере Блоха. Например, гейт $X$ осуществляет поворот вокруг оси $x$ на 180 градусов\n",
    "\n",
    "## Операции над несколькими кубитами / Multi-Qubit Operations\n",
    "\n",
    "Наиболее распространённым примером служит гейт Controlled-NOT (CNOT), который применяется к двум кубитам: $CNOT = \\begin{pmatrix} 1 & 0 & 0 & 0 \\\\ 0 & 1 & 0 & 0 \\\\ 0 & 0 & 0 & 1 \\\\ 0 & 0 & 1 & 0 \\end{pmatrix}$\n",
    "\n",
    "Состояние второго кубита меняется на противоположное тогда и только тогда, когда состояние первого кубита $\\ket{1}$.\n",
    "\n",
    "Другой пример двухкубитного гейта: $SWAP = \\begin{pmatrix} 1 & 0 & 0 & 0 \\\\ 0 & 0 & 1 & 0 \\\\ 0 & 1 & 0 & 0 \\\\ 0 & 0 & 0 & 1 \\end{pmatrix}$, который меняет состояния $\\ket{10}$ и $\\ket{01}$ местами.\n",
    "\n",
    "## Гейт Адамара / Hadamard Gate\n",
    "\n",
    "$H = \\frac{1}{\\sqrt{2}}\\begin{pmatrix} 1 & 1 \\\\ 1 & -1 \\end{pmatrix}$:\n",
    "\n",
    "$H\\ket{0} = \\frac{1}{\\sqrt{2}}\\begin{pmatrix} 1 & 1 \\\\ 1 & -1 \\end{pmatrix} \\begin{pmatrix} 1 \\\\ 0 \\end{pmatrix} = \\frac{1}{\\sqrt{2}} \\begin{pmatrix} 1 \\\\ 1 \\end{pmatrix} = \\frac{1}{\\sqrt{2}} \\left(\\ket{0} + \\ket{1}\\right) = \\ket{+}$,\n",
    "\n",
    "$H\\ket{1} = \\frac{1}{\\sqrt{2}}\\begin{pmatrix} 1 & 1 \\\\ 1 & -1 \\end{pmatrix} \\begin{pmatrix} 0 \\\\ 1 \\end{pmatrix} = \\frac{1}{\\sqrt{2}} \\begin{pmatrix} 1 \\\\ -1 \\end{pmatrix} = \\frac{1}{\\sqrt{2}} \\left(\\ket{0} - \\ket{1}\\right) = \\ket{-}$.\n",
    "\n",
    "Можно видеть, что оба вектора таких состояний лежат на \"экваторе\" сферы Блоха. Вероятности обнаружить $0$ или $1$ после измерения одинаковы и равны $\\frac{1}{2}$.\n",
    "\n",
    "Таким образом, кубит в одном из таких состояний представляет монетку, которая равновероятно может упасть на орла или решку."
   ]
  },
  {
   "cell_type": "markdown",
   "metadata": {},
   "source": [
    "# Иерархия: высокоуровневый язык программирования -> низкоуровневый компилятор\n",
    "\n",
    "<img src='img/07_hierarchy.jpg'>\n",
    "<p style=\"text-align: center;\"> [Source](https://www.nature.com/articles/nature18648) </p>"
   ]
  }
 ],
 "metadata": {
  "kernelspec": {
   "display_name": "Python 3",
   "language": "python",
   "name": "python3"
  },
  "language_info": {
   "codemirror_mode": {
    "name": "ipython",
    "version": 3
   },
   "file_extension": ".py",
   "mimetype": "text/x-python",
   "name": "python",
   "nbconvert_exporter": "python",
   "pygments_lexer": "ipython3",
   "version": "3.6.4"
  }
 },
 "nbformat": 4,
 "nbformat_minor": 2
}

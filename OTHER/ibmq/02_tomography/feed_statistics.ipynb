{
 "cells": [
  {
   "cell_type": "code",
   "execution_count": 41,
   "metadata": {
    "collapsed": true
   },
   "outputs": [],
   "source": [
    "import pickle\n",
    "\n",
    "with open('data/tomography_results.pkl', 'rb') as file:\n",
    "    tomography_results = pickle.load(file)\n",
    "    \n",
    "shots = 1024\n",
    "\n",
    "gates = ['Id', 'RxPi', 'RxPi2', 'RyPi2']"
   ]
  },
  {
   "cell_type": "code",
   "execution_count": 2,
   "metadata": {},
   "outputs": [
    {
     "name": "stdout",
     "output_type": "stream",
     "text": [
      "{'=_Id_=': {'0': 1024}, '=_Id_RxPi2': {'1': 512, '0': 512}, '=_Id_RyPi2': {'0': 515, '1': 509}, 'RxPi_Id_=': {'1': 1024}, 'RxPi_Id_RxPi2': {'0': 515, '1': 509}, 'RxPi_Id_RyPi2': {'1': 494, '0': 530}, 'RxPi2_Id_=': {'0': 501, '1': 523}, 'RxPi2_Id_RxPi2': {'1': 1024}, 'RxPi2_Id_RyPi2': {'0': 533, '1': 491}, 'RyPi2_Id_=': {'0': 513, '1': 511}, 'RyPi2_Id_RxPi2': {'1': 521, '0': 503}, 'RyPi2_Id_RyPi2': {'1': 1024}}\n",
      "{'=_RxPi_=': {'1': 1024}, '=_RxPi_RxPi2': {'0': 529, '1': 495}, '=_RxPi_RyPi2': {'1': 537, '0': 487}, 'RxPi_RxPi_=': {'0': 1024}, 'RxPi_RxPi_RxPi2': {'1': 514, '0': 510}, 'RxPi_RxPi_RyPi2': {'1': 507, '0': 517}, 'RxPi2_RxPi_=': {'1': 503, '0': 521}, 'RxPi2_RxPi_RxPi2': {'0': 1024}, 'RxPi2_RxPi_RyPi2': {'1': 537, '0': 487}, 'RyPi2_RxPi_=': {'1': 494, '0': 530}, 'RyPi2_RxPi_RxPi2': {'0': 500, '1': 524}, 'RyPi2_RxPi_RyPi2': {'1': 1024}}\n",
      "{'=_RxPi2_=': {'1': 521, '0': 503}, '=_RxPi2_RxPi2': {'1': 1024}, '=_RxPi2_RyPi2': {'1': 514, '0': 510}, 'RxPi_RxPi2_=': {'1': 525, '0': 499}, 'RxPi_RxPi2_RxPi2': {'0': 1024}, 'RxPi_RxPi2_RyPi2': {'1': 544, '0': 480}, 'RxPi2_RxPi2_=': {'1': 1024}, 'RxPi2_RxPi2_RxPi2': {'1': 513, '0': 511}, 'RxPi2_RxPi2_RyPi2': {'1': 518, '0': 506}, 'RyPi2_RxPi2_=': {'1': 503, '0': 521}, 'RyPi2_RxPi2_RxPi2': {'0': 534, '1': 490}, 'RyPi2_RxPi2_RyPi2': {'1': 1024}}\n",
      "{'=_RyPi2_=': {'1': 481, '0': 543}, '=_RyPi2_RxPi2': {'0': 513, '1': 511}, '=_RyPi2_RyPi2': {'1': 1024}, 'RxPi_RyPi2_=': {'1': 505, '0': 519}, 'RxPi_RyPi2_RxPi2': {'1': 537, '0': 487}, 'RxPi_RyPi2_RyPi2': {'0': 1024}, 'RxPi2_RyPi2_=': {'1': 526, '0': 498}, 'RxPi2_RyPi2_RxPi2': {'1': 1024}, 'RxPi2_RyPi2_RyPi2': {'0': 507, '1': 517}, 'RyPi2_RyPi2_=': {'1': 1024}, 'RyPi2_RyPi2_RxPi2': {'1': 526, '0': 498}, 'RyPi2_RyPi2_RyPi2': {'1': 507, '0': 517}}\n"
     ]
    }
   ],
   "source": [
    "for gate in gates:\n",
    "    print(tomography_results[gate])"
   ]
  },
  {
   "cell_type": "code",
   "execution_count": 27,
   "metadata": {},
   "outputs": [
    {
     "data": {
      "text/plain": [
       "{'=_RyPi2_=': {'0': 543, '1': 481},\n",
       " '=_RyPi2_RxPi2': {'0': 513, '1': 511},\n",
       " '=_RyPi2_RyPi2': {'0': 0, '1': 1024},\n",
       " 'RxPi2_RyPi2_=': {'0': 498, '1': 526},\n",
       " 'RxPi2_RyPi2_RxPi2': {'0': 0, '1': 1024},\n",
       " 'RxPi2_RyPi2_RyPi2': {'0': 507, '1': 517},\n",
       " 'RxPi_RyPi2_=': {'0': 519, '1': 505},\n",
       " 'RxPi_RyPi2_RxPi2': {'0': 487, '1': 537},\n",
       " 'RxPi_RyPi2_RyPi2': {'0': 1024, '1': 0},\n",
       " 'RyPi2_RyPi2_=': {'0': 0, '1': 1024},\n",
       " 'RyPi2_RyPi2_RxPi2': {'0': 498, '1': 526},\n",
       " 'RyPi2_RyPi2_RyPi2': {'0': 517, '1': 507}}"
      ]
     },
     "execution_count": 27,
     "metadata": {},
     "output_type": "execute_result"
    }
   ],
   "source": [
    "all_states = ['0', '1']\n",
    "\n",
    "for gate in gates:\n",
    "    for circuit in tomography_results[gate]:\n",
    "        for state in all_states:\n",
    "            if state not in tomography_results[gate][circuit]:\n",
    "                # Assign 0 number of occurrences.\n",
    "                tomography_results[gate][circuit][state] = 0\n",
    "            \n",
    "tomography_results[gate]"
   ]
  },
  {
   "cell_type": "code",
   "execution_count": 28,
   "metadata": {
    "collapsed": true
   },
   "outputs": [],
   "source": [
    "initial_states = {\n",
    "    '0': '=',\n",
    "    '1': 'RxPi',\n",
    "    'R': 'RxPi2',\n",
    "    '+': 'RyPi2'\n",
    "}\n",
    "\n",
    "bases = {\n",
    "    'x': 'RyPi2',\n",
    "    'y': 'RxPi2',\n",
    "    'z': '='\n",
    "}"
   ]
  },
  {
   "cell_type": "code",
   "execution_count": 33,
   "metadata": {},
   "outputs": [],
   "source": [
    "result = dict()\n",
    "\n",
    "for gate in gates:\n",
    "    if gate not in result:\n",
    "        result[gate] = dict()\n",
    "\n",
    "    for initial_state in initial_states:\n",
    "\n",
    "        for basis in ['x', 'y', 'z']:\n",
    "            tmp = '_'.join([initial_states[initial_state],\n",
    "                            gate,\n",
    "                            bases[basis]])\n",
    "\n",
    "            if initial_state not in result[gate]:\n",
    "                result[gate][initial_state] = list()\n",
    "\n",
    "            result[gate][initial_state].append(tomography_results[gate][tmp]['0'])\n",
    "            result[gate][initial_state].append(tomography_results[gate][tmp]['1'])"
   ]
  },
  {
   "cell_type": "code",
   "execution_count": 36,
   "metadata": {},
   "outputs": [
    {
     "data": {
      "text/plain": [
       "{'Id': {'+': [0, 1024, 503, 521, 513, 511],\n",
       "  '0': [515, 509, 512, 512, 1024, 0],\n",
       "  '1': [530, 494, 515, 509, 0, 1024],\n",
       "  'R': [533, 491, 0, 1024, 501, 523]},\n",
       " 'RxPi': {'+': [0, 1024, 500, 524, 530, 494],\n",
       "  '0': [487, 537, 529, 495, 0, 1024],\n",
       "  '1': [517, 507, 510, 514, 1024, 0],\n",
       "  'R': [487, 537, 1024, 0, 521, 503]},\n",
       " 'RxPi2': {'+': [0, 1024, 534, 490, 521, 503],\n",
       "  '0': [510, 514, 0, 1024, 503, 521],\n",
       "  '1': [480, 544, 1024, 0, 499, 525],\n",
       "  'R': [506, 518, 511, 513, 0, 1024]},\n",
       " 'RyPi2': {'+': [517, 507, 498, 526, 0, 1024],\n",
       "  '0': [0, 1024, 513, 511, 543, 481],\n",
       "  '1': [1024, 0, 487, 537, 519, 505],\n",
       "  'R': [507, 517, 0, 1024, 498, 526]}}"
      ]
     },
     "execution_count": 36,
     "metadata": {},
     "output_type": "execute_result"
    }
   ],
   "source": [
    "result"
   ]
  },
  {
   "cell_type": "code",
   "execution_count": 37,
   "metadata": {
    "collapsed": true
   },
   "outputs": [],
   "source": [
    "with open('statistics.pkl', 'wb') as f:\n",
    "    pickle.dump(result, f)"
   ]
  },
  {
   "cell_type": "code",
   "execution_count": 38,
   "metadata": {
    "collapsed": true
   },
   "outputs": [],
   "source": [
    "import pickle\n",
    "\n",
    "with open('statistics.pkl', 'rb') as f:\n",
    "    statistics = pickle.load(f)"
   ]
  },
  {
   "cell_type": "code",
   "execution_count": 44,
   "metadata": {},
   "outputs": [
    {
     "data": {
      "text/plain": [
       "{'+': [0, 1024, 503, 521, 513, 511],\n",
       " '0': [515, 509, 512, 512, 1024, 0],\n",
       " '1': [530, 494, 515, 509, 0, 1024],\n",
       " 'R': [533, 491, 0, 1024, 501, 523]}"
      ]
     },
     "execution_count": 44,
     "metadata": {},
     "output_type": "execute_result"
    }
   ],
   "source": [
    "statistics['Id']"
   ]
  },
  {
   "cell_type": "code",
   "execution_count": 43,
   "metadata": {},
   "outputs": [
    {
     "data": {
      "text/plain": [
       "{'Id': {'=_Id_=': {'0': 1024},\n",
       "  '=_Id_RxPi2': {'0': 512, '1': 512},\n",
       "  '=_Id_RyPi2': {'0': 515, '1': 509},\n",
       "  'RxPi2_Id_=': {'0': 501, '1': 523},\n",
       "  'RxPi2_Id_RxPi2': {'1': 1024},\n",
       "  'RxPi2_Id_RyPi2': {'0': 533, '1': 491},\n",
       "  'RxPi_Id_=': {'1': 1024},\n",
       "  'RxPi_Id_RxPi2': {'0': 515, '1': 509},\n",
       "  'RxPi_Id_RyPi2': {'0': 530, '1': 494},\n",
       "  'RyPi2_Id_=': {'0': 513, '1': 511},\n",
       "  'RyPi2_Id_RxPi2': {'0': 503, '1': 521},\n",
       "  'RyPi2_Id_RyPi2': {'1': 1024}},\n",
       " 'RxPi': {'=_RxPi_=': {'1': 1024},\n",
       "  '=_RxPi_RxPi2': {'0': 529, '1': 495},\n",
       "  '=_RxPi_RyPi2': {'0': 487, '1': 537},\n",
       "  'RxPi2_RxPi_=': {'0': 521, '1': 503},\n",
       "  'RxPi2_RxPi_RxPi2': {'0': 1024},\n",
       "  'RxPi2_RxPi_RyPi2': {'0': 487, '1': 537},\n",
       "  'RxPi_RxPi_=': {'0': 1024},\n",
       "  'RxPi_RxPi_RxPi2': {'0': 510, '1': 514},\n",
       "  'RxPi_RxPi_RyPi2': {'0': 517, '1': 507},\n",
       "  'RyPi2_RxPi_=': {'0': 530, '1': 494},\n",
       "  'RyPi2_RxPi_RxPi2': {'0': 500, '1': 524},\n",
       "  'RyPi2_RxPi_RyPi2': {'1': 1024}},\n",
       " 'RxPi2': {'=_RxPi2_=': {'0': 503, '1': 521},\n",
       "  '=_RxPi2_RxPi2': {'1': 1024},\n",
       "  '=_RxPi2_RyPi2': {'0': 510, '1': 514},\n",
       "  'RxPi2_RxPi2_=': {'1': 1024},\n",
       "  'RxPi2_RxPi2_RxPi2': {'0': 511, '1': 513},\n",
       "  'RxPi2_RxPi2_RyPi2': {'0': 506, '1': 518},\n",
       "  'RxPi_RxPi2_=': {'0': 499, '1': 525},\n",
       "  'RxPi_RxPi2_RxPi2': {'0': 1024},\n",
       "  'RxPi_RxPi2_RyPi2': {'0': 480, '1': 544},\n",
       "  'RyPi2_RxPi2_=': {'0': 521, '1': 503},\n",
       "  'RyPi2_RxPi2_RxPi2': {'0': 534, '1': 490},\n",
       "  'RyPi2_RxPi2_RyPi2': {'1': 1024}},\n",
       " 'RyPi2': {'=_RyPi2_=': {'0': 543, '1': 481},\n",
       "  '=_RyPi2_RxPi2': {'0': 513, '1': 511},\n",
       "  '=_RyPi2_RyPi2': {'1': 1024},\n",
       "  'RxPi2_RyPi2_=': {'0': 498, '1': 526},\n",
       "  'RxPi2_RyPi2_RxPi2': {'1': 1024},\n",
       "  'RxPi2_RyPi2_RyPi2': {'0': 507, '1': 517},\n",
       "  'RxPi_RyPi2_=': {'0': 519, '1': 505},\n",
       "  'RxPi_RyPi2_RxPi2': {'0': 487, '1': 537},\n",
       "  'RxPi_RyPi2_RyPi2': {'0': 1024},\n",
       "  'RyPi2_RyPi2_=': {'1': 1024},\n",
       "  'RyPi2_RyPi2_RxPi2': {'0': 498, '1': 526},\n",
       "  'RyPi2_RyPi2_RyPi2': {'0': 517, '1': 507}}}"
      ]
     },
     "execution_count": 43,
     "metadata": {},
     "output_type": "execute_result"
    }
   ],
   "source": [
    "tomography_results"
   ]
  },
  {
   "cell_type": "code",
   "execution_count": null,
   "metadata": {
    "collapsed": true
   },
   "outputs": [],
   "source": []
  },
  {
   "cell_type": "code",
   "execution_count": null,
   "metadata": {
    "collapsed": true
   },
   "outputs": [],
   "source": []
  }
 ],
 "metadata": {
  "kernelspec": {
   "display_name": "Python 3",
   "language": "python",
   "name": "python3"
  },
  "language_info": {
   "codemirror_mode": {
    "name": "ipython",
    "version": 3
   },
   "file_extension": ".py",
   "mimetype": "text/x-python",
   "name": "python",
   "nbconvert_exporter": "python",
   "pygments_lexer": "ipython3",
   "version": "3.6.4"
  }
 },
 "nbformat": 4,
 "nbformat_minor": 2
}

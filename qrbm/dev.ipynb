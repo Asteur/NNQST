{
 "cells": [
  {
   "cell_type": "code",
   "execution_count": 1,
   "metadata": {
    "collapsed": true
   },
   "outputs": [],
   "source": [
    "import pandas as pd\n",
    "import numpy as np\n",
    "import matplotlib.pyplot as plt\n",
    "%matplotlib inline"
   ]
  },
  {
   "cell_type": "code",
   "execution_count": 2,
   "metadata": {
    "collapsed": true
   },
   "outputs": [],
   "source": [
    "import numpy as np\n",
    "from scipy.optimize import minimize\n",
    "from scipy.optimize import fmin_bfgs\n",
    "\n",
    "import pyquil.quil as pq\n",
    "import pyquil.api as api\n",
    "from pyquil.paulis import *\n",
    "from pyquil.gates import *\n",
    "\n",
    "from grove.pyqaoa.qaoa import QAOA\n",
    "from grove.pyvqe.vqe import VQE\n",
    "\n",
    "import json\n",
    "import copy\n",
    "\n",
    "\n",
    "class qRBM:\n",
    "    \"\"\"Quantum-Classical Hybrid RBM implementation.\"\"\"\n",
    "    def __init__(self, QM, num_visible, num_hidden, n_qaoa_steps=1, beta_temp=2.0, n_quantum_measurements=None, verbose=False):\n",
    "        \"\"\"Create an RBM with the specified number of visible and hidden units.\n",
    "\n",
    "        Args:\n",
    "            QM (rigetti QVM connection): QVM connection for which to use for\n",
    "                quantum circuit simulation.\n",
    "            num_visible (int): Number of visible units in RBM.\n",
    "            num_hidden (int): Number of hidden units in RBM.\n",
    "            n_qaoa_steps (int): Defaults to 1.\n",
    "            beta_temp (float): Defaults to 2.0.\n",
    "            n_quantum_measurements (int): Number of measuremants to use for\n",
    "                quantum expectation estimation (default to None which does\n",
    "                analytical expectation). Defaults to None.\n",
    "            verbose (bool): Verbosity of qRBM. Defaults to False.\n",
    "\n",
    "        \"\"\"\n",
    "        self.n_visible = num_visible\n",
    "        self.n_hidden = num_hidden\n",
    "        self.qvm = QM\n",
    "        self.verbose = verbose\n",
    "        self.n_quantum_measurements = n_quantum_measurements\n",
    "        self.n_qaoa_steps = n_qaoa_steps\n",
    "        self.beta_temp = beta_temp\n",
    "\n",
    "        # Only want this for built-in expectation calculations.\n",
    "        self.vqe_inst = VQE(minimizer=minimize,\n",
    "                            minimizer_kwargs={'method': 'nelder-mead'})\n",
    "        self.state_prep_angle = np.arctan(np.exp(-self.beta_temp / 2.0)) * 2.0\n",
    "        self.WEIGHTS = np.asarray(np.random.uniform(\n",
    "                                  low=-0.1 * np.sqrt(6. / (num_hidden + num_visible)),\n",
    "                                  high=0.1 * np.sqrt(6. / (num_hidden + num_visible)),\n",
    "                                  size=(num_visible, num_hidden)))\n",
    "\n",
    "        self.BIAS = np.asarray(np.random.uniform(\n",
    "                               low=-0.1 * np.sqrt(6. / (num_hidden + num_visible)),\n",
    "                               high=0.1 * np.sqrt(6. / (num_hidden + num_visible)),\n",
    "                               size=(num_hidden)))\n",
    "\n",
    "    def make_unclamped_QAOA(self):\n",
    "        \"\"\"Internal helper function for building QAOA circuit to get RBM expectation\n",
    "        using Rigetti Quantum simulator.\n",
    "\n",
    "        Returns:\n",
    "            nus (list): Optimal parameters for cost hamiltonians in each\n",
    "                layer of QAOA.\n",
    "            gammas (list): Optimal parameters for mixer hamiltonians in each\n",
    "                layer of QAOA\n",
    "            para_prog (fxn closure): fxn to return QAOA circuit for any\n",
    "                supplied nus and gammas\n",
    "\n",
    "        \"\"\"\n",
    "        visible_indices = [i for i in range(0, self.n_visible)]\n",
    "        hidden_indices = [i + self.n_visible for i in range(0, self.n_hidden)]\n",
    "\n",
    "        full_cost_operator = []\n",
    "        full_mixer_operator = []\n",
    "\n",
    "        for i in visible_indices:\n",
    "            for j in hidden_indices:\n",
    "                full_cost_operator.append(PauliSum([PauliTerm(\"Z\", i, -1.0 * self.WEIGHTS[i][j - self.n_visible]) * PauliTerm(\"Z\", j, 1.0)]))\n",
    "\n",
    "        for i in hidden_indices + visible_indices:\n",
    "            full_mixer_operator.append(PauliSum([PauliTerm(\"X\", i, 1.0)]))\n",
    "\n",
    "        n_system = len(visible_indices) + len(hidden_indices)\n",
    "\n",
    "        state_prep = pq.Program()\n",
    "        for i in visible_indices + hidden_indices:\n",
    "            tmp = pq.Program()\n",
    "            tmp.inst(RX(self.state_prep_angle, i + n_system), CNOT(i + n_system, i))\n",
    "            state_prep += tmp\n",
    "\n",
    "        full_QAOA = QAOA(self.qvm,\n",
    "                         n_qubits=n_system,\n",
    "                         steps=self.n_qaoa_steps,\n",
    "                         ref_hamiltonian=full_mixer_operator,\n",
    "                         cost_ham=full_cost_operator,\n",
    "                         driver_ref=state_prep,\n",
    "                         store_basis=True,\n",
    "                         minimizer=fmin_bfgs,\n",
    "                         minimizer_kwargs={'maxiter': 50},\n",
    "                         vqe_options={'samples': self.n_quantum_measurements},\n",
    "                         rand_seed=1234)\n",
    "\n",
    "        nus, gammas = full_QAOA.get_angles()\n",
    "\n",
    "        if self.verbose:\n",
    "            print('Found following values for nus and gammas from QAOA:')\n",
    "            print(nus)\n",
    "            print(gammas)\n",
    "            print('-' * 80)\n",
    "\n",
    "        program = full_QAOA.get_parameterized_program()\n",
    "\n",
    "        return nus, gammas, program\n",
    "\n",
    "    def sigmoid(self, x):\n",
    "        \"\"\"Simple helper function to compute sigmoid across data matrix\n",
    "        where the rows are samples.\n",
    "\n",
    "        Args:\n",
    "            x (array): Matrix of data where rows are samples.\n",
    "\n",
    "        Returns:\n",
    "            array: That same matrix but with sigmoid applied to entries\n",
    "\n",
    "        \"\"\"\n",
    "        return 1.0 / (1.0 + np.exp(-x))\n",
    "\n",
    "    def train(self, DATA, learning_rate=0.1, n_epochs=100, quantum_percentage=1.0, classical_percentage=0.0):\n",
    "        \"\"\"Train an RBM with mixture of quantum and classical update rules.\n",
    "\n",
    "        Args:\n",
    "            DATA (list): Matrix with rows as data samples.\n",
    "            learning_rate (float): The learning rate used in the update rule by the RBM. Defaults to 0.1.\n",
    "            n_epochs (int): Number of weight update loops to do over RBM weights. Defaults to 100.\n",
    "            quantum_percentage (float): Fraction of update rule to be dictated by quantum circuit. Defaults to 1.0.\n",
    "            classical_percentage (float): Fraction of update rule to be dictated by classical CD-1. Defaults to 0.0.\n",
    "\n",
    "        NOTE: quantum_percentage + classical_percentage = 1.0 must hold!!!\n",
    "\n",
    "        \"\"\"\n",
    "        assert(quantum_percentage + classical_percentage == 1.0)\n",
    "\n",
    "        DATA = np.asarray(DATA)\n",
    "\n",
    "        for epoch in range(n_epochs):\n",
    "\n",
    "            print('Beginning epoch', epoch)\n",
    "\n",
    "            visible_indices = [i for i in range(0, self.n_visible)]\n",
    "            hidden_indices = [i + self.n_visible for i in range(0, self.n_hidden)]\n",
    "\n",
    "            new_weights = copy.deepcopy(self.WEIGHTS)\n",
    "            new_bias = copy.deepcopy(self.BIAS)\n",
    "\n",
    "            # v------angles------v and program--v\n",
    "            model_nus, model_gammas, model_para_prog = self.make_unclamped_QAOA()\n",
    "            model_sampling_prog = model_para_prog(np.hstack((model_nus, model_gammas)))\n",
    "\n",
    "            print('Found model expectation program...')\n",
    "\n",
    "            neg_phase_quantum = np.zeros_like(self.WEIGHTS)\n",
    "\n",
    "            for a in range(self.n_visible):\n",
    "                for b in range(self.n_hidden):\n",
    "                    model_expectation = self.vqe_inst.expectation(model_sampling_prog, sZ(visible_indices[a]) * sZ(hidden_indices[b]),\n",
    "                                                                  self.n_quantum_measurements, self.qvm)\n",
    "\n",
    "                    neg_phase_quantum[a][b] = model_expectation\n",
    "\n",
    "            # Follow all standard conventions.\n",
    "            hidden_probs = self.sigmoid(np.dot(DATA, self.WEIGHTS))\n",
    "            pos_phase = np.dot(DATA.T, hidden_probs) / len(DATA)\n",
    "\n",
    "            pos_hidden_states = hidden_probs > np.random.rand(len(DATA), self.n_hidden)\n",
    "\n",
    "            neg_visible_activations = np.dot(pos_hidden_states, self.WEIGHTS.T)\n",
    "            neg_visible_probs = self.sigmoid(neg_visible_activations)\n",
    "\n",
    "            neg_hidden_activations = np.dot(neg_visible_probs, self.WEIGHTS)\n",
    "            neg_hidden_probs = self.sigmoid(neg_hidden_activations)\n",
    "\n",
    "            neg_phase_classical = np.dot(neg_visible_probs.T, neg_hidden_probs) / len(DATA)\n",
    "\n",
    "            if self.verbose:\n",
    "                print('POSITIVE PHASE')\n",
    "                print(pos_phase)\n",
    "                print('NEGATIVE PHASE (QUANTUM)')\n",
    "                print(neg_phase_quantum)\n",
    "                print('NEGATIVE PHASE (CLASSICAL)')\n",
    "                print(neg_phase_classical)\n",
    "                print('WEIGHTS')\n",
    "                print(self.WEIGHTS)\n",
    "                print('-' * 80)\n",
    "\n",
    "            # Can update weights with weighted avg of quantum and classical.\n",
    "            new_weights += learning_rate * (pos_phase -\n",
    "                                            (classical_percentage * neg_phase_classical +\n",
    "                                             quantum_percentage * neg_phase_quantum))\n",
    "\n",
    "            self.WEIGHTS = copy.deepcopy(new_weights)\n",
    "            self.BIAS = copy.deepcopy(new_bias)\n",
    "\n",
    "            with open(\"RBM_info.txt\", \"w\") as myfile:\n",
    "                myfile.write(json.dumps(list(self.WEIGHTS.tolist())) + '\\n')\n",
    "                myfile.write(json.dumps(list(self.BIAS.tolist())) + '\\n')\n",
    "\n",
    "            with open(\"RBM_history.txt\", \"a\") as myfile:\n",
    "                myfile.write(json.dumps(list(self.WEIGHTS.tolist())) + '\\n')\n",
    "                myfile.write(json.dumps(list(self.BIAS.tolist())) + '\\n')\n",
    "                myfile.write(str('-' * 80) + '\\n')\n",
    "\n",
    "            print('')\n",
    "\n",
    "        print('Training Done!')\n",
    "\n",
    "    def transform(self, x):\n",
    "        \"\"\"Transforms vectors from visible to hidden.\n",
    "\n",
    "        Args:\n",
    "            x (list): Matrix containing rows that are data samples.\n",
    "\n",
    "        Returns:\n",
    "            list: The hidden layers invoked from the samples in data matrix.\n",
    "\n",
    "        \"\"\"\n",
    "        return self.sigmoid(np.dot(x, self.WEIGHTS))\n"
   ]
  },
  {
   "cell_type": "code",
   "execution_count": null,
   "metadata": {
    "collapsed": true
   },
   "outputs": [],
   "source": []
  },
  {
   "cell_type": "code",
   "execution_count": null,
   "metadata": {
    "collapsed": true
   },
   "outputs": [],
   "source": []
  },
  {
   "cell_type": "code",
   "execution_count": null,
   "metadata": {
    "collapsed": true
   },
   "outputs": [],
   "source": []
  },
  {
   "cell_type": "code",
   "execution_count": null,
   "metadata": {
    "collapsed": true
   },
   "outputs": [],
   "source": []
  },
  {
   "cell_type": "code",
   "execution_count": 3,
   "metadata": {
    "collapsed": true
   },
   "outputs": [],
   "source": [
    "from pyquil.quil import Program\n",
    "from pyquil.paulis import PauliSum, PauliTerm, exponentiate, exponential_map, trotterize\n",
    "from pyquil.gates import MEASURE, H, Z, RX, RZ, CZ\n",
    "import numpy as np"
   ]
  },
  {
   "cell_type": "code",
   "execution_count": 27,
   "metadata": {
    "collapsed": true
   },
   "outputs": [],
   "source": [
    "from numpy import pi\n",
    "theta = pi/3\n",
    "xy = PauliTerm('X', 0) * PauliTerm('Y', 1, 1j/3)"
   ]
  },
  {
   "cell_type": "code",
   "execution_count": 28,
   "metadata": {
    "scrolled": true
   },
   "outputs": [
    {
     "name": "stdout",
     "output_type": "stream",
     "text": [
      "0.3333333333333333j*X0*Y1\n"
     ]
    }
   ],
   "source": [
    "print(xy)"
   ]
  },
  {
   "cell_type": "code",
   "execution_count": 29,
   "metadata": {},
   "outputs": [
    {
     "name": "stdout",
     "output_type": "stream",
     "text": [
      "0.3333333333333333j*X0*Y1\n"
     ]
    }
   ],
   "source": [
    "print(PauliSum([xy]))"
   ]
  },
  {
   "cell_type": "code",
   "execution_count": null,
   "metadata": {
    "collapsed": true
   },
   "outputs": [],
   "source": []
  }
 ],
 "metadata": {
  "kernelspec": {
   "display_name": "Python 3",
   "language": "python",
   "name": "python3"
  },
  "language_info": {
   "codemirror_mode": {
    "name": "ipython",
    "version": 3
   },
   "file_extension": ".py",
   "mimetype": "text/x-python",
   "name": "python",
   "nbconvert_exporter": "python",
   "pygments_lexer": "ipython3",
   "version": "3.6.4"
  }
 },
 "nbformat": 4,
 "nbformat_minor": 2
}

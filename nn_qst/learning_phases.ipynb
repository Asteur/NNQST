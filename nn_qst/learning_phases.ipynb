{
 "cells": [
  {
   "cell_type": "code",
   "execution_count": 203,
   "metadata": {
    "collapsed": true
   },
   "outputs": [],
   "source": [
    "import pandas as pd\n",
    "import numpy as np\n",
    "import matplotlib.pyplot as plt\n",
    "%matplotlib inline"
   ]
  },
  {
   "cell_type": "code",
   "execution_count": 204,
   "metadata": {
    "collapsed": true
   },
   "outputs": [],
   "source": [
    "def apply_k(value: int):\n",
    "    assert value in [0, 1]\n",
    " \n",
    "    res = dict()\n",
    "    if value == 0:\n",
    "        res[0] = 1 / np.sqrt(2)\n",
    "        res[1] = 1 / np.sqrt(2)\n",
    "    elif value == 1:\n",
    "        res[0] = -1j / np.sqrt(2)\n",
    "        res[1] = 1j / np.sqrt(2)\n",
    "    return res\n",
    "\n",
    "\n",
    "def apply_h(value: int):\n",
    "    assert value in [0, 1]\n",
    " \n",
    "    res = dict()\n",
    "    if value == 0:\n",
    "        res[0] = 1 / np.sqrt(2)\n",
    "        res[1] = 1 / np.sqrt(2)\n",
    "    elif value == 1:\n",
    "        res[0] = 1 / np.sqrt(2)\n",
    "        res[1] = -1 / np.sqrt(2)\n",
    "    return res"
   ]
  },
  {
   "cell_type": "code",
   "execution_count": 205,
   "metadata": {
    "collapsed": true
   },
   "outputs": [],
   "source": [
    "operations = 'hh'\n",
    "h_indices = [x[0] for x in enumerate(operations) if x[1] == 'h']\n",
    "k_indices = [x[0] for x in enumerate(operations) if x[1] == 'k']"
   ]
  },
  {
   "cell_type": "code",
   "execution_count": 206,
   "metadata": {},
   "outputs": [
    {
     "data": {
      "text/plain": [
       "{(0, 0): 1}"
      ]
     },
     "execution_count": 206,
     "metadata": {},
     "output_type": "execute_result"
    }
   ],
   "source": [
    "all_states = dict()\n",
    "state = (0, 0)\n",
    "all_states[state] = 1  # Coefficient.\n",
    "all_states"
   ]
  },
  {
   "cell_type": "code",
   "execution_count": 207,
   "metadata": {},
   "outputs": [
    {
     "name": "stdout",
     "output_type": "stream",
     "text": [
      "H 0\n",
      "{(0, 0): 0.7071067811865475, (1, 0): 0.7071067811865475}\n",
      "H 1\n",
      "{(0, 0): 0.4999999999999999, (1, 0): 0.4999999999999999, (0, 1): 0.4999999999999999, (1, 1): 0.4999999999999999}\n",
      "=======\n",
      "Result:\n",
      "{(0, 0): 0.4999999999999999, (1, 0): 0.4999999999999999, (0, 1): 0.4999999999999999, (1, 1): 0.4999999999999999}\n"
     ]
    }
   ],
   "source": [
    "for indices, apply, letter in [(h_indices, apply_h, 'H'), (k_indices, apply_k, 'K')]:\n",
    "    for i in indices:\n",
    "        # It's necessary to save keys before iterating over dict.\n",
    "        all_states_copy = all_states.copy()\n",
    "        for s in all_states_copy:\n",
    "            # Apply operation to i'th qubit.\n",
    "            applied = apply(s[i])\n",
    "            for v in applied:\n",
    "                tmp = s[:i] + (v,) + s[i + 1:]\n",
    "                if tmp in all_states:\n",
    "                    all_states[tmp] *= applied[v]\n",
    "                else:\n",
    "                    all_states[tmp] = all_states_copy[s] * applied[v]\n",
    "\n",
    "        print(letter, i)\n",
    "        print(all_states)\n",
    "\n",
    "print('=======')\n",
    "print('Result:')\n",
    "print(all_states)"
   ]
  }
 ],
 "metadata": {
  "kernelspec": {
   "display_name": "Python 3",
   "language": "python",
   "name": "python3"
  },
  "language_info": {
   "codemirror_mode": {
    "name": "ipython",
    "version": 3
   },
   "file_extension": ".py",
   "mimetype": "text/x-python",
   "name": "python",
   "nbconvert_exporter": "python",
   "pygments_lexer": "ipython3",
   "version": "3.6.4"
  }
 },
 "nbformat": 4,
 "nbformat_minor": 2
}

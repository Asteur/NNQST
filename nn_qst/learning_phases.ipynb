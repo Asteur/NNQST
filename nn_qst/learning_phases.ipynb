{
 "cells": [
  {
   "cell_type": "code",
   "execution_count": 45,
   "metadata": {
    "collapsed": true
   },
   "outputs": [],
   "source": [
    "import pandas as pd\n",
    "import numpy as np\n",
    "import matplotlib.pyplot as plt\n",
    "%matplotlib inline"
   ]
  },
  {
   "cell_type": "code",
   "execution_count": 46,
   "metadata": {},
   "outputs": [
    {
     "name": "stdout",
     "output_type": "stream",
     "text": [
      "The autoreload extension is already loaded. To reload it, use:\n",
      "  %reload_ext autoreload\n"
     ]
    }
   ],
   "source": [
    "%load_ext autoreload\n",
    "%autoreload 2\n",
    "\n",
    "import rbm_qst\n",
    "import rbm_classic\n",
    "\n",
    "import utils\n",
    "import paper_functions"
   ]
  },
  {
   "cell_type": "code",
   "execution_count": 47,
   "metadata": {
    "collapsed": true
   },
   "outputs": [],
   "source": [
    "quantum_system = [(0,0,1),\n",
    "                  (0,1,0),\n",
    "                  (1,0,0)]\n",
    "amplitudes = [1/np.sqrt(3)] * 3\n",
    "phases = [0] * 3\n",
    "\n",
    "operations = \"IHH\"\n",
    "res_1 = utils.system_evolution(quantum_system, operations, amplitudes, phases)"
   ]
  },
  {
   "cell_type": "code",
   "execution_count": 48,
   "metadata": {},
   "outputs": [
    {
     "data": {
      "text/plain": [
       "{(0, 0, 0): (0.5773502691896257+0j),\n",
       " (0, 1, 1): (-0.5773502691896257+0j),\n",
       " (1, 0, 0): (0.28867513459481287+0j),\n",
       " (1, 0, 1): (0.28867513459481287+0j),\n",
       " (1, 1, 0): (0.28867513459481287+0j),\n",
       " (1, 1, 1): (0.28867513459481287+0j)}"
      ]
     },
     "execution_count": 48,
     "metadata": {},
     "output_type": "execute_result"
    }
   ],
   "source": [
    "res_1"
   ]
  },
  {
   "cell_type": "code",
   "execution_count": 50,
   "metadata": {},
   "outputs": [
    {
     "data": {
      "text/plain": [
       "([(0, 1, 1), (1, 1, 0), (0, 0, 0), (1, 0, 0), (1, 1, 1), (1, 0, 1)],\n",
       " [0.5773502691896257,\n",
       "  0.28867513459481287,\n",
       "  0.5773502691896257,\n",
       "  0.28867513459481287,\n",
       "  0.28867513459481287,\n",
       "  0.28867513459481287],\n",
       " [3.141592653589793, 0.0, 0.0, 0.0, 0.0, 0.0])"
      ]
     },
     "execution_count": 50,
     "metadata": {},
     "output_type": "execute_result"
    }
   ],
   "source": [
    "# utils.dict_to_hist(res_1)[:, 1]\n",
    "\n",
    "iteration_1 = utils.dict_to_quantum_system(res_1)\n",
    "iteration_1"
   ]
  },
  {
   "cell_type": "code",
   "execution_count": 51,
   "metadata": {},
   "outputs": [],
   "source": [
    "res_2 = utils.system_evolution(iteration_1[0], operations, iteration_1[1], iteration_1[2])"
   ]
  },
  {
   "cell_type": "code",
   "execution_count": 52,
   "metadata": {},
   "outputs": [
    {
     "data": {
      "text/plain": [
       "([(0, 1, 1), (0, 1, 0), (1, 0, 0), (0, 0, 1), (0, 0, 0)],\n",
       " [3.535250795749689e-17,\n",
       "  0.5773502691896256,\n",
       "  0.5773502691896256,\n",
       "  0.5773502691896256,\n",
       "  3.535250795749689e-17],\n",
       " [1.5707963267948966,\n",
       "  6.283185307179586,\n",
       "  0.0,\n",
       "  6.283185307179586,\n",
       "  1.5707963267948966])"
      ]
     },
     "execution_count": 52,
     "metadata": {},
     "output_type": "execute_result"
    }
   ],
   "source": [
    "iteration_2 = utils.dict_to_quantum_system(res_2)\n",
    "iteration_2"
   ]
  },
  {
   "cell_type": "code",
   "execution_count": 53,
   "metadata": {},
   "outputs": [
    {
     "data": {
      "text/plain": [
       "([(0, 1, 1),\n",
       "  (1, 1, 0),\n",
       "  (1, 1, 1),\n",
       "  (1, 0, 0),\n",
       "  (0, 0, 1),\n",
       "  (1, 0, 1),\n",
       "  (0, 0, 0),\n",
       "  (0, 1, 0)],\n",
       " [0.5773502691896255,\n",
       "  0.28867513459481275,\n",
       "  0.28867513459481275,\n",
       "  0.28867513459481275,\n",
       "  3.266047678191993e-33,\n",
       "  0.28867513459481275,\n",
       "  0.5773502691896255,\n",
       "  3.266047678191993e-33],\n",
       " [3.1415926535897927,\n",
       "  0.0,\n",
       "  0.0,\n",
       "  0.0,\n",
       "  5.050172838746435,\n",
       "  0.0,\n",
       "  6.283185307179586,\n",
       "  5.050172838746435])"
      ]
     },
     "execution_count": 53,
     "metadata": {},
     "output_type": "execute_result"
    }
   ],
   "source": [
    "res_3 = utils.system_evolution(iteration_2[0], operations, iteration_2[1], iteration_2[2])\n",
    "utils.dict_to_quantum_system(res_3)"
   ]
  },
  {
   "cell_type": "code",
   "execution_count": null,
   "metadata": {
    "collapsed": true
   },
   "outputs": [],
   "source": []
  },
  {
   "cell_type": "code",
   "execution_count": null,
   "metadata": {
    "collapsed": true
   },
   "outputs": [],
   "source": []
  },
  {
   "cell_type": "code",
   "execution_count": null,
   "metadata": {
    "collapsed": true
   },
   "outputs": [],
   "source": []
  },
  {
   "cell_type": "code",
   "execution_count": 7,
   "metadata": {},
   "outputs": [
    {
     "data": {
      "text/plain": [
       "array([3.30034177, 4.01299907, 3.00624955])"
      ]
     },
     "execution_count": 7,
     "metadata": {},
     "output_type": "execute_result"
    }
   ],
   "source": [
    "thetas = utils.random_phases(3)\n",
    "thetas"
   ]
  },
  {
   "cell_type": "code",
   "execution_count": 54,
   "metadata": {
    "collapsed": true
   },
   "outputs": [],
   "source": [
    "quantum_system = [(0,0,1),\n",
    "                  (0,1,0),\n",
    "                  (1,0,0)]\n",
    "amplitudes = [1/np.sqrt(3)] * 3\n",
    "phases = thetas\n",
    "\n",
    "operations = utils.U_XX(0, 3)\n",
    "res = utils.system_evolution(quantum_system, operations, amplitudes, phases)"
   ]
  },
  {
   "cell_type": "code",
   "execution_count": 9,
   "metadata": {
    "scrolled": true
   },
   "outputs": [
    {
     "data": {
      "text/plain": [
       "{(0, 0, 0): (-0.4718701184816063-0.18195332005063564j),\n",
       " (0, 0, 1): (-0.2850452753761178-0.04563468329118226j),\n",
       " (0, 1, 0): (-0.10020033698565523+0.25985535670445625j),\n",
       " (0, 1, 1): (-0.2850452753761178-0.04563468329118226j),\n",
       " (1, 0, 0): (0.10020033698565523-0.25985535670445625j),\n",
       " (1, 0, 1): (-0.2850452753761178-0.04563468329118226j),\n",
       " (1, 1, 0): (0.4718701184816063+0.18195332005063564j),\n",
       " (1, 1, 1): (-0.2850452753761178-0.04563468329118226j)}"
      ]
     },
     "execution_count": 9,
     "metadata": {},
     "output_type": "execute_result"
    }
   ],
   "source": [
    "res"
   ]
  },
  {
   "cell_type": "code",
   "execution_count": 10,
   "metadata": {},
   "outputs": [
    {
     "data": {
      "text/plain": [
       "array([[(0, 1, 1), 0.08333333333333333],\n",
       "       [(1, 1, 0), 0.2557684193932943],\n",
       "       [(1, 1, 1), 0.08333333333333333],\n",
       "       [(1, 0, 0), 0.07756491394003905],\n",
       "       [(0, 0, 1), 0.08333333333333333],\n",
       "       [(1, 0, 1), 0.08333333333333333],\n",
       "       [(0, 0, 0), 0.2557684193932943],\n",
       "       [(0, 1, 0), 0.07756491394003905]], dtype=object)"
      ]
     },
     "execution_count": 10,
     "metadata": {},
     "output_type": "execute_result"
    }
   ],
   "source": [
    "hist = utils.dict_to_hist(res)\n",
    "hist"
   ]
  },
  {
   "cell_type": "code",
   "execution_count": 11,
   "metadata": {},
   "outputs": [
    {
     "data": {
      "text/plain": [
       "1.0"
      ]
     },
     "execution_count": 11,
     "metadata": {},
     "output_type": "execute_result"
    }
   ],
   "source": [
    "hist[:, 1].sum()"
   ]
  },
  {
   "cell_type": "code",
   "execution_count": 12,
   "metadata": {},
   "outputs": [
    {
     "data": {
      "text/plain": [
       "array([[1., 1., 0.],\n",
       "       [0., 0., 0.],\n",
       "       [0., 1., 0.],\n",
       "       [1., 0., 1.],\n",
       "       [1., 1., 0.],\n",
       "       [0., 0., 1.],\n",
       "       [1., 0., 0.],\n",
       "       [0., 1., 1.],\n",
       "       [0., 1., 1.],\n",
       "       [1., 1., 1.]])"
      ]
     },
     "execution_count": 12,
     "metadata": {},
     "output_type": "execute_result"
    }
   ],
   "source": [
    "sampled = utils.sample_from_hist(hist, 10)\n",
    "sampled"
   ]
  },
  {
   "cell_type": "code",
   "execution_count": 27,
   "metadata": {},
   "outputs": [
    {
     "data": {
      "text/plain": [
       "dict_keys(['III', 'HHI', 'IHH', 'HKI', 'IHK'])"
      ]
     },
     "execution_count": 27,
     "metadata": {},
     "output_type": "execute_result"
    }
   ],
   "source": [
    "quantum_system = [(0,0,1),\n",
    "                  (0,1,0),\n",
    "                  (1,0,0)]\n",
    "amplitudes = [1 / np.sqrt(3)] * 3\n",
    "phases = thetas\n",
    "\n",
    "num_units = 3\n",
    "num_samples = 100\n",
    "\n",
    "dataset = generate_phases_dataset(quantum_system, amplitudes, phases, num_units, num_samples)\n",
    "dataset.keys()"
   ]
  },
  {
   "cell_type": "code",
   "execution_count": null,
   "metadata": {
    "collapsed": true
   },
   "outputs": [],
   "source": []
  }
 ],
 "metadata": {
  "kernelspec": {
   "display_name": "Python 3",
   "language": "python",
   "name": "python3"
  },
  "language_info": {
   "codemirror_mode": {
    "name": "ipython",
    "version": 3
   },
   "file_extension": ".py",
   "mimetype": "text/x-python",
   "name": "python",
   "nbconvert_exporter": "python",
   "pygments_lexer": "ipython3",
   "version": "3.6.4"
  }
 },
 "nbformat": 4,
 "nbformat_minor": 2
}

{
 "cells": [
  {
   "cell_type": "code",
   "execution_count": 1,
   "metadata": {
    "collapsed": true
   },
   "outputs": [],
   "source": [
    "import pandas as pd\n",
    "import numpy as np\n",
    "import matplotlib.pyplot as plt\n",
    "%matplotlib inline"
   ]
  },
  {
   "cell_type": "code",
   "execution_count": 75,
   "metadata": {},
   "outputs": [],
   "source": [
    "def evolution(state, operations, coefficient=1, verbose=False):\n",
    "    \"\"\"\n",
    "    Args:\n",
    "        state (tuple): State.\n",
    "        operations (str): String consisting of 'i', 'h' and 'k'.\n",
    "        coefficient (complex): Coefficient by given state.\n",
    "\n",
    "    \"\"\"\n",
    "    def apply_k(value: int):\n",
    "        assert value in [0, 1]\n",
    "\n",
    "        res = dict()\n",
    "        if value == 0:\n",
    "            res[0] = 1 / np.sqrt(2)\n",
    "            res[1] = 1 / np.sqrt(2)\n",
    "        elif value == 1:\n",
    "            res[0] = -1j / np.sqrt(2)\n",
    "            res[1] = 1j / np.sqrt(2)\n",
    "        return res\n",
    "\n",
    "\n",
    "    def apply_h(value: int):\n",
    "        assert value in [0, 1]\n",
    "\n",
    "        res = dict()\n",
    "        if value == 0:\n",
    "            res[0] = 1 / np.sqrt(2)\n",
    "            res[1] = 1 / np.sqrt(2)\n",
    "        elif value == 1:\n",
    "            res[0] = 1 / np.sqrt(2)\n",
    "            res[1] = -1 / np.sqrt(2)\n",
    "        return res\n",
    "\n",
    "    all_states = dict()\n",
    "    all_states[state] = coefficient\n",
    "    \n",
    "    h_indices = [x[0] for x in enumerate(operations) if x[1] == 'h']\n",
    "    k_indices = [x[0] for x in enumerate(operations) if x[1] == 'k']\n",
    "    for indices, apply, letter in [(h_indices, apply_h, 'H'), (k_indices, apply_k, 'K')]:\n",
    "        for i in indices:\n",
    "            # It's necessary to save keys before iterating over dict.\n",
    "            all_states_copy = all_states.copy()\n",
    "            for s in all_states_copy:\n",
    "                # Apply operation to i'th qubit.\n",
    "                applied = apply(s[i])\n",
    "                for v in applied:\n",
    "                    tmp = s[:i] + (v,) + s[i + 1:]\n",
    "                    if tmp in all_states:\n",
    "                        all_states[tmp] *= applied[v]\n",
    "                    else:\n",
    "                        all_states[tmp] = all_states_copy[s] * applied[v]\n",
    "            if verbose:\n",
    "                print(letter, i)\n",
    "                print(all_states)\n",
    "\n",
    "    if verbose:\n",
    "        print('=======')\n",
    "        print('Result:')\n",
    "        print(all_states)\n",
    "        \n",
    "    return all_states"
   ]
  },
  {
   "cell_type": "code",
   "execution_count": 76,
   "metadata": {},
   "outputs": [
    {
     "data": {
      "text/plain": [
       "{(0, 0, 1): (1.4999999999999998+1.4999999999999998j),\n",
       " (0, 1, 1): (-1.4999999999999998-1.4999999999999998j),\n",
       " (1, 0, 1): (1.4999999999999998+1.4999999999999998j),\n",
       " (1, 1, 1): (-1.4999999999999998-1.4999999999999998j)}"
      ]
     },
     "execution_count": 76,
     "metadata": {},
     "output_type": "execute_result"
    }
   ],
   "source": [
    "operations = 'hhi'\n",
    "state = (0, 1, 1)\n",
    "evolution(state, operations, 3 + 3j)"
   ]
  },
  {
   "cell_type": "code",
   "execution_count": 31,
   "metadata": {
    "collapsed": true
   },
   "outputs": [],
   "source": [
    "def random_theta(size):\n",
    "    return 2 * np.pi * np.random.random(size)"
   ]
  },
  {
   "cell_type": "code",
   "execution_count": 40,
   "metadata": {},
   "outputs": [
    {
     "data": {
      "text/plain": [
       "array([1.60496718, 4.39039117, 6.22734144, 5.57472062, 5.28481431,\n",
       "       2.05052107, 1.49407648, 2.76397813])"
      ]
     },
     "execution_count": 40,
     "metadata": {},
     "output_type": "execute_result"
    }
   ],
   "source": [
    "num_units = 3\n",
    "\n",
    "thetas = random_theta(2 ** num_units)\n",
    "thetas"
   ]
  }
 ],
 "metadata": {
  "kernelspec": {
   "display_name": "Python 3",
   "language": "python",
   "name": "python3"
  },
  "language_info": {
   "codemirror_mode": {
    "name": "ipython",
    "version": 3
   },
   "file_extension": ".py",
   "mimetype": "text/x-python",
   "name": "python",
   "nbconvert_exporter": "python",
   "pygments_lexer": "ipython3",
   "version": "3.6.4"
  }
 },
 "nbformat": 4,
 "nbformat_minor": 2
}

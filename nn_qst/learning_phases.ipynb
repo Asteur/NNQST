{
 "cells": [
  {
   "cell_type": "code",
   "execution_count": 1,
   "metadata": {
    "collapsed": true
   },
   "outputs": [],
   "source": [
    "import pandas as pd\n",
    "import numpy as np\n",
    "import matplotlib.pyplot as plt\n",
    "%matplotlib inline"
   ]
  },
  {
   "cell_type": "code",
   "execution_count": 2,
   "metadata": {},
   "outputs": [],
   "source": [
    "%load_ext autoreload\n",
    "%autoreload 2\n",
    "\n",
    "import rbm_qst\n",
    "import rbm_classic\n",
    "\n",
    "import utils\n",
    "import utils_phases\n",
    "import paper_functions"
   ]
  },
  {
   "cell_type": "code",
   "execution_count": 3,
   "metadata": {
    "collapsed": true
   },
   "outputs": [],
   "source": [
    "quantum_system = [(0,0,1),\n",
    "                  (0,1,0),\n",
    "                  (1,0,0)]\n",
    "amplitudes = [1/np.sqrt(3)] * 3\n",
    "phases = [0] * 3\n",
    "\n",
    "operations = \"III\"\n",
    "res = utils_phases.system_evolution(quantum_system, operations, amplitudes, phases)"
   ]
  },
  {
   "cell_type": "code",
   "execution_count": 4,
   "metadata": {},
   "outputs": [
    {
     "data": {
      "text/plain": [
       "{(0, 0, 1): (0.5773502691896258+0j),\n",
       " (0, 1, 0): (0.5773502691896258+0j),\n",
       " (1, 0, 0): (0.5773502691896258+0j)}"
      ]
     },
     "execution_count": 4,
     "metadata": {},
     "output_type": "execute_result"
    }
   ],
   "source": [
    "res"
   ]
  },
  {
   "cell_type": "code",
   "execution_count": 5,
   "metadata": {},
   "outputs": [
    {
     "data": {
      "text/plain": [
       "array([0.3333333333333334, 0.3333333333333334, 0.3333333333333334],\n",
       "      dtype=object)"
      ]
     },
     "execution_count": 5,
     "metadata": {},
     "output_type": "execute_result"
    }
   ],
   "source": [
    "utils_phases.dict_to_hist(res)[:, 1]"
   ]
  },
  {
   "cell_type": "code",
   "execution_count": 6,
   "metadata": {},
   "outputs": [
    {
     "data": {
      "text/plain": [
       "([(1, 0, 0), (0, 1, 0), (0, 0, 1)],\n",
       " [0.5773502691896258, 0.5773502691896258, 0.5773502691896258],\n",
       " [0.0, 0.0, 0.0])"
      ]
     },
     "execution_count": 6,
     "metadata": {},
     "output_type": "execute_result"
    }
   ],
   "source": [
    "utils_phases.dict_to_quantum_system(res)"
   ]
  },
  {
   "cell_type": "code",
   "execution_count": 7,
   "metadata": {},
   "outputs": [
    {
     "data": {
      "text/plain": [
       "array([3.30034177, 4.01299907, 3.00624955])"
      ]
     },
     "execution_count": 7,
     "metadata": {},
     "output_type": "execute_result"
    }
   ],
   "source": [
    "thetas = utils_phases.random_phases(3)\n",
    "thetas"
   ]
  },
  {
   "cell_type": "code",
   "execution_count": 8,
   "metadata": {
    "collapsed": true
   },
   "outputs": [],
   "source": [
    "quantum_system = [(0,0,1),\n",
    "                  (0,1,0),\n",
    "                  (1,0,0)]\n",
    "amplitudes = [1/np.sqrt(3)] * 3\n",
    "phases = thetas\n",
    "\n",
    "operations = utils_phases.U_XX(0, 3)\n",
    "res = utils_phases.system_evolution(quantum_system, operations, amplitudes, phases)"
   ]
  },
  {
   "cell_type": "code",
   "execution_count": 9,
   "metadata": {
    "scrolled": true
   },
   "outputs": [
    {
     "data": {
      "text/plain": [
       "{(0, 0, 0): (-0.4718701184816063-0.18195332005063564j),\n",
       " (0, 0, 1): (-0.2850452753761178-0.04563468329118226j),\n",
       " (0, 1, 0): (-0.10020033698565523+0.25985535670445625j),\n",
       " (0, 1, 1): (-0.2850452753761178-0.04563468329118226j),\n",
       " (1, 0, 0): (0.10020033698565523-0.25985535670445625j),\n",
       " (1, 0, 1): (-0.2850452753761178-0.04563468329118226j),\n",
       " (1, 1, 0): (0.4718701184816063+0.18195332005063564j),\n",
       " (1, 1, 1): (-0.2850452753761178-0.04563468329118226j)}"
      ]
     },
     "execution_count": 9,
     "metadata": {},
     "output_type": "execute_result"
    }
   ],
   "source": [
    "res"
   ]
  },
  {
   "cell_type": "code",
   "execution_count": 10,
   "metadata": {},
   "outputs": [
    {
     "data": {
      "text/plain": [
       "array([[(0, 1, 1), 0.08333333333333333],\n",
       "       [(1, 1, 0), 0.2557684193932943],\n",
       "       [(1, 1, 1), 0.08333333333333333],\n",
       "       [(1, 0, 0), 0.07756491394003905],\n",
       "       [(0, 0, 1), 0.08333333333333333],\n",
       "       [(1, 0, 1), 0.08333333333333333],\n",
       "       [(0, 0, 0), 0.2557684193932943],\n",
       "       [(0, 1, 0), 0.07756491394003905]], dtype=object)"
      ]
     },
     "execution_count": 10,
     "metadata": {},
     "output_type": "execute_result"
    }
   ],
   "source": [
    "hist = utils_phases.dict_to_hist(res)\n",
    "hist"
   ]
  },
  {
   "cell_type": "code",
   "execution_count": 11,
   "metadata": {},
   "outputs": [
    {
     "data": {
      "text/plain": [
       "1.0"
      ]
     },
     "execution_count": 11,
     "metadata": {},
     "output_type": "execute_result"
    }
   ],
   "source": [
    "hist[:, 1].sum()"
   ]
  },
  {
   "cell_type": "code",
   "execution_count": 12,
   "metadata": {},
   "outputs": [
    {
     "data": {
      "text/plain": [
       "array([[1., 1., 0.],\n",
       "       [0., 0., 0.],\n",
       "       [0., 1., 0.],\n",
       "       [1., 0., 1.],\n",
       "       [1., 1., 0.],\n",
       "       [0., 0., 1.],\n",
       "       [1., 0., 0.],\n",
       "       [0., 1., 1.],\n",
       "       [0., 1., 1.],\n",
       "       [1., 1., 1.]])"
      ]
     },
     "execution_count": 12,
     "metadata": {},
     "output_type": "execute_result"
    }
   ],
   "source": [
    "sampled = utils_phases.sample_from_hist(hist, 10)\n",
    "sampled"
   ]
  },
  {
   "cell_type": "code",
   "execution_count": 16,
   "metadata": {},
   "outputs": [
    {
     "data": {
      "text/plain": [
       "dict_keys(['HHI', 'IHH', 'HKI', 'IHK'])"
      ]
     },
     "execution_count": 16,
     "metadata": {},
     "output_type": "execute_result"
    }
   ],
   "source": [
    "quantum_system = [(0,0,1),\n",
    "                  (0,1,0),\n",
    "                  (1,0,0)]\n",
    "amplitudes = [1 / np.sqrt(3)] * 3\n",
    "phases = thetas\n",
    "\n",
    "num_units = 3\n",
    "num_samples = 10\n",
    "\n",
    "phases_dataset = dict()\n",
    "\n",
    "for j in range(num_units - 1):\n",
    "    operations = utils_phases.U_XX(j, num_units)\n",
    "    res = utils_phases.system_evolution(quantum_system, operations, amplitudes, phases)  # Resulting states and coefficients.\n",
    "    hist = utils_phases.dict_to_hist(res)  # States and corresponding probabilities.\n",
    "    phases_dataset[operations] = utils_phases.sample_from_hist(hist, num_samples)\n",
    "    \n",
    "for j in range(num_units - 1):\n",
    "    operations = utils_phases.U_XY(j, num_units)\n",
    "    res = utils_phases.system_evolution(quantum_system, operations, amplitudes, phases)  # Resulting states and coefficients.\n",
    "    hist = utils_phases.dict_to_hist(res)  # States and corresponding probabilities.\n",
    "    phases_dataset[operations] = utils_phases.sample_from_hist(hist, num_samples)\n",
    "    \n",
    "phases_dataset.keys()"
   ]
  }
 ],
 "metadata": {
  "kernelspec": {
   "display_name": "Python 3",
   "language": "python",
   "name": "python3"
  },
  "language_info": {
   "codemirror_mode": {
    "name": "ipython",
    "version": 3
   },
   "file_extension": ".py",
   "mimetype": "text/x-python",
   "name": "python",
   "nbconvert_exporter": "python",
   "pygments_lexer": "ipython3",
   "version": "3.6.4"
  }
 },
 "nbformat": 4,
 "nbformat_minor": 2
}

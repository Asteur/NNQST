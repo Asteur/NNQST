{
 "cells": [
  {
   "cell_type": "code",
   "execution_count": 1,
   "metadata": {
    "collapsed": true
   },
   "outputs": [],
   "source": [
    "import pandas as pd\n",
    "import numpy as np\n",
    "import matplotlib.pyplot as plt\n",
    "%matplotlib inline"
   ]
  },
  {
   "cell_type": "code",
   "execution_count": 75,
   "metadata": {},
   "outputs": [],
   "source": [
    "def evolution(state, operations, coefficient=1, verbose=False):\n",
    "    \"\"\"\n",
    "    Args:\n",
    "        state (tuple): State.\n",
    "        operations (str): String consisting of 'i', 'h' and 'k'.\n",
    "        coefficient (complex): Coefficient by given state.\n",
    "\n",
    "    \"\"\"\n",
    "    def apply_k(value: int):\n",
    "        assert value in [0, 1]\n",
    "\n",
    "        res = dict()\n",
    "        if value == 0:\n",
    "            res[0] = 1 / np.sqrt(2)\n",
    "            res[1] = 1 / np.sqrt(2)\n",
    "        elif value == 1:\n",
    "            res[0] = -1j / np.sqrt(2)\n",
    "            res[1] = 1j / np.sqrt(2)\n",
    "        return res\n",
    "\n",
    "\n",
    "    def apply_h(value: int):\n",
    "        assert value in [0, 1]\n",
    "\n",
    "        res = dict()\n",
    "        if value == 0:\n",
    "            res[0] = 1 / np.sqrt(2)\n",
    "            res[1] = 1 / np.sqrt(2)\n",
    "        elif value == 1:\n",
    "            res[0] = 1 / np.sqrt(2)\n",
    "            res[1] = -1 / np.sqrt(2)\n",
    "        return res\n",
    "\n",
    "    all_states = dict()\n",
    "    all_states[state] = coefficient\n",
    "    \n",
    "    h_indices = [x[0] for x in enumerate(operations) if x[1] == 'h']\n",
    "    k_indices = [x[0] for x in enumerate(operations) if x[1] == 'k']\n",
    "    for indices, apply, letter in [(h_indices, apply_h, 'H'), (k_indices, apply_k, 'K')]:\n",
    "        for i in indices:\n",
    "            # It's necessary to save keys before iterating over dict.\n",
    "            all_states_copy = all_states.copy()\n",
    "            for s in all_states_copy:\n",
    "                # Apply operation to i'th qubit.\n",
    "                applied = apply(s[i])\n",
    "                for v in applied:\n",
    "                    tmp = s[:i] + (v,) + s[i + 1:]\n",
    "                    if tmp in all_states:\n",
    "                        all_states[tmp] *= applied[v]\n",
    "                    else:\n",
    "                        all_states[tmp] = all_states_copy[s] * applied[v]\n",
    "            if verbose:\n",
    "                print(letter, i)\n",
    "                print(all_states)\n",
    "\n",
    "    if verbose:\n",
    "        print('=======')\n",
    "        print('Result:')\n",
    "        print(all_states)\n",
    "        \n",
    "    return all_states"
   ]
  },
  {
   "cell_type": "code",
   "execution_count": 127,
   "metadata": {},
   "outputs": [
    {
     "data": {
      "text/plain": [
       "{(0, 0, 1): (0.03623577544766736+0.09320390859672262j),\n",
       " (0, 1, 1): (-0.03623577544766736-0.09320390859672262j),\n",
       " (1, 0, 1): (0.03623577544766736+0.09320390859672262j),\n",
       " (1, 1, 1): (-0.03623577544766736-0.09320390859672262j)}"
      ]
     },
     "execution_count": 127,
     "metadata": {},
     "output_type": "execute_result"
    }
   ],
   "source": [
    "operations = 'hhi'\n",
    "\n",
    "state1 = (0, 1, 1)\n",
    "ampl1 = 0.2\n",
    "phase1 = 1.2\n",
    "res1 = evolution(state1, operations, ampl1 * np.exp(1j * phase1))\n",
    "res1"
   ]
  },
  {
   "cell_type": "code",
   "execution_count": 128,
   "metadata": {},
   "outputs": [
    {
     "data": {
      "text/plain": [
       "{(0, 0, 1): (0.03623577544766736+0.09320390859672262j),\n",
       " (0, 1, 1): (0.03623577544766736+0.09320390859672262j),\n",
       " (1, 0, 1): (-0.03623577544766736-0.09320390859672262j),\n",
       " (1, 1, 1): (-0.03623577544766736-0.09320390859672262j)}"
      ]
     },
     "execution_count": 128,
     "metadata": {},
     "output_type": "execute_result"
    }
   ],
   "source": [
    "state2 = (1, 0, 1)\n",
    "# ampl2 = -0.1\n",
    "# phase2 = 0.9\n",
    "ampl2 = 0.2\n",
    "phase2 = 1.2\n",
    "res2 = evolution(state2, operations, ampl2 * np.exp(1j * phase2))\n",
    "res2"
   ]
  },
  {
   "cell_type": "code",
   "execution_count": 129,
   "metadata": {
    "collapsed": true
   },
   "outputs": [],
   "source": [
    "def merge_dicts(dict1, dict2):\n",
    "    tmp = {k: dict1.get(k, 0) + dict2.get(k, 0) for k in set(dict1) | set(dict2)}\n",
    "    res = {k: tmp[k] for k in tmp if abs(tmp[k]) > 0.0}\n",
    "    return res"
   ]
  },
  {
   "cell_type": "code",
   "execution_count": 130,
   "metadata": {},
   "outputs": [],
   "source": [
    "merged = merge_dicts(res1, res2)"
   ]
  },
  {
   "cell_type": "code",
   "execution_count": 131,
   "metadata": {},
   "outputs": [
    {
     "data": {
      "text/plain": [
       "{(0, 0, 1): (0.07247155089533472+0.18640781719344524j),\n",
       " (1, 1, 1): (-0.07247155089533472-0.18640781719344524j)}"
      ]
     },
     "execution_count": 131,
     "metadata": {},
     "output_type": "execute_result"
    }
   ],
   "source": [
    "merged"
   ]
  },
  {
   "cell_type": "code",
   "execution_count": 152,
   "metadata": {},
   "outputs": [
    {
     "data": {
      "text/plain": [
       "{(0, 0, 0): (-0.049003328892062076-0.00993346653975306j),\n",
       " (0, 0, 1): (0.6055447451264193+0.2343422953711606j),\n",
       " (0, 1, 0): (-0.049003328892062076-0.00993346653975306j),\n",
       " (0, 1, 1): (-0.22341014947617704-0.1161342127066248j),\n",
       " (1, 0, 0): (-0.049003328892062076-0.00993346653975306j),\n",
       " (1, 0, 1): (-0.6055447451264193-0.2343422953711606j),\n",
       " (1, 1, 0): (-0.049003328892062076-0.00993346653975306j),\n",
       " (1, 1, 1): (0.22341014947617704+0.1161342127066248j)}"
      ]
     },
     "execution_count": 152,
     "metadata": {},
     "output_type": "execute_result"
    }
   ],
   "source": [
    "operations = 'hhi'\n",
    "quantum_system = [(0,0,0), (1,0,1), (1,1,1)]\n",
    "amplitudes = [-0.1, 0.4, 0.9]\n",
    "phases = [0.2, 0.3, 0.4]\n",
    "\n",
    "total = dict()\n",
    "for i in range(len(quantum_system)):\n",
    "    tmp = evolution(quantum_system[i], operations, amplitudes[i] * np.exp(1j * phases[i]))\n",
    "    total = merge_dicts(total, tmp)\n",
    "    \n",
    "total"
   ]
  },
  {
   "cell_type": "code",
   "execution_count": null,
   "metadata": {
    "collapsed": true
   },
   "outputs": [],
   "source": []
  },
  {
   "cell_type": "code",
   "execution_count": 136,
   "metadata": {
    "collapsed": true
   },
   "outputs": [],
   "source": [
    "def random_phases(size):\n",
    "    return 2 * np.pi * np.random.random(size)"
   ]
  },
  {
   "cell_type": "code",
   "execution_count": 137,
   "metadata": {},
   "outputs": [
    {
     "data": {
      "text/plain": [
       "array([5.52340384, 2.90789221, 2.00846437, 4.57811354, 5.68869502,\n",
       "       4.63920372, 1.60674179, 0.58597221])"
      ]
     },
     "execution_count": 137,
     "metadata": {},
     "output_type": "execute_result"
    }
   ],
   "source": [
    "num_units = 3\n",
    "\n",
    "thetas = random_phases(2 ** num_units)\n",
    "thetas"
   ]
  },
  {
   "cell_type": "code",
   "execution_count": null,
   "metadata": {
    "collapsed": true
   },
   "outputs": [],
   "source": []
  }
 ],
 "metadata": {
  "kernelspec": {
   "display_name": "Python 3",
   "language": "python",
   "name": "python3"
  },
  "language_info": {
   "codemirror_mode": {
    "name": "ipython",
    "version": 3
   },
   "file_extension": ".py",
   "mimetype": "text/x-python",
   "name": "python",
   "nbconvert_exporter": "python",
   "pygments_lexer": "ipython3",
   "version": "3.6.4"
  }
 },
 "nbformat": 4,
 "nbformat_minor": 2
}

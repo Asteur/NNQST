{
 "cells": [
  {
   "cell_type": "code",
   "execution_count": 1,
   "metadata": {
    "collapsed": true
   },
   "outputs": [],
   "source": [
    "import pandas as pd\n",
    "import numpy as np\n",
    "import matplotlib.pyplot as plt\n",
    "%matplotlib inline"
   ]
  },
  {
   "cell_type": "code",
   "execution_count": 2,
   "metadata": {
    "collapsed": true
   },
   "outputs": [],
   "source": [
    "%load_ext autoreload\n",
    "%autoreload 2\n",
    "from utils import *"
   ]
  },
  {
   "cell_type": "code",
   "execution_count": 3,
   "metadata": {},
   "outputs": [
    {
     "name": "stdout",
     "output_type": "stream",
     "text": [
      "The autoreload extension is already loaded. To reload it, use:\n",
      "  %reload_ext autoreload\n"
     ]
    }
   ],
   "source": [
    "%load_ext autoreload\n",
    "%autoreload 2\n",
    "from rbm_qst import RBM"
   ]
  },
  {
   "cell_type": "code",
   "execution_count": 383,
   "metadata": {},
   "outputs": [
    {
     "name": "stdout",
     "output_type": "stream",
     "text": [
      "0.9\n"
     ]
    }
   ],
   "source": [
    "n_vis = 10  # Number of visible neurons.\n",
    "n_hid = 9  # Number of hidden neurons.\n",
    "\n",
    "ratio = n_hid / n_vis  # Expressive power.\n",
    "\n",
    "print(ratio)"
   ]
  },
  {
   "cell_type": "markdown",
   "metadata": {},
   "source": [
    "# Dataset generation for simplest W state"
   ]
  },
  {
   "cell_type": "code",
   "execution_count": 384,
   "metadata": {},
   "outputs": [
    {
     "name": "stdout",
     "output_type": "stream",
     "text": [
      "[ 0.  0.  0.  0.  0.  0.  1.  0.  0.  0.]\n"
     ]
    },
    {
     "data": {
      "image/png": "[encoded data removed]",
      "text/plain": [
       "<matplotlib.figure.Figure at 0x10804f470>"
      ]
     },
     "metadata": {},
     "output_type": "display_data"
    }
   ],
   "source": [
    "num_samples = 100\n",
    "\n",
    "sparsed_states = np.eye(n_vis)\n",
    "random_indices = np.random.randint(0, n_vis, num_samples)\n",
    "dataset = []\n",
    "for i in random_indices:\n",
    "    dataset.append(sparsed_states[i])\n",
    "\n",
    "dataset = np.array(dataset)\n",
    "print(dataset[0])\n",
    "\n",
    "plt.hist(random_indices, bins=n_vis);"
   ]
  },
  {
   "cell_type": "markdown",
   "metadata": {},
   "source": [
    "# Calculating gradient"
   ]
  },
  {
   "cell_type": "code",
   "execution_count": 385,
   "metadata": {},
   "outputs": [
    {
     "data": {
      "text/plain": [
       "{'W': array([[ 0.05956665,  0.0382901 ,  0.0934186 ,  0.04290065,  0.12050537,\n",
       "          0.07179589,  0.04402046,  0.06802827,  0.07960534,  0.05998158],\n",
       "        [ 0.07948438,  0.04034746,  0.09627401,  0.03856823,  0.10526916,\n",
       "          0.07665113,  0.05922961,  0.0758443 ,  0.09566589,  0.05504962],\n",
       "        [ 0.06572289,  0.03912026,  0.09209506,  0.04378705,  0.10664917,\n",
       "          0.07663542,  0.04874636,  0.0575728 ,  0.09080995,  0.05078702],\n",
       "        [ 0.08674887,  0.05077832,  0.10187702,  0.04776871,  0.11993283,\n",
       "          0.07607365,  0.06705298,  0.0824626 ,  0.10086178,  0.06614961],\n",
       "        [ 0.07900208,  0.04237903,  0.10263336,  0.0475869 ,  0.10396398,\n",
       "          0.08117886,  0.06466775,  0.07213599,  0.08522879,  0.0660172 ],\n",
       "        [ 0.06118361,  0.04173895,  0.07565553,  0.03116108,  0.087813  ,\n",
       "          0.0543844 ,  0.04633233,  0.06783256,  0.07882494,  0.04830686],\n",
       "        [ 0.08195409,  0.04332498,  0.10948587,  0.04451362,  0.1333641 ,\n",
       "          0.07787877,  0.0667323 ,  0.07535005,  0.08532317,  0.06307831],\n",
       "        [ 0.09017269,  0.05006337,  0.0905226 ,  0.05062112,  0.12420759,\n",
       "          0.07366134,  0.06631925,  0.07264986,  0.09373051,  0.05842032],\n",
       "        [ 0.08162111,  0.04418302,  0.08909592,  0.0464499 ,  0.11174979,\n",
       "          0.07976498,  0.06235632,  0.08015064,  0.09889504,  0.05980268]]),\n",
       " 'b': array([ 0.10941266,  0.05951497,  0.12854762,  0.05942074,  0.15902902,\n",
       "         0.09906632,  0.07843151,  0.09896739,  0.11841112,  0.07919864]),\n",
       " 'c': array([ 0.67811291,  0.72238379,  0.67192597,  0.79970637,  0.74479396,\n",
       "         0.59323325,  0.78100528,  0.77036865,  0.75406938])}"
      ]
     },
     "execution_count": 385,
     "metadata": {},
     "output_type": "execute_result"
    }
   ],
   "source": [
    "params = {\n",
    "    \"lambda\": {\n",
    "        \"W\": np.random.random((n_hid, n_vis)),  # Weights matrix.\n",
    "        \"b\": np.random.random(n_vis),  # Biases to visible neurons.\n",
    "        \"c\": np.random.random(n_hid)  # Biases to hidden neurons.\n",
    "    },\n",
    "\n",
    "    \"mu\": {\n",
    "        \"W\": np.random.random((n_hid, n_vis)),\n",
    "        \"b\": np.random.random(n_vis),\n",
    "        \"c\": np.random.random(n_hid)\n",
    "    }\n",
    "}\n",
    "\n",
    "grad_lambda_ksi(dataset, params)"
   ]
  },
  {
   "cell_type": "markdown",
   "metadata": {
    "collapsed": true
   },
   "source": [
    "# RBM Training..."
   ]
  },
  {
   "cell_type": "code",
   "execution_count": 107,
   "metadata": {
    "collapsed": true
   },
   "outputs": [],
   "source": [
    "n_vis = 5  # Number of visible neurons.\n",
    "n_hid = 5  # Number of hidden neurons.\n",
    "\n",
    "params = {\n",
    "    \"lambda\": {\n",
    "        \"W\": np.random.random((n_hid, n_vis)),\n",
    "        \"b\": np.random.random(n_vis),\n",
    "        \"c\": np.random.random(n_hid)\n",
    "    },\n",
    "\n",
    "    \"mu\": {\n",
    "        \"W\": np.random.random((n_hid, n_vis)),\n",
    "        \"b\": np.random.random(n_vis),\n",
    "        \"c\": np.random.random(n_hid)\n",
    "    }\n",
    "}\n",
    "\n",
    "r = RBM(n_vis, n_hid, params, debug_print=True)"
   ]
  },
  {
   "cell_type": "code",
   "execution_count": 380,
   "metadata": {},
   "outputs": [],
   "source": [
    "r.train(dataset, max_epochs=1000, learning_rate=0.01)"
   ]
  },
  {
   "cell_type": "markdown",
   "metadata": {},
   "source": [
    "# Research..."
   ]
  },
  {
   "cell_type": "code",
   "execution_count": 345,
   "metadata": {},
   "outputs": [
    {
     "data": {
      "image/png": "[encoded data removed]",
      "text/plain": [
       "<matplotlib.figure.Figure at 0x108747c88>"
      ]
     },
     "metadata": {},
     "output_type": "display_data"
    }
   ],
   "source": [
    "n_vis = 5\n",
    "n_hid = 5\n",
    "\n",
    "num_samples = 500\n",
    "sparsed_states = np.eye(n_vis)\n",
    "random_indices = np.random.randint(0, n_vis, num_samples)\n",
    "dataset = []\n",
    "for i in random_indices:\n",
    "    dataset.append(sparsed_states[i])\n",
    "dataset = np.array(dataset)\n",
    "\n",
    "plt.hist(random_indices, bins=n_vis);"
   ]
  },
  {
   "cell_type": "code",
   "execution_count": 379,
   "metadata": {
    "scrolled": true
   },
   "outputs": [],
   "source": [
    "r = RBM(n_vis, n_hid)  # RBM from rbm_qst.py\n",
    "\n",
    "r.train(dataset, dataset, max_epochs=1000, overlap_each=40, onum_samples=1000,\n",
    "        onum_steps=10, learning_rate=0.03, overlap=False, debug=True)"
   ]
  },
  {
   "cell_type": "markdown",
   "metadata": {},
   "source": [
    "Calculating overlap:"
   ]
  },
  {
   "cell_type": "code",
   "execution_count": 365,
   "metadata": {},
   "outputs": [
    {
     "data": {
      "text/plain": [
       "0.344220226325125"
      ]
     },
     "execution_count": 365,
     "metadata": {},
     "output_type": "execute_result"
    }
   ],
   "source": [
    "num_samples = 1000\n",
    "num_steps = 100\n",
    "\n",
    "sampled_from_RBM = np.array([r.daydream(num_steps)[-1] for _ in range(num_samples)])\n",
    "sampled_from_RBM = into_dict(sampled_from_RBM)\n",
    "\n",
    "ideal_state = into_dict(sparsed_states)\n",
    "\n",
    "fidelity_dicts(ideal_state, sampled_from_RBM)"
   ]
  },
  {
   "cell_type": "markdown",
   "metadata": {},
   "source": [
    "## Use classical RBM"
   ]
  },
  {
   "cell_type": "code",
   "execution_count": 373,
   "metadata": {
    "collapsed": true
   },
   "outputs": [],
   "source": [
    "import rbm_classic"
   ]
  },
  {
   "cell_type": "code",
   "execution_count": 377,
   "metadata": {},
   "outputs": [],
   "source": [
    "r_cl = rbm_classic.RBM(n_vis, n_hid)  # RBM from rbm_classic.py\n",
    "\n",
    "r_cl.train(dataset, max_epochs=1000, learning_rate=0.5)"
   ]
  },
  {
   "cell_type": "markdown",
   "metadata": {},
   "source": [
    "Calculating overlap:"
   ]
  },
  {
   "cell_type": "code",
   "execution_count": 378,
   "metadata": {},
   "outputs": [
    {
     "data": {
      "text/plain": [
       "0.87714370442984813"
      ]
     },
     "execution_count": 378,
     "metadata": {},
     "output_type": "execute_result"
    }
   ],
   "source": [
    "num_samples = 1000\n",
    "num_steps = 100\n",
    "\n",
    "sampled_from_RBM_cl = np.array([r_cl.daydream(num_steps)[-1] for _ in range(num_samples)])\n",
    "sampled_from_RBM_cl = into_dict(sampled_from_RBM_cl)\n",
    "\n",
    "ideal_state = into_dict(sparsed_states)\n",
    "\n",
    "fidelity_dicts(ideal_state, sampled_from_RBM_cl)"
   ]
  }
 ],
 "metadata": {
  "kernelspec": {
   "display_name": "Python 3",
   "language": "python",
   "name": "python3"
  },
  "language_info": {
   "codemirror_mode": {
    "name": "ipython",
    "version": 3
   },
   "file_extension": ".py",
   "mimetype": "text/x-python",
   "name": "python",
   "nbconvert_exporter": "python",
   "pygments_lexer": "ipython3",
   "version": "3.6.4"
  }
 },
 "nbformat": 4,
 "nbformat_minor": 2
}

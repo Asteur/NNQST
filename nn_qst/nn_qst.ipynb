{
 "cells": [
  {
   "cell_type": "code",
   "execution_count": 1,
   "metadata": {
    "collapsed": true
   },
   "outputs": [],
   "source": [
    "import pandas as pd\n",
    "import numpy as np\n",
    "import matplotlib.pyplot as plt\n",
    "%matplotlib inline"
   ]
  },
  {
   "cell_type": "code",
   "execution_count": 52,
   "metadata": {},
   "outputs": [
    {
     "name": "stdout",
     "output_type": "stream",
     "text": [
      "The autoreload extension is already loaded. To reload it, use:\n",
      "  %reload_ext autoreload\n"
     ]
    }
   ],
   "source": [
    "%load_ext autoreload\n",
    "%autoreload 2\n",
    "from utils import *"
   ]
  },
  {
   "cell_type": "code",
   "execution_count": 4,
   "metadata": {},
   "outputs": [
    {
     "name": "stdout",
     "output_type": "stream",
     "text": [
      "0.9\n"
     ]
    },
    {
     "data": {
      "text/plain": [
       "{'lambda': {'W': array([[ 0.71143938,  0.35667169,  0.51388251,  0.51597061,  0.74391432,\n",
       "           0.57375037,  0.91804412,  0.78683538,  0.88246277,  0.94429684],\n",
       "         [ 0.51826907,  0.58924707,  0.89764979,  0.62342976,  0.60042424,\n",
       "           0.65173388,  0.63075981,  0.77890825,  0.44969465,  0.26974775],\n",
       "         [ 0.92099754,  0.41452814,  0.15916263,  0.69980651,  0.71328361,\n",
       "           0.0683282 ,  0.55835695,  0.90217247,  0.90029251,  0.75950978],\n",
       "         [ 0.44271607,  0.55729941,  0.01143648,  0.59847799,  0.68506471,\n",
       "           0.41193504,  0.14777845,  0.74002431,  0.79877703,  0.57343152],\n",
       "         [ 0.6205385 ,  0.8702797 ,  0.11976843,  0.17702684,  0.57380803,\n",
       "           0.03754941,  0.72217834,  0.65323185,  0.27116806,  0.18783315],\n",
       "         [ 0.28163821,  0.50200395,  0.25240561,  0.9160286 ,  0.68815773,\n",
       "           0.03146331,  0.71046507,  0.09419587,  0.07440979,  0.24179717],\n",
       "         [ 0.39213419,  0.1457425 ,  0.12783516,  0.52220231,  0.65887201,\n",
       "           0.26941639,  0.61127951,  0.59648615,  0.30059267,  0.22881106],\n",
       "         [ 0.36977359,  0.24141204,  0.2253669 ,  0.29220286,  0.93974638,\n",
       "           0.12001464,  0.88813982,  0.3508011 ,  0.62041946,  0.36322828],\n",
       "         [ 0.84707822,  0.62385418,  0.30882298,  0.2575279 ,  0.54569286,\n",
       "           0.01669712,  0.98185313,  0.88386063,  0.25993112,  0.35241044]]),\n",
       "  'b': array([ 0.96847845,  0.1412472 ,  0.75854418,  0.56736817,  0.15401797,\n",
       "          0.30299481,  0.84298902,  0.86691269,  0.15771958,  0.61899138]),\n",
       "  'c': array([ 0.28203222,  0.27472181,  0.40338474,  0.0628307 ,  0.75411224,\n",
       "          0.51395281,  0.40082596,  0.37465421,  0.13402313])},\n",
       " 'mu': {'W': array([[ 0.84139662,  0.56498016,  0.02779375,  0.65739251,  0.05404604,\n",
       "           0.15685429,  0.99068399,  0.87121594,  0.46939947,  0.98360807],\n",
       "         [ 0.02673046,  0.79690785,  0.30773835,  0.67108966,  0.40812464,\n",
       "           0.02278068,  0.21257758,  0.95215402,  0.3842907 ,  0.52618923],\n",
       "         [ 0.06366819,  0.50805276,  0.44159398,  0.73332904,  0.32127761,\n",
       "           0.37564164,  0.20771601,  0.61189557,  0.0840548 ,  0.45630563],\n",
       "         [ 0.75871069,  0.87341968,  0.89158234,  0.35006475,  0.79969595,\n",
       "           0.01891237,  0.44668307,  0.29973344,  0.0953242 ,  0.99572445],\n",
       "         [ 0.16635908,  0.39327796,  0.38583108,  0.03739178,  0.08623109,\n",
       "           0.99629051,  0.33415881,  0.67711264,  0.56967009,  0.26211595],\n",
       "         [ 0.69873441,  0.33912684,  0.58869443,  0.48604752,  0.48872937,\n",
       "           0.61199319,  0.2184705 ,  0.28879707,  0.37967392,  0.04591182],\n",
       "         [ 0.96321303,  0.89822798,  0.91216882,  0.55685526,  0.32618541,\n",
       "           0.64163659,  0.32973788,  0.4045653 ,  0.96837634,  0.97797945],\n",
       "         [ 0.28843578,  0.87379427,  0.30719938,  0.94287889,  0.2871983 ,\n",
       "           0.69513167,  0.7241177 ,  0.0990312 ,  0.03096697,  0.46043485],\n",
       "         [ 0.45045665,  0.65640144,  0.21537476,  0.67778928,  0.81283819,\n",
       "           0.71144597,  0.37967482,  0.29419559,  0.66549802,  0.09335953]]),\n",
       "  'b': array([ 0.78072584,  0.51094197,  0.3459524 ,  0.93149654,  0.01354471,\n",
       "          0.3193119 ,  0.39489627,  0.46483924,  0.63465422,  0.2926694 ]),\n",
       "  'c': array([ 0.04293402,  0.43764254,  0.16749674,  0.92172053,  0.72912555,\n",
       "          0.6730369 ,  0.09469516,  0.74821004,  0.96850228])}}"
      ]
     },
     "execution_count": 4,
     "metadata": {},
     "output_type": "execute_result"
    }
   ],
   "source": [
    "n_vis = 10  # Number of visible neurons.\n",
    "n_hid = 9  # Number of hidden neurons.\n",
    "\n",
    "ratio = n_hid / n_vis  # Expressive power.\n",
    "\n",
    "W = np.random.random((n_hid, n_vis))  # Weights matrix.\n",
    "b = np.random.random(n_vis)  # Biases to visible neurons.\n",
    "c = np.random.random(n_hid)  # Biases to hidden neurons.\n",
    "\n",
    "params = {\n",
    "    \"lambda\": {\n",
    "        \"W\": np.random.random((n_hid, n_vis)),\n",
    "        \"b\": np.random.random(n_vis),\n",
    "        \"c\": np.random.random(n_hid)\n",
    "    },\n",
    "\n",
    "    \"mu\": {\n",
    "        \"W\": np.random.random((n_hid, n_vis)),\n",
    "        \"b\": np.random.random(n_vis),\n",
    "        \"c\": np.random.random(n_hid)\n",
    "    }\n",
    "}\n",
    "\n",
    "print(ratio)\n",
    "params"
   ]
  },
  {
   "cell_type": "markdown",
   "metadata": {},
   "source": [
    "# Dataset generation for simplest W state"
   ]
  },
  {
   "cell_type": "code",
   "execution_count": 161,
   "metadata": {},
   "outputs": [
    {
     "name": "stdout",
     "output_type": "stream",
     "text": [
      "[ 0.  0.  0.  1.  0.  0.  0.  0.  0.  0.]\n"
     ]
    },
    {
     "data": {
      "image/png": "[encoded data removed]",
      "text/plain": [
       "<matplotlib.figure.Figure at 0x1116dae80>"
      ]
     },
     "metadata": {},
     "output_type": "display_data"
    }
   ],
   "source": [
    "num_samples = 100\n",
    "\n",
    "sparsed_states = np.eye(n_vis)\n",
    "random_indices = np.random.randint(0, n_vis, num_samples)\n",
    "dataset = []\n",
    "for i in random_indices:\n",
    "    dataset.append(sparsed_states[i])\n",
    "    \n",
    "print(dataset[0])\n",
    "\n",
    "plt.hist(random_indices, bins=n_vis);"
   ]
  },
  {
   "cell_type": "code",
   "execution_count": 162,
   "metadata": {
    "collapsed": true
   },
   "outputs": [],
   "source": [
    "def grad_lambda_ksi(dataset, params):\n",
    "    \"\"\"(A14) of arxive paper. (13) of Nature paper.\n",
    "    \n",
    "    \"\"\"\n",
    "    res = averaged_D_lambda_p_lambda(dataset, params)\n",
    "\n",
    "    N_b = 1  # TODO: In this version we have only one basis, but in general: N_b = len(datasets).\n",
    "    res['W'] *= N_b\n",
    "    res['b'] *= N_b\n",
    "    res['c'] *= N_b\n",
    "    \n",
    "    # Due to we have only one basis we calculate just one component.\n",
    "    tmp = averaged_D_lambda_Q_b(dataset, params)\n",
    "    tmp['W'] = tmp['W'].real / len(dataset)\n",
    "    tmp['b'] = tmp['b'].real / len(dataset)\n",
    "    tmp['c'] = tmp['c'].real / len(dataset)\n",
    "    \n",
    "    res['W'] -= tmp['W']\n",
    "    res['b'] -= tmp['b']\n",
    "    res['c'] -= tmp['c']\n",
    "    return res"
   ]
  },
  {
   "cell_type": "code",
   "execution_count": 163,
   "metadata": {},
   "outputs": [
    {
     "data": {
      "text/plain": [
       "{'W': array([[ 0.0648447 ,  0.03906119,  0.05485429,  0.08211236,  0.06550067,\n",
       "          0.06993967,  0.10567464,  0.09526263,  0.07567936,  0.06909167],\n",
       "        [ 0.06117495,  0.04198745,  0.06078259,  0.08461574,  0.06280334,\n",
       "          0.07139242,  0.09791084,  0.0948902 ,  0.06688462,  0.0565522 ],\n",
       "        [ 0.07018821,  0.04140874,  0.05071031,  0.08941331,  0.06703476,\n",
       "          0.06136989,  0.09947776,  0.10068716,  0.07809275,  0.06808036],\n",
       "        [ 0.05542498,  0.03880978,  0.04127869,  0.07854077,  0.06039239,\n",
       "          0.06144185,  0.07596349,  0.08837797,  0.06980571,  0.05843383],\n",
       "        [ 0.07091866,  0.04986048,  0.05616396,  0.08541797,  0.07033824,\n",
       "          0.06858521,  0.11192725,  0.10280873,  0.07308287,  0.06429451],\n",
       "        [ 0.06122448,  0.04381947,  0.05434743,  0.09608674,  0.0684166 ,\n",
       "          0.06309226,  0.10626613,  0.08286652,  0.06384717,  0.06080388],\n",
       "        [ 0.06117437,  0.03780057,  0.05008376,  0.08522178,  0.06607935,\n",
       "          0.06593119,  0.10084749,  0.09348995,  0.06638053,  0.05829971],\n",
       "        [ 0.06024109,  0.03875458,  0.05139644,  0.078689  ,  0.07013823,\n",
       "          0.06190971,  0.1071828 ,  0.08623084,  0.07249592,  0.06045558],\n",
       "        [ 0.06462732,  0.04063879,  0.04847309,  0.07105074,  0.05905372,\n",
       "          0.05357841,  0.10356877,  0.09400574,  0.0593038 ,  0.05533818]]),\n",
       " 'b': array([ 0.08885597,  0.05968457,  0.07960281,  0.11908158,  0.08897984,\n",
       "         0.09966057,  0.1375008 ,  0.12797554,  0.09929739,  0.08936093]),\n",
       " 'c': array([ 0.72202117,  0.69899434,  0.72646326,  0.62846946,  0.7533979 ,\n",
       "         0.70077068,  0.68530868,  0.6874942 ,  0.64963856])}"
      ]
     },
     "execution_count": 163,
     "metadata": {},
     "output_type": "execute_result"
    }
   ],
   "source": [
    "grad_lambda_ksi(dataset, params)"
   ]
  },
  {
   "cell_type": "code",
   "execution_count": null,
   "metadata": {
    "collapsed": true
   },
   "outputs": [],
   "source": []
  }
 ],
 "metadata": {
  "kernelspec": {
   "display_name": "Python 3",
   "language": "python",
   "name": "python3"
  },
  "language_info": {
   "codemirror_mode": {
    "name": "ipython",
    "version": 3
   },
   "file_extension": ".py",
   "mimetype": "text/x-python",
   "name": "python",
   "nbconvert_exporter": "python",
   "pygments_lexer": "ipython3",
   "version": "3.6.4"
  }
 },
 "nbformat": 4,
 "nbformat_minor": 2
}

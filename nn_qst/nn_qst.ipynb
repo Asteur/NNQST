{
 "cells": [
  {
   "cell_type": "code",
   "execution_count": 1,
   "metadata": {
    "collapsed": true
   },
   "outputs": [],
   "source": [
    "import pandas as pd\n",
    "import numpy as np\n",
    "import matplotlib.pyplot as plt\n",
    "%matplotlib inline"
   ]
  },
  {
   "cell_type": "code",
   "execution_count": 2,
   "metadata": {
    "collapsed": true
   },
   "outputs": [],
   "source": [
    "%load_ext autoreload\n",
    "%autoreload 2\n",
    "from utils import *"
   ]
  },
  {
   "cell_type": "code",
   "execution_count": 76,
   "metadata": {},
   "outputs": [
    {
     "name": "stdout",
     "output_type": "stream",
     "text": [
      "The autoreload extension is already loaded. To reload it, use:\n",
      "  %reload_ext autoreload\n"
     ]
    }
   ],
   "source": [
    "%load_ext autoreload\n",
    "%autoreload 2\n",
    "import rbm_qst"
   ]
  },
  {
   "cell_type": "code",
   "execution_count": 4,
   "metadata": {},
   "outputs": [
    {
     "name": "stdout",
     "output_type": "stream",
     "text": [
      "0.9\n"
     ]
    }
   ],
   "source": [
    "n_vis = 10  # Number of visible neurons.\n",
    "n_hid = 9  # Number of hidden neurons.\n",
    "\n",
    "ratio = n_hid / n_vis  # Expressive power.\n",
    "\n",
    "print(ratio)"
   ]
  },
  {
   "cell_type": "markdown",
   "metadata": {},
   "source": [
    "# Dataset generation for simplest W state"
   ]
  },
  {
   "cell_type": "code",
   "execution_count": 148,
   "metadata": {
    "collapsed": true
   },
   "outputs": [],
   "source": [
    "def dataset_w(n_vis, n_samples, hist=False):\n",
    "    sparsed_states = np.eye(n_vis)\n",
    "    random_indices = np.random.randint(0, n_vis, n_samples)\n",
    "    dataset = []\n",
    "    for i in random_indices:\n",
    "        dataset.append(sparsed_states[i])\n",
    "\n",
    "    dataset = np.array(dataset)\n",
    "    if hist:\n",
    "        plt.hist(random_indices, bins=n_vis)\n",
    "        plt.show()\n",
    "    return dataset\n",
    "\n",
    "def ideal_w(n_vis):\n",
    "    sparsed_states = np.eye(n_vis)\n",
    "    return sparsed_states\n",
    "\n",
    "\n",
    "def fidelity_RBM(trained_RBM, ideal_state, num_samples=1000, num_steps=10):\n",
    "    sampled_from_RBM = np.array([trained_RBM.daydream(num_steps)[-1] for _ in range(num_samples)])\n",
    "    sampled_from_RBM = into_dict(sampled_from_RBM)\n",
    "\n",
    "    return fidelity_dicts(ideal_state, sampled_from_RBM)"
   ]
  },
  {
   "cell_type": "code",
   "execution_count": 13,
   "metadata": {},
   "outputs": [
    {
     "name": "stdout",
     "output_type": "stream",
     "text": [
      "[ 0.  0.  0.  0.  0.  0.  0.  0.  1.  0.]\n"
     ]
    },
    {
     "data": {
      "image/png": "[encoded data removed]",
      "text/plain": [
       "<matplotlib.figure.Figure at 0x109241630>"
      ]
     },
     "metadata": {},
     "output_type": "display_data"
    }
   ],
   "source": [
    "num_samples = 100\n",
    "\n",
    "dataset = dataset_w(n_vis, num_samples, hist=True)\n",
    "print(dataset[0])"
   ]
  },
  {
   "cell_type": "markdown",
   "metadata": {},
   "source": [
    "# Calculating gradient"
   ]
  },
  {
   "cell_type": "code",
   "execution_count": 14,
   "metadata": {},
   "outputs": [
    {
     "data": {
      "text/plain": [
       "{'W': array([[ 0.02360267,  0.07812689,  0.08722375,  0.06073719,  0.11125865,\n",
       "          0.06548993,  0.0969359 ,  0.05662081,  0.07464794,  0.07460702],\n",
       "        [ 0.02043615,  0.06660366,  0.08451926,  0.04806098,  0.10572023,\n",
       "          0.07049079,  0.0944728 ,  0.05670343,  0.08420845,  0.06567456],\n",
       "        [ 0.02268736,  0.08237608,  0.09382355,  0.06774127,  0.1337352 ,\n",
       "          0.07362732,  0.09153533,  0.06602224,  0.10009176,  0.08447846],\n",
       "        [ 0.0237199 ,  0.07809762,  0.08844976,  0.06878417,  0.13456856,\n",
       "          0.07551995,  0.10227437,  0.06630016,  0.09573524,  0.08121051],\n",
       "        [ 0.01966033,  0.06971802,  0.08211714,  0.05069295,  0.12368267,\n",
       "          0.05979292,  0.08918041,  0.05571245,  0.07562706,  0.06557922],\n",
       "        [ 0.02274522,  0.08532021,  0.10279286,  0.06367703,  0.11691467,\n",
       "          0.06602714,  0.0859291 ,  0.05930268,  0.09502112,  0.08091809],\n",
       "        [ 0.02232036,  0.07621587,  0.08092481,  0.06014893,  0.10982343,\n",
       "          0.07296763,  0.0879836 ,  0.060089  ,  0.08391028,  0.07159576],\n",
       "        [ 0.0253742 ,  0.08104038,  0.09793779,  0.06662342,  0.11900143,\n",
       "          0.07009498,  0.09325021,  0.05986846,  0.10179261,  0.08181528],\n",
       "        [ 0.02285679,  0.0762951 ,  0.09960466,  0.0645307 ,  0.11980636,\n",
       "          0.07030628,  0.09743551,  0.05863991,  0.0882109 ,  0.07414599]]),\n",
       " 'b': array([ 0.02971055,  0.09907249,  0.1189005 ,  0.07852385,  0.15864065,\n",
       "         0.08892126,  0.11875462,  0.07947097,  0.11901417,  0.09899093]),\n",
       " 'c': array([ 0.72925076,  0.6968903 ,  0.81611857,  0.81466025,  0.69176317,\n",
       "         0.77864813,  0.72597966,  0.79679876,  0.77183221])}"
      ]
     },
     "execution_count": 14,
     "metadata": {},
     "output_type": "execute_result"
    }
   ],
   "source": [
    "params = {\n",
    "    \"lambda\": {\n",
    "        \"W\": np.random.random((n_hid, n_vis)),  # Weights matrix.\n",
    "        \"b\": np.random.random(n_vis),  # Biases to visible neurons.\n",
    "        \"c\": np.random.random(n_hid)  # Biases to hidden neurons.\n",
    "    },\n",
    "\n",
    "    \"mu\": {\n",
    "        \"W\": np.random.random((n_hid, n_vis)),\n",
    "        \"b\": np.random.random(n_vis),\n",
    "        \"c\": np.random.random(n_hid)\n",
    "    }\n",
    "}\n",
    "\n",
    "grad_lambda_ksi(dataset, params)"
   ]
  },
  {
   "cell_type": "markdown",
   "metadata": {
    "collapsed": true
   },
   "source": [
    "# RBM Training..."
   ]
  },
  {
   "cell_type": "code",
   "execution_count": 107,
   "metadata": {
    "collapsed": true
   },
   "outputs": [],
   "source": [
    "n_vis = 5  # Number of visible neurons.\n",
    "n_hid = 5  # Number of hidden neurons.\n",
    "\n",
    "params = {\n",
    "    \"lambda\": {\n",
    "        \"W\": np.random.random((n_hid, n_vis)),\n",
    "        \"b\": np.random.random(n_vis),\n",
    "        \"c\": np.random.random(n_hid)\n",
    "    },\n",
    "\n",
    "    \"mu\": {\n",
    "        \"W\": np.random.random((n_hid, n_vis)),\n",
    "        \"b\": np.random.random(n_vis),\n",
    "        \"c\": np.random.random(n_hid)\n",
    "    }\n",
    "}\n",
    "\n",
    "r = RBM(n_vis, n_hid, params, debug_print=True)"
   ]
  },
  {
   "cell_type": "code",
   "execution_count": 380,
   "metadata": {
    "collapsed": true
   },
   "outputs": [],
   "source": [
    "r.train(dataset, max_epochs=1000, learning_rate=0.01)"
   ]
  },
  {
   "cell_type": "markdown",
   "metadata": {},
   "source": [
    "# Research..."
   ]
  },
  {
   "cell_type": "code",
   "execution_count": 108,
   "metadata": {
    "scrolled": true
   },
   "outputs": [],
   "source": [
    "num_units = 80\n",
    "r = rbm_qst.RBM(num_units, num_units)"
   ]
  },
  {
   "cell_type": "code",
   "execution_count": 155,
   "metadata": {},
   "outputs": [],
   "source": [
    "r.train(dataset, dataset, max_epochs=1000, overlap_each=40, onum_samples=1000,\n",
    "        onum_steps=10, learning_rate=0.2, overlap=False, debug=True)"
   ]
  },
  {
   "cell_type": "markdown",
   "metadata": {},
   "source": [
    "Calculating overlap:"
   ]
  },
  {
   "cell_type": "code",
   "execution_count": 111,
   "metadata": {},
   "outputs": [
    {
     "data": {
      "text/plain": [
       "0"
      ]
     },
     "execution_count": 111,
     "metadata": {},
     "output_type": "execute_result"
    }
   ],
   "source": [
    "fidelity_RBM(r, into_dict(dataset))"
   ]
  },
  {
   "cell_type": "markdown",
   "metadata": {},
   "source": [
    "## Use classical RBM"
   ]
  },
  {
   "cell_type": "code",
   "execution_count": 120,
   "metadata": {
    "collapsed": true
   },
   "outputs": [],
   "source": [
    "import rbm_classic"
   ]
  },
  {
   "cell_type": "code",
   "execution_count": 144,
   "metadata": {},
   "outputs": [
    {
     "data": {
      "image/png": "[encoded data removed]",
      "text/plain": [
       "<matplotlib.figure.Figure at 0x10a6bc2e8>"
      ]
     },
     "metadata": {},
     "output_type": "display_data"
    }
   ],
   "source": [
    "num_units = 20\n",
    "r_cl = rbm_classic.RBM(num_units, num_units)  # RBM from rbm_classic.py\n",
    "dataset = dataset_w(num_units, 100, hist=True)"
   ]
  },
  {
   "cell_type": "code",
   "execution_count": 154,
   "metadata": {},
   "outputs": [],
   "source": [
    "r_cl.train(dataset, max_epochs=5000, learning_rate=0.5)"
   ]
  },
  {
   "cell_type": "markdown",
   "metadata": {},
   "source": [
    "Calculating overlap:"
   ]
  },
  {
   "cell_type": "code",
   "execution_count": 146,
   "metadata": {},
   "outputs": [
    {
     "data": {
      "text/plain": [
       "0.63013445759732245"
      ]
     },
     "execution_count": 146,
     "metadata": {},
     "output_type": "execute_result"
    }
   ],
   "source": [
    "fidelity_RBM(r_cl, into_dict(ideal_w(num_units)))"
   ]
  },
  {
   "cell_type": "code",
   "execution_count": 147,
   "metadata": {},
   "outputs": [
    {
     "data": {
      "text/plain": [
       "0.664845880841063"
      ]
     },
     "execution_count": 147,
     "metadata": {},
     "output_type": "execute_result"
    }
   ],
   "source": [
    "fidelity_RBM(r_cl, into_dict(dataset))"
   ]
  },
  {
   "cell_type": "markdown",
   "metadata": {},
   "source": [
    "# Plot Fig.1 b"
   ]
  },
  {
   "cell_type": "code",
   "execution_count": 180,
   "metadata": {},
   "outputs": [
    {
     "data": {
      "image/png": "[encoded data removed]",
      "text/plain": [
       "<matplotlib.figure.Figure at 0x109142978>"
      ]
     },
     "metadata": {},
     "output_type": "display_data"
    }
   ],
   "source": [
    "dataset = dataset_w(num_units, 1000, hist=True)"
   ]
  },
  {
   "cell_type": "code",
   "execution_count": 175,
   "metadata": {},
   "outputs": [
    {
     "name": "stderr",
     "output_type": "stream",
     "text": [
      "100%|██████████| 4/4 [00:23<00:00,  5.98s/it]\n"
     ]
    }
   ],
   "source": [
    "import tqdm\n",
    "\n",
    "num_units = 10\n",
    "fidelities = []\n",
    "N_samples = [50, 100, 500, 1000]\n",
    "\n",
    "for N_s in tqdm.tqdm(N_samples):\n",
    "    dataset = dataset_w(num_units, N_s)\n",
    "    \n",
    "    r_cl = rbm_classic.RBM(num_units, num_units, debug_print=False)\n",
    "    r_cl.train(dataset, max_epochs=10000, learning_rate=0.3)\n",
    "\n",
    "    fidelities.append(fidelity_RBM(r_cl, into_dict(ideal_w(num_units))))\n",
    "\n",
    "overlaps = list(map(lambda x: np.sqrt(x), fidelities))"
   ]
  },
  {
   "cell_type": "code",
   "execution_count": 176,
   "metadata": {},
   "outputs": [
    {
     "data": {
      "image/png": "[encoded data removed]",
      "text/plain": [
       "<matplotlib.figure.Figure at 0x10a820e80>"
      ]
     },
     "metadata": {},
     "output_type": "display_data"
    }
   ],
   "source": [
    "plt.semilogx(N_samples, overlaps, '.-', marker='D')\n",
    "plt.show()"
   ]
  },
  {
   "cell_type": "code",
   "execution_count": 160,
   "metadata": {},
   "outputs": [
    {
     "data": {
      "image/png": "[encoded data removed]",
      "text/plain": [
       "<matplotlib.figure.Figure at 0x109167198>"
      ]
     },
     "metadata": {},
     "output_type": "display_data"
    }
   ],
   "source": [
    "plt.semilogx(N_samples, fidelities, '.-', marker='D')\n",
    "plt.show()"
   ]
  },
  {
   "cell_type": "code",
   "execution_count": 150,
   "metadata": {},
   "outputs": [
    {
     "data": {
      "image/png": "[encoded data removed]",
      "text/plain": [
       "<matplotlib.figure.Figure at 0x10a167860>"
      ]
     },
     "metadata": {},
     "output_type": "display_data"
    }
   ],
   "source": [
    "plt.semilogx(N_samples, fidelities, '.-', marker='D')\n",
    "plt.show()"
   ]
  }
 ],
 "metadata": {
  "kernelspec": {
   "display_name": "Python 3",
   "language": "python",
   "name": "python3"
  },
  "language_info": {
   "codemirror_mode": {
    "name": "ipython",
    "version": 3
   },
   "file_extension": ".py",
   "mimetype": "text/x-python",
   "name": "python",
   "nbconvert_exporter": "python",
   "pygments_lexer": "ipython3",
   "version": "3.6.4"
  }
 },
 "nbformat": 4,
 "nbformat_minor": 2
}

{
 "cells": [
  {
   "cell_type": "markdown",
   "metadata": {},
   "source": [
    "https://arxiv.org/pdf/1703.05334.pdf"
   ]
  },
  {
   "cell_type": "code",
   "execution_count": 1,
   "metadata": {},
   "outputs": [],
   "source": [
    "import matplotlib.pyplot as plt\n",
    "%matplotlib inline\n",
    "\n",
    "from __future__ import print_function\n",
    "import numpy as np"
   ]
  },
  {
   "cell_type": "code",
   "execution_count": 2,
   "metadata": {
    "collapsed": true
   },
   "outputs": [],
   "source": [
    "class RBM:\n",
    "  \n",
    "    def __init__(self, num_visible, num_hidden):\n",
    "        self.num_hidden = num_hidden\n",
    "        self.num_visible = num_visible\n",
    "        self.debug_print = True\n",
    "\n",
    "        # Initialize a weight matrix, of dimensions (num_visible x num_hidden), using\n",
    "        # a uniform distribution between -sqrt(6. / (num_hidden + num_visible))\n",
    "        # and sqrt(6. / (num_hidden + num_visible)). One could vary the \n",
    "        # standard deviation by multiplying the interval with appropriate value.\n",
    "        # Here we initialize the weights with mean 0 and standard deviation 0.1. \n",
    "        # Reference: Understanding the difficulty of training deep feedforward \n",
    "        # neural networks by Xavier Glorot and Yoshua Bengio\n",
    "        np_rng = np.random.RandomState(1234)\n",
    "\n",
    "        self.weights = np.asarray(np_rng.uniform(\n",
    "            low=-0.1 * np.sqrt(6. / (num_hidden + num_visible)),\n",
    "            high=0.1 * np.sqrt(6. / (num_hidden + num_visible)),\n",
    "            size=(num_visible, num_hidden)))\n",
    "\n",
    "\n",
    "        # Insert weights for the bias units into the first row and first column.\n",
    "        self.weights = np.insert(self.weights, 0, 0, axis = 0)\n",
    "        self.weights = np.insert(self.weights, 0, 0, axis = 1)\n",
    "\n",
    "    def train(self, data, max_epochs = 1000, learning_rate = 0.1):\n",
    "        \"\"\"\n",
    "        Train the machine.\n",
    "        Parameters\n",
    "        ----------\n",
    "        data: A matrix where each row is a training example consisting of the states of visible units.    \n",
    "        \"\"\"\n",
    "\n",
    "        num_examples = data.shape[0]\n",
    "\n",
    "        # Insert bias units of 1 into the first column.\n",
    "        data = np.insert(data, 0, 1, axis = 1)\n",
    "\n",
    "        for epoch in range(max_epochs):      \n",
    "            # Clamp to the data and sample from the hidden units. \n",
    "            # (This is the \"positive CD phase\", aka the reality phase.)\n",
    "            pos_hidden_activations = np.dot(data, self.weights)      \n",
    "            pos_hidden_probs = self._logistic(pos_hidden_activations)\n",
    "            pos_hidden_probs[:,0] = 1 # Fix the bias unit.\n",
    "            pos_hidden_states = pos_hidden_probs > np.random.rand(num_examples, self.num_hidden + 1)\n",
    "#             pos_hidden_states = pos_hidden_probs\n",
    "\n",
    "            # Note that we're using the activation *probabilities* of the hidden states, not the hidden states       \n",
    "            # themselves, when computing associations. We could also use the states; see section 3 of Hinton's \n",
    "            # \"A Practical Guide to Training Restricted Boltzmann Machines\" for more.\n",
    "            pos_associations = np.dot(data.T, pos_hidden_probs)\n",
    "\n",
    "            # Reconstruct the visible units and sample again from the hidden units.\n",
    "            # (This is the \"negative CD phase\", aka the daydreaming phase.)\n",
    "            neg_visible_activations = np.dot(pos_hidden_states, self.weights.T)\n",
    "            neg_visible_probs = self._logistic(neg_visible_activations)\n",
    "            neg_visible_probs[:,0] = 1 # Fix the bias unit.\n",
    "            neg_hidden_activations = np.dot(neg_visible_probs, self.weights)\n",
    "            neg_hidden_probs = self._logistic(neg_hidden_activations)\n",
    "            # Note, again, that we're using the activation *probabilities* when computing associations, not the states \n",
    "            # themselves.\n",
    "            neg_associations = np.dot(neg_visible_probs.T, neg_hidden_probs)\n",
    "\n",
    "            # Update weights.\n",
    "            self.weights += learning_rate * ((pos_associations - neg_associations) / num_examples)\n",
    "\n",
    "            error = np.sum((data - neg_visible_probs) ** 2)\n",
    "            if self.debug_print:\n",
    "                print(\"Epoch %s: error is %s\" % (epoch, error))\n",
    "\n",
    "    def run_visible(self, data):\n",
    "        \"\"\"\n",
    "        Assuming the RBM has been trained (so that weights for the network have been learned),\n",
    "        run the network on a set of visible units, to get a sample of the hidden units.\n",
    "\n",
    "        Parameters\n",
    "        ----------\n",
    "        data: A matrix where each row consists of the states of the visible units.\n",
    "\n",
    "        Returns\n",
    "        -------\n",
    "        hidden_states: A matrix where each row consists of the hidden units activated from the visible\n",
    "        units in the data matrix passed in.\n",
    "        \"\"\"\n",
    "\n",
    "        num_examples = data.shape[0]\n",
    "\n",
    "        # Create a matrix, where each row is to be the hidden units (plus a bias unit)\n",
    "        # sampled from a training example.\n",
    "        hidden_states = np.ones((num_examples, self.num_hidden + 1))\n",
    "\n",
    "        # Insert bias units of 1 into the first column of data.\n",
    "        data = np.insert(data, 0, 1, axis = 1)\n",
    "\n",
    "        # Calculate the activations of the hidden units.\n",
    "        hidden_activations = np.dot(data, self.weights)\n",
    "        # Calculate the probabilities of turning the hidden units on.\n",
    "        hidden_probs = self._logistic(hidden_activations)\n",
    "        # Turn the hidden units on with their specified probabilities.\n",
    "        hidden_states[:,:] = hidden_probs > np.random.rand(num_examples, self.num_hidden + 1)\n",
    "#         hidden_states[:,:] = hidden_probs\n",
    "\n",
    "        # Ignore the bias units.\n",
    "        hidden_states = hidden_states[:,1:]\n",
    "        return hidden_states\n",
    "    \n",
    "    # TODO: Remove the code duplication between this method and `run_visible`?\n",
    "    def run_hidden(self, data):\n",
    "        \"\"\"\n",
    "        Assuming the RBM has been trained (so that weights for the network have been learned),\n",
    "        run the network on a set of hidden units, to get a sample of the visible units.\n",
    "        Parameters\n",
    "        ----------\n",
    "        data: A matrix where each row consists of the states of the hidden units.\n",
    "        Returns\n",
    "        -------\n",
    "        visible_states: A matrix where each row consists of the visible units activated from the hidden\n",
    "        units in the data matrix passed in.\n",
    "        \"\"\"\n",
    "\n",
    "        num_examples = data.shape[0]\n",
    "\n",
    "        # Create a matrix, where each row is to be the visible units (plus a bias unit)\n",
    "        # sampled from a training example.\n",
    "        visible_states = np.ones((num_examples, self.num_visible + 1))\n",
    "\n",
    "        # Insert bias units of 1 into the first column of data.\n",
    "        data = np.insert(data, 0, 1, axis = 1)\n",
    "\n",
    "        # Calculate the activations of the visible units.\n",
    "        visible_activations = np.dot(data, self.weights.T)\n",
    "        # Calculate the probabilities of turning the visible units on.\n",
    "        visible_probs = self._logistic(visible_activations)\n",
    "        # Turn the visible units on with their specified probabilities.\n",
    "        visible_states[:,:] = visible_probs > np.random.rand(num_examples, self.num_visible + 1)\n",
    "#         visible_states[:,:] = visible_probs\n",
    "        # Always fix the bias unit to 1.\n",
    "        # visible_states[:,0] = 1\n",
    "\n",
    "        # Ignore the bias units.\n",
    "        visible_states = visible_states[:,1:]\n",
    "        return visible_states\n",
    "    \n",
    "    def daydream(self, num_samples):\n",
    "        \"\"\"\n",
    "        Randomly initialize the visible units once, and start running alternating Gibbs sampling steps\n",
    "        (where each step consists of updating all the hidden units, and then updating all of the visible units),\n",
    "        taking a sample of the visible units at each step.\n",
    "        Note that we only initialize the network *once*, so these samples are correlated.\n",
    "        Returns\n",
    "        -------\n",
    "        samples: A matrix, where each row is a sample of the visible units produced while the network was\n",
    "        daydreaming.\n",
    "        \"\"\"\n",
    "\n",
    "        # Create a matrix, where each row is to be a sample of of the visible units \n",
    "        # (with an extra bias unit), initialized to all ones.\n",
    "        samples = np.ones((num_samples, self.num_visible + 1))\n",
    "\n",
    "        # Take the first sample from a uniform distribution.\n",
    "        samples[0,1:] = np.random.rand(self.num_visible)\n",
    "\n",
    "        # Start the alternating Gibbs sampling.\n",
    "        # Note that we keep the hidden units binary states, but leave the\n",
    "        # visible units as real probabilities. See section 3 of Hinton's\n",
    "        # \"A Practical Guide to Training Restricted Boltzmann Machines\"\n",
    "        # for more on why.\n",
    "        for i in range(1, num_samples):\n",
    "            visible = samples[i-1,:]\n",
    "\n",
    "            # Calculate the activations of the hidden units.\n",
    "            hidden_activations = np.dot(visible, self.weights)      \n",
    "            # Calculate the probabilities of turning the hidden units on.\n",
    "            hidden_probs = self._logistic(hidden_activations)\n",
    "            # Turn the hidden units on with their specified probabilities.\n",
    "            hidden_states = hidden_probs > np.random.rand(self.num_hidden + 1)\n",
    "#             hidden_states = hidden_probs\n",
    "            # Always fix the bias unit to 1.\n",
    "            hidden_states[0] = 1\n",
    "\n",
    "            # Recalculate the probabilities that the visible units are on.\n",
    "            visible_activations = np.dot(hidden_states, self.weights.T)\n",
    "            visible_probs = self._logistic(visible_activations)\n",
    "            visible_states = visible_probs > np.random.rand(self.num_visible + 1)\n",
    "#             visible_states = visible_probs\n",
    "            samples[i,:] = visible_states\n",
    "\n",
    "        # Ignore the bias units (the first column), since they're always set to 1.\n",
    "        return samples[:,1:]        \n",
    "      \n",
    "    def _logistic(self, x):\n",
    "        return 1.0 / (1 + np.exp(-x))"
   ]
  },
  {
   "cell_type": "code",
   "execution_count": 3,
   "metadata": {},
   "outputs": [],
   "source": [
    "# import itertools\n",
    "# all_strings = [\"\".join(seq) for seq in itertools.product(\"01\", repeat=6)]\n",
    "# data = list(map(lambda bit_string: list(map(lambda x: int(x), bit_string)), all_strings))\n",
    "# data"
   ]
  },
  {
   "cell_type": "code",
   "execution_count": 4,
   "metadata": {
    "collapsed": true
   },
   "outputs": [],
   "source": [
    "# data = [[0,0,0,0], [0,0,0,1], [0,0,1,0], [0,0,1,1]]\n",
    "data = [[0,0,0,1], [0,0,1,0], [0,1,0,0], [1,0,0,0]] * 500"
   ]
  },
  {
   "cell_type": "code",
   "execution_count": 5,
   "metadata": {},
   "outputs": [
    {
     "data": {
      "text/plain": [
       "[[1, 0, 0, 0, 0, 0, 0, 0, 0, 0, 0, 0, 0, 0, 0, 0, 0, 0, 0, 0],\n",
       " [0, 1, 0, 0, 0, 0, 0, 0, 0, 0, 0, 0, 0, 0, 0, 0, 0, 0, 0, 0],\n",
       " [0, 0, 1, 0, 0, 0, 0, 0, 0, 0, 0, 0, 0, 0, 0, 0, 0, 0, 0, 0],\n",
       " [0, 0, 0, 1, 0, 0, 0, 0, 0, 0, 0, 0, 0, 0, 0, 0, 0, 0, 0, 0],\n",
       " [0, 0, 0, 0, 1, 0, 0, 0, 0, 0, 0, 0, 0, 0, 0, 0, 0, 0, 0, 0],\n",
       " [0, 0, 0, 0, 0, 1, 0, 0, 0, 0, 0, 0, 0, 0, 0, 0, 0, 0, 0, 0],\n",
       " [0, 0, 0, 0, 0, 0, 1, 0, 0, 0, 0, 0, 0, 0, 0, 0, 0, 0, 0, 0],\n",
       " [0, 0, 0, 0, 0, 0, 0, 1, 0, 0, 0, 0, 0, 0, 0, 0, 0, 0, 0, 0],\n",
       " [0, 0, 0, 0, 0, 0, 0, 0, 1, 0, 0, 0, 0, 0, 0, 0, 0, 0, 0, 0],\n",
       " [0, 0, 0, 0, 0, 0, 0, 0, 0, 1, 0, 0, 0, 0, 0, 0, 0, 0, 0, 0],\n",
       " [0, 0, 0, 0, 0, 0, 0, 0, 0, 0, 1, 0, 0, 0, 0, 0, 0, 0, 0, 0],\n",
       " [0, 0, 0, 0, 0, 0, 0, 0, 0, 0, 0, 1, 0, 0, 0, 0, 0, 0, 0, 0],\n",
       " [0, 0, 0, 0, 0, 0, 0, 0, 0, 0, 0, 0, 1, 0, 0, 0, 0, 0, 0, 0],\n",
       " [0, 0, 0, 0, 0, 0, 0, 0, 0, 0, 0, 0, 0, 1, 0, 0, 0, 0, 0, 0],\n",
       " [0, 0, 0, 0, 0, 0, 0, 0, 0, 0, 0, 0, 0, 0, 1, 0, 0, 0, 0, 0],\n",
       " [0, 0, 0, 0, 0, 0, 0, 0, 0, 0, 0, 0, 0, 0, 0, 1, 0, 0, 0, 0],\n",
       " [0, 0, 0, 0, 0, 0, 0, 0, 0, 0, 0, 0, 0, 0, 0, 0, 1, 0, 0, 0],\n",
       " [0, 0, 0, 0, 0, 0, 0, 0, 0, 0, 0, 0, 0, 0, 0, 0, 0, 1, 0, 0],\n",
       " [0, 0, 0, 0, 0, 0, 0, 0, 0, 0, 0, 0, 0, 0, 0, 0, 0, 0, 1, 0],\n",
       " [0, 0, 0, 0, 0, 0, 0, 0, 0, 0, 0, 0, 0, 0, 0, 0, 0, 0, 0, 1]]"
      ]
     },
     "execution_count": 5,
     "metadata": {},
     "output_type": "execute_result"
    }
   ],
   "source": [
    "N = 20\n",
    "data = []\n",
    "for i in range(N):\n",
    "    tmp = [0] * N\n",
    "    tmp[i] += 1\n",
    "    data.append(tmp)\n",
    "data"
   ]
  },
  {
   "cell_type": "code",
   "execution_count": 6,
   "metadata": {
    "scrolled": true
   },
   "outputs": [],
   "source": [
    "training_data = np.array(data)\n",
    "\n",
    "r = RBM(num_visible=N, num_hidden=N)\n",
    "r.debug_print = False\n",
    "r.train(training_data, max_epochs=5000, learning_rate=0.1)"
   ]
  },
  {
   "cell_type": "code",
   "execution_count": 7,
   "metadata": {},
   "outputs": [],
   "source": [
    "# print(r.weights)"
   ]
  },
  {
   "cell_type": "code",
   "execution_count": 8,
   "metadata": {
    "scrolled": true
   },
   "outputs": [],
   "source": [
    "# user = np.array([[1,0,0,1]])\n",
    "# print(r.run_visible(user))\n",
    "# print(r.run_hidden(user))"
   ]
  },
  {
   "cell_type": "code",
   "execution_count": 9,
   "metadata": {},
   "outputs": [],
   "source": [
    "# user = np.array([[0,1,0,1]])\n",
    "# hid = r.run_visible(user)\n",
    "# plt.plot(user[0])\n",
    "# plt.plot((r.run_hidden(hid))[0])\n",
    "# plt.show()"
   ]
  },
  {
   "cell_type": "code",
   "execution_count": 16,
   "metadata": {},
   "outputs": [
    {
     "data": {
      "text/plain": [
       "array([ 0.,  0.,  0.,  0.,  0.,  0.,  0.,  0.,  0.,  0.,  0.,  0.,  0.,\n",
       "        0.,  0.,  0.,  0.,  0.,  0.,  0.])"
      ]
     },
     "execution_count": 16,
     "metadata": {},
     "output_type": "execute_result"
    }
   ],
   "source": [
    "total_iter = 100\n",
    "out = r.daydream(total_iter)[-1]\n",
    "out"
   ]
  },
  {
   "cell_type": "code",
   "execution_count": 17,
   "metadata": {
    "collapsed": true
   },
   "outputs": [],
   "source": [
    "def dreaming(rbm, total_dream=1, total_iter=10):\n",
    "    res = []\n",
    "    for i in range(total_dream):\n",
    "        res.append(rbm.daydream(total_iter)[-1])\n",
    "    res = np.array(res)\n",
    "    return res"
   ]
  },
  {
   "cell_type": "code",
   "execution_count": 18,
   "metadata": {
    "collapsed": true
   },
   "outputs": [],
   "source": [
    "from collections import Counter"
   ]
  },
  {
   "cell_type": "code",
   "execution_count": 19,
   "metadata": {},
   "outputs": [],
   "source": [
    "dreams = dreaming(r, total_dream=1000, total_iter=10)\n",
    "dreams = [tuple(x) for x in dreams]\n",
    "c = Counter(dreams)\n",
    "# to_plot = [(''.join([str(int(ch)) for ch in x[0]]), x[1]) for x in list(c.items())]\n",
    "to_plot = [(''.join([str(int(ch)) for ch in x]), c[tuple(x)]/1000) for x in data]"
   ]
  },
  {
   "cell_type": "code",
   "execution_count": 20,
   "metadata": {},
   "outputs": [
    {
     "data": {
      "image/png": "[encoded data removed]",
      "text/plain": [
       "<matplotlib.figure.Figure at 0x1050b8940>"
      ]
     },
     "metadata": {},
     "output_type": "display_data"
    }
   ],
   "source": [
    "plt.figure()\n",
    "plt.bar([x[0] for x in to_plot], [x[1] for x in to_plot])\n",
    "plt.title('for N=20, 1000 dreams, 10 iters per dream')\n",
    "plt.show()"
   ]
  },
  {
   "cell_type": "code",
   "execution_count": 418,
   "metadata": {},
   "outputs": [
    {
     "data": {
      "image/png": "[encoded data removed]",
      "text/plain": [
       "<matplotlib.figure.Figure at 0x10aa89e80>"
      ]
     },
     "metadata": {},
     "output_type": "display_data"
    }
   ],
   "source": [
    "plt.figure()\n",
    "plt.bar([x[0] for x in to_plot], [x[1] for x in to_plot])\n",
    "plt.show()"
   ]
  }
 ],
 "metadata": {
  "kernelspec": {
   "display_name": "Python 3",
   "language": "python",
   "name": "python3"
  },
  "language_info": {
   "codemirror_mode": {
    "name": "ipython",
    "version": 3
   },
   "file_extension": ".py",
   "mimetype": "text/x-python",
   "name": "python",
   "nbconvert_exporter": "python",
   "pygments_lexer": "ipython3",
   "version": "3.6.4"
  }
 },
 "nbformat": 4,
 "nbformat_minor": 2
}

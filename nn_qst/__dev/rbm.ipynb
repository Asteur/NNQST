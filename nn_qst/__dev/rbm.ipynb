{
 "cells": [
  {
   "cell_type": "markdown",
   "metadata": {},
   "source": [
    "https://arxiv.org/pdf/1703.05334.pdf"
   ]
  },
  {
   "cell_type": "code",
   "execution_count": 1,
   "metadata": {
    "collapsed": true
   },
   "outputs": [],
   "source": [
    "%load_ext autoreload\n",
    "%autoreload 2\n",
    "from rbm import RBM"
   ]
  },
  {
   "cell_type": "code",
   "execution_count": 2,
   "metadata": {
    "collapsed": true
   },
   "outputs": [],
   "source": [
    "import numpy as np"
   ]
  },
  {
   "cell_type": "code",
   "execution_count": 189,
   "metadata": {
    "collapsed": true
   },
   "outputs": [],
   "source": [
    "r = RBM(num_visible=6, num_hidden=6, debug_print=True)\n",
    "training_data = np.array([[0,1,1,0,0,0],[1,0,1,0,0,0],[1,1,1,0,0,0],[0,0,1,1,1,0], [0,0,1,1,0,0],[0,0,1,1,1,0]])"
   ]
  },
  {
   "cell_type": "code",
   "execution_count": 549,
   "metadata": {
    "collapsed": true
   },
   "outputs": [],
   "source": [
    "r.train(training_data, max_epochs=5000)"
   ]
  },
  {
   "cell_type": "code",
   "execution_count": 196,
   "metadata": {},
   "outputs": [
    {
     "name": "stdout",
     "output_type": "stream",
     "text": [
      "[[ 1.  1.  0.  1.  1.  1.]]\n"
     ]
    },
    {
     "data": {
      "text/plain": [
       "array([[ 0.,  0.,  1.,  1.,  0.,  0.]])"
      ]
     },
     "execution_count": 196,
     "metadata": {},
     "output_type": "execute_result"
    }
   ],
   "source": [
    "# print(r.weights)\n",
    "user = np.array([[-1,-1,0,-1,0,0]])\n",
    "hid = r.run_visible(user)\n",
    "print(hid)\n",
    "r.run_hidden(hid)"
   ]
  },
  {
   "cell_type": "code",
   "execution_count": 140,
   "metadata": {},
   "outputs": [
    {
     "name": "stdout",
     "output_type": "stream",
     "text": [
      "[[ 1.  1.  0.  0.  1.  0.  1.  1.  1.  1.  0.  1.  1.  0.  1.  0.  1.  0.\n",
      "   0.  0.]]\n"
     ]
    },
    {
     "data": {
      "text/plain": [
       "array([[ 0.,  0.,  0.,  0.,  0.,  0.,  0.,  0.,  0.,  0.,  0.,  0.,  0.,\n",
       "         0.,  0.,  0.,  0.,  0.,  0.,  0.]])"
      ]
     },
     "execution_count": 140,
     "metadata": {},
     "output_type": "execute_result"
    }
   ],
   "source": [
    "# print(r.weights)\n",
    "user = np.array([[0,0,0,0,0,0,0,0,0,0,0,0,0,1,0,0,0,0,0,0]])\n",
    "hid = r.run_visible(user)\n",
    "print(hid)\n",
    "r.run_hidden(hid)"
   ]
  },
  {
   "cell_type": "code",
   "execution_count": 64,
   "metadata": {
    "collapsed": true,
    "scrolled": false
   },
   "outputs": [],
   "source": [
    "# r.daydream(100)"
   ]
  },
  {
   "cell_type": "code",
   "execution_count": 74,
   "metadata": {
    "collapsed": true
   },
   "outputs": [],
   "source": [
    "import PIL\n",
    "import matplotlib.pyplot as plt\n",
    "%matplotlib inline"
   ]
  },
  {
   "cell_type": "code",
   "execution_count": 548,
   "metadata": {
    "collapsed": true
   },
   "outputs": [],
   "source": [
    "n = 8\n",
    "data = np.eye(n)\n",
    "r = RBM(num_visible=n, num_hidden=n, debug_print=True)\n",
    "r.train(data, max_epochs=5000, learning_rate=0.5)"
   ]
  },
  {
   "cell_type": "code",
   "execution_count": 543,
   "metadata": {},
   "outputs": [
    {
     "data": {
      "text/plain": [
       "<matplotlib.image.AxesImage at 0x10e47ee10>"
      ]
     },
     "execution_count": 543,
     "metadata": {},
     "output_type": "execute_result"
    },
    {
     "data": {
      "image/png": "[encoded data removed]",
      "text/plain": [
       "<matplotlib.figure.Figure at 0x10ebcecf8>"
      ]
     },
     "metadata": {},
     "output_type": "display_data"
    }
   ],
   "source": [
    "plt.imshow(r.weights[:,1:])"
   ]
  },
  {
   "cell_type": "code",
   "execution_count": 544,
   "metadata": {},
   "outputs": [
    {
     "data": {
      "image/png": "[encoded data removed]",
      "text/plain": [
       "<matplotlib.figure.Figure at 0x10ebce940>"
      ]
     },
     "metadata": {},
     "output_type": "display_data"
    }
   ],
   "source": [
    "probs = r.run_visible(data, probs=True)\n",
    "plt.figure(figsize=(10,5))\n",
    "plt.imshow(probs)\n",
    "plt.xlabel('Hidden units (including bias - left most pixel)')\n",
    "plt.ylabel('Elements')\n",
    "plt.show()"
   ]
  },
  {
   "cell_type": "code",
   "execution_count": 545,
   "metadata": {},
   "outputs": [
    {
     "data": {
      "image/png": "[encoded data removed]",
      "text/plain": [
       "<matplotlib.figure.Figure at 0x10e837160>"
      ]
     },
     "metadata": {},
     "output_type": "display_data"
    }
   ],
   "source": [
    "dreams = [r.daydream(2)[-1] for _ in range(1000)]\n",
    "dreams.append(np.array(dreams).sum(axis=0))\n",
    "dreams = np.array(dreams)\n",
    "\n",
    "plt.figure(figsize=(10,5))\n",
    "plt.imshow(dreams[-5:])\n",
    "# plt.imshow(dreams)\n",
    "plt.xlabel('Hidden units (including bias - left most pixel)')\n",
    "plt.ylabel('Elements')\n",
    "plt.show()"
   ]
  },
  {
   "cell_type": "code",
   "execution_count": null,
   "metadata": {
    "collapsed": true
   },
   "outputs": [],
   "source": []
  },
  {
   "cell_type": "code",
   "execution_count": null,
   "metadata": {
    "collapsed": true
   },
   "outputs": [],
   "source": []
  },
  {
   "cell_type": "code",
   "execution_count": null,
   "metadata": {
    "collapsed": true
   },
   "outputs": [],
   "source": []
  },
  {
   "cell_type": "code",
   "execution_count": 340,
   "metadata": {},
   "outputs": [
    {
     "data": {
      "text/plain": [
       "array([ 0.2236068,  0.2236068,  0.2236068,  0.2236068,  0.2236068,\n",
       "        0.2236068,  0.2236068,  0.2236068,  0.2236068,  0.2236068,\n",
       "        0.2236068,  0.2236068,  0.2236068,  0.2236068,  0.2236068,\n",
       "        0.2236068,  0.2236068,  0.2236068,  0.2236068,  0.2236068])"
      ]
     },
     "execution_count": 340,
     "metadata": {},
     "output_type": "execute_result"
    }
   ],
   "source": [
    "data.mean(axis=0)"
   ]
  },
  {
   "cell_type": "code",
   "execution_count": 403,
   "metadata": {
    "collapsed": true
   },
   "outputs": [],
   "source": [
    "import tqdm"
   ]
  },
  {
   "cell_type": "code",
   "execution_count": 413,
   "metadata": {},
   "outputs": [
    {
     "name": "stdout",
     "output_type": "stream",
     "text": [
      "Done with dataset for N=20\n"
     ]
    },
    {
     "name": "stderr",
     "output_type": "stream",
     "text": [
      "\r",
      "  0%|          | 0/7 [00:00<?, ?it/s]"
     ]
    },
    {
     "name": "stdout",
     "output_type": "stream",
     "text": [
      "Done with training\n"
     ]
    },
    {
     "name": "stderr",
     "output_type": "stream",
     "text": [
      "100%|██████████| 7/7 [00:07<00:00,  1.81s/it]\n"
     ]
    },
    {
     "name": "stdout",
     "output_type": "stream",
     "text": [
      "Done with dreaming\n",
      "Done with dataset for N=40\n"
     ]
    },
    {
     "name": "stderr",
     "output_type": "stream",
     "text": [
      "\r",
      "  0%|          | 0/7 [00:00<?, ?it/s]"
     ]
    },
    {
     "name": "stdout",
     "output_type": "stream",
     "text": [
      "Done with training\n"
     ]
    },
    {
     "name": "stderr",
     "output_type": "stream",
     "text": [
      "100%|██████████| 7/7 [00:07<00:00,  1.91s/it]\n"
     ]
    },
    {
     "name": "stdout",
     "output_type": "stream",
     "text": [
      "Done with dreaming\n",
      "Done with dataset for N=80\n"
     ]
    },
    {
     "name": "stderr",
     "output_type": "stream",
     "text": [
      "\r",
      "  0%|          | 0/7 [00:00<?, ?it/s]"
     ]
    },
    {
     "name": "stdout",
     "output_type": "stream",
     "text": [
      "Done with training\n"
     ]
    },
    {
     "name": "stderr",
     "output_type": "stream",
     "text": [
      "100%|██████████| 7/7 [00:09<00:00,  2.48s/it]\n"
     ]
    },
    {
     "name": "stdout",
     "output_type": "stream",
     "text": [
      "Done with dreaming\n"
     ]
    },
    {
     "data": {
      "image/png": "[encoded data removed]",
      "text/plain": [
       "<matplotlib.figure.Figure at 0x10df07588>"
      ]
     },
     "metadata": {},
     "output_type": "display_data"
    }
   ],
   "source": [
    "eps = 0.1\n",
    "Ns = [10, 50, 100, 500, 1000, 5000, 10000]\n",
    "N = [20, 40, 80]\n",
    "\n",
    "for n in N:\n",
    "    \n",
    "    # Prepare dataset.\n",
    "    data = []\n",
    "    for i in range(n):\n",
    "        tmp = [0] * n\n",
    "        tmp[i] += 1\n",
    "        data.append(tmp)\n",
    "    data = np.array(data)\n",
    "    print('Done with dataset for N={}'.format(n))\n",
    "    \n",
    "    # Train RBM.\n",
    "    r = RBM(num_visible=n, num_hidden=n, debug_print=False)\n",
    "    r.train(data, max_epochs=5000)\n",
    "    print('Done with training')\n",
    "    \n",
    "    # Dreaming.\n",
    "    Ow = []\n",
    "    for ns in tqdm.tqdm(Ns):\n",
    "        dreams = np.array([r.daydream(20)[-1] for _ in range(ns)])\n",
    "#         dreams += ((dreams.sum(axis=1) == 0) * eps).reshape((ns, 1))\n",
    "#         dreams /= dreams.sum(axis=1).reshape((ns,1))\n",
    "        Ow.append(sum(np.sqrt(dreams.mean(axis=0)) * np.sqrt(data.mean(axis=0))))    \n",
    "    print('Done with dreaming')\n",
    "\n",
    "    plt.title('$O_w$ (overlap)')\n",
    "    plt.xlabel('$N_s$')\n",
    "    plt.semilogx(Ns, Ow, '.-', marker='D', label='N={}'.format(n))\n",
    "    \n",
    "plt.legend()\n",
    "plt.show()"
   ]
  },
  {
   "cell_type": "code",
   "execution_count": 418,
   "metadata": {},
   "outputs": [
    {
     "data": {
      "text/plain": [
       "array([[ 0.,  0.,  1., ...,  0.,  1.,  0.],\n",
       "       [ 0.,  0.,  0., ...,  0.,  0.,  0.],\n",
       "       [ 0.,  1.,  0., ...,  1.,  1.,  0.],\n",
       "       ..., \n",
       "       [ 1.,  1.,  1., ...,  1.,  0.,  0.],\n",
       "       [ 0.,  0.,  0., ...,  0.,  0.,  0.],\n",
       "       [ 0.,  0.,  0., ...,  1.,  1.,  0.]])"
      ]
     },
     "execution_count": 418,
     "metadata": {},
     "output_type": "execute_result"
    }
   ],
   "source": [
    "dreams"
   ]
  },
  {
   "cell_type": "code",
   "execution_count": 441,
   "metadata": {},
   "outputs": [
    {
     "data": {
      "text/plain": [
       "array([[ 0.,  1.,  0.,  0.,  0.,  0.,  0.,  0.,  0.,  0.],\n",
       "       [ 0.,  0.,  0.,  0.,  0.,  0.,  1.,  0.,  0.,  0.],\n",
       "       [ 0.,  0.,  0.,  0.,  0.,  1.,  0.,  0.,  0.,  0.],\n",
       "       [ 0.,  0.,  0.,  0.,  0.,  0.,  1.,  0.,  0.,  0.],\n",
       "       [ 0.,  1.,  0.,  0.,  0.,  0.,  0.,  0.,  0.,  0.],\n",
       "       [ 0.,  0.,  0.,  1.,  0.,  0.,  0.,  0.,  0.,  0.],\n",
       "       [ 1.,  0.,  0.,  0.,  0.,  0.,  0.,  0.,  0.,  0.],\n",
       "       [ 0.,  0.,  0.,  0.,  0.,  0.,  0.,  0.,  1.,  0.],\n",
       "       [ 0.,  0.,  0.,  1.,  0.,  0.,  0.,  0.,  0.,  0.],\n",
       "       [ 0.,  0.,  0.,  0.,  1.,  0.,  0.,  0.,  0.,  0.]])"
      ]
     },
     "execution_count": 441,
     "metadata": {},
     "output_type": "execute_result"
    }
   ],
   "source": [
    "np.eye(10)[np.random.randint(0, 10, 10)]"
   ]
  },
  {
   "cell_type": "code",
   "execution_count": 547,
   "metadata": {},
   "outputs": [
    {
     "name": "stderr",
     "output_type": "stream",
     "text": [
      "100%|██████████| 3/3 [00:18<00:00,  5.36s/it]\n",
      "  0%|          | 0/3 [00:00<?, ?it/s]"
     ]
    },
    {
     "name": "stdout",
     "output_type": "stream",
     "text": [
      "Done with dreaming for N=20\n"
     ]
    },
    {
     "name": "stderr",
     "output_type": "stream",
     "text": [
      "100%|██████████| 3/3 [00:32<00:00,  9.18s/it]\n",
      "  0%|          | 0/3 [00:00<?, ?it/s]"
     ]
    },
    {
     "name": "stdout",
     "output_type": "stream",
     "text": [
      "Done with dreaming for N=40\n"
     ]
    },
    {
     "name": "stderr",
     "output_type": "stream",
     "text": [
      "100%|██████████| 3/3 [01:04<00:00, 18.46s/it]\n"
     ]
    },
    {
     "name": "stdout",
     "output_type": "stream",
     "text": [
      "Done with dreaming for N=80\n"
     ]
    },
    {
     "data": {
      "image/png": "[encoded data removed]",
      "text/plain": [
       "<matplotlib.figure.Figure at 0x10e1f5c18>"
      ]
     },
     "metadata": {},
     "output_type": "display_data"
    }
   ],
   "source": [
    "Ns = [100, 500, 1000]\n",
    "N = [20, 40, 80]\n",
    "\n",
    "for n in N:\n",
    "    Ow = []\n",
    "    for ns in tqdm.tqdm(Ns):\n",
    "        data = np.eye(n)[np.random.randint(0, n, ns)]\n",
    "        \n",
    "        r = RBM(num_visible=n, num_hidden=n, debug_print=False)\n",
    "        r.train(data, learning_rate=1.0, max_epochs=5000)\n",
    "        \n",
    "        dreams = np.array([r.daydream(2)[-1] for _ in range(1000)])\n",
    "        Ow.append(sum(np.sqrt(dreams.mean(axis=0)) * np.sqrt(data.mean(axis=0))))    \n",
    "    print('Done with dreaming for N={}'.format(n))\n",
    "\n",
    "    plt.title('$O_w$ (overlap)')\n",
    "    plt.xlabel('$N_s$')\n",
    "    plt.semilogx(Ns, Ow, '.-', marker='D', label='N={}'.format(n))\n",
    "    \n",
    "plt.legend()\n",
    "plt.show()"
   ]
  },
  {
   "cell_type": "code",
   "execution_count": 387,
   "metadata": {
    "collapsed": true
   },
   "outputs": [],
   "source": [
    "eps = 0.1\n",
    "dreams += ((dreams.sum(axis=1) == 0) * eps).reshape((200, 1))\n",
    "dreams /= dreams.sum(axis=1).reshape((200,1))"
   ]
  },
  {
   "cell_type": "code",
   "execution_count": 369,
   "metadata": {},
   "outputs": [
    {
     "data": {
      "text/plain": [
       "1.0571914923172356"
      ]
     },
     "execution_count": 369,
     "metadata": {},
     "output_type": "execute_result"
    }
   ],
   "source": [
    "dreams = np.array([r.daydream(10)[-1] for _ in range(200)])\n",
    "sum(np.sqrt(dreams.mean(axis=0)) * np.sqrt(data.mean(axis=0)))"
   ]
  },
  {
   "cell_type": "code",
   "execution_count": 350,
   "metadata": {},
   "outputs": [
    {
     "data": {
      "text/plain": [
       "array([ 0.23452079,  0.18708287,  0.18708287,  0.23452079,  0.21213203,\n",
       "        0.2       ,  0.21213203,  0.32403703,  0.2236068 ,  0.21213203,\n",
       "        0.21213203,  0.24494897,  0.21213203,  0.18708287,  0.18708287,\n",
       "        0.27386128,  0.21213203,  0.25495098,  0.26457513,  0.2236068 ])"
      ]
     },
     "execution_count": 350,
     "metadata": {},
     "output_type": "execute_result"
    }
   ],
   "source": [
    "np.sqrt(dreams.mean(axis=0))"
   ]
  },
  {
   "cell_type": "code",
   "execution_count": 351,
   "metadata": {},
   "outputs": [
    {
     "data": {
      "text/plain": [
       "array([ 0.2236068,  0.2236068,  0.2236068,  0.2236068,  0.2236068,\n",
       "        0.2236068,  0.2236068,  0.2236068,  0.2236068,  0.2236068,\n",
       "        0.2236068,  0.2236068,  0.2236068,  0.2236068,  0.2236068,\n",
       "        0.2236068,  0.2236068,  0.2236068,  0.2236068,  0.2236068])"
      ]
     },
     "execution_count": 351,
     "metadata": {},
     "output_type": "execute_result"
    }
   ],
   "source": [
    "np.sqrt(data.mean(axis=0))"
   ]
  },
  {
   "cell_type": "code",
   "execution_count": 329,
   "metadata": {
    "collapsed": true
   },
   "outputs": [],
   "source": [
    "dreams = np.array([r.daydream(3)[-1] for _ in range(2000)])\n",
    "# dreams.append(np.array(dreams).sum(axis=0))\n",
    "# dreams = np.array(dreams)\n",
    "\n",
    "# plt.figure(figsize=(10,5))\n",
    "# plt.imshow(dreams)\n",
    "# plt.xlabel('Hidden units (including bias - left most pixel)')\n",
    "# plt.ylabel('Elements')\n",
    "# plt.show()"
   ]
  },
  {
   "cell_type": "code",
   "execution_count": 264,
   "metadata": {},
   "outputs": [
    {
     "data": {
      "text/plain": [
       "array([ 0.02,  0.08,  0.1 ,  0.06,  0.02,  0.04,  0.16,  0.08,  0.04,\n",
       "        0.06,  0.08,  0.02,  0.04,  0.04,  0.04,  0.06,  0.1 ,  0.02,\n",
       "        0.02,  0.1 ])"
      ]
     },
     "execution_count": 264,
     "metadata": {},
     "output_type": "execute_result"
    }
   ],
   "source": [
    "dreams.sum(axis=0)/50"
   ]
  },
  {
   "cell_type": "code",
   "execution_count": 104,
   "metadata": {},
   "outputs": [
    {
     "data": {
      "image/png": "[encoded data removed]",
      "text/plain": [
       "<matplotlib.figure.Figure at 0x10e378ba8>"
      ]
     },
     "metadata": {},
     "output_type": "display_data"
    }
   ],
   "source": [
    "plt.figure(figsize=(10,5))\n",
    "plt.imshow(probs)\n",
    "plt.xlabel('Hidden units (including bias - left most pixel)')\n",
    "plt.ylabel('Elements')\n",
    "plt.show()"
   ]
  },
  {
   "cell_type": "code",
   "execution_count": null,
   "metadata": {
    "collapsed": true
   },
   "outputs": [],
   "source": []
  },
  {
   "cell_type": "code",
   "execution_count": null,
   "metadata": {
    "collapsed": true
   },
   "outputs": [],
   "source": []
  },
  {
   "cell_type": "code",
   "execution_count": null,
   "metadata": {
    "collapsed": true
   },
   "outputs": [],
   "source": []
  },
  {
   "cell_type": "code",
   "execution_count": null,
   "metadata": {
    "collapsed": true
   },
   "outputs": [],
   "source": []
  },
  {
   "cell_type": "code",
   "execution_count": null,
   "metadata": {
    "collapsed": true
   },
   "outputs": [],
   "source": []
  },
  {
   "cell_type": "code",
   "execution_count": null,
   "metadata": {
    "collapsed": true
   },
   "outputs": [],
   "source": []
  },
  {
   "cell_type": "code",
   "execution_count": null,
   "metadata": {
    "collapsed": true
   },
   "outputs": [],
   "source": []
  },
  {
   "cell_type": "code",
   "execution_count": 277,
   "metadata": {
    "collapsed": true
   },
   "outputs": [],
   "source": [
    "import matplotlib.pyplot as plt\n",
    "%matplotlib inline\n",
    "\n",
    "from __future__ import print_function\n",
    "import numpy as np\n",
    "\n",
    "class RBM:\n",
    "  \n",
    "    def __init__(self, num_visible, num_hidden):\n",
    "        self.num_hidden = num_hidden\n",
    "        self.num_visible = num_visible\n",
    "        self.debug_print = True\n",
    "\n",
    "        # Initialize a weight matrix, of dimensions (num_visible x num_hidden), using\n",
    "        # a uniform distribution between -sqrt(6. / (num_hidden + num_visible))\n",
    "        # and sqrt(6. / (num_hidden + num_visible)). One could vary the \n",
    "        # standard deviation by multiplying the interval with appropriate value.\n",
    "        # Here we initialize the weights with mean 0 and standard deviation 0.1. \n",
    "        # Reference: Understanding the difficulty of training deep feedforward \n",
    "        # neural networks by Xavier Glorot and Yoshua Bengio\n",
    "        np_rng = np.random.RandomState(1234)\n",
    "\n",
    "        self.weights = np.asarray(np_rng.uniform(\n",
    "            low=-0.1 * np.sqrt(6. / (num_hidden + num_visible)),\n",
    "            high=0.1 * np.sqrt(6. / (num_hidden + num_visible)),\n",
    "            size=(num_visible, num_hidden)))\n",
    "\n",
    "\n",
    "        # Insert weights for the bias units into the first row and first column.\n",
    "        self.weights = np.insert(self.weights, 0, 0, axis = 0)\n",
    "        self.weights = np.insert(self.weights, 0, 0, axis = 1)\n",
    "\n",
    "    def train(self, data, max_epochs = 1000, learning_rate = 0.1):\n",
    "        \"\"\"\n",
    "        Train the machine.\n",
    "        Parameters\n",
    "        ----------\n",
    "        data: A matrix where each row is a training example consisting of the states of visible units.    \n",
    "        \"\"\"\n",
    "\n",
    "        num_examples = data.shape[0]\n",
    "\n",
    "        # Insert bias units of 1 into the first column.\n",
    "        data = np.insert(data, 0, 1, axis = 1)\n",
    "\n",
    "        for epoch in range(max_epochs):      \n",
    "            # Clamp to the data and sample from the hidden units. \n",
    "            # (This is the \"positive CD phase\", aka the reality phase.)\n",
    "            pos_hidden_activations = np.dot(data, self.weights)      \n",
    "            pos_hidden_probs = self._logistic(pos_hidden_activations)\n",
    "            pos_hidden_probs[:,0] = 1 # Fix the bias unit.\n",
    "            pos_hidden_states = pos_hidden_probs > np.random.rand(num_examples, self.num_hidden + 1)\n",
    "#             pos_hidden_states = pos_hidden_probs\n",
    "\n",
    "            # Note that we're using the activation *probabilities* of the hidden states, not the hidden states       \n",
    "            # themselves, when computing associations. We could also use the states; see section 3 of Hinton's \n",
    "            # \"A Practical Guide to Training Restricted Boltzmann Machines\" for more.\n",
    "            pos_associations = np.dot(data.T, pos_hidden_probs)\n",
    "\n",
    "            # Reconstruct the visible units and sample again from the hidden units.\n",
    "            # (This is the \"negative CD phase\", aka the daydreaming phase.)\n",
    "            neg_visible_activations = np.dot(pos_hidden_states, self.weights.T)\n",
    "            neg_visible_probs = self._logistic(neg_visible_activations)\n",
    "            neg_visible_probs[:,0] = 1 # Fix the bias unit.\n",
    "            neg_hidden_activations = np.dot(neg_visible_probs, self.weights)\n",
    "            neg_hidden_probs = self._logistic(neg_hidden_activations)\n",
    "            # Note, again, that we're using the activation *probabilities* when computing associations, not the states \n",
    "            # themselves.\n",
    "            neg_associations = np.dot(neg_visible_probs.T, neg_hidden_probs)\n",
    "\n",
    "            # Update weights.\n",
    "            self.weights += learning_rate * ((pos_associations - neg_associations) / num_examples)\n",
    "\n",
    "            error = np.sum((data - neg_visible_probs) ** 2)\n",
    "            if self.debug_print:\n",
    "                print(\"Epoch %s: error is %s\" % (epoch, error))\n",
    "\n",
    "    def run_visible(self, data):\n",
    "        \"\"\"\n",
    "        Assuming the RBM has been trained (so that weights for the network have been learned),\n",
    "        run the network on a set of visible units, to get a sample of the hidden units.\n",
    "\n",
    "        Parameters\n",
    "        ----------\n",
    "        data: A matrix where each row consists of the states of the visible units.\n",
    "\n",
    "        Returns\n",
    "        -------\n",
    "        hidden_states: A matrix where each row consists of the hidden units activated from the visible\n",
    "        units in the data matrix passed in.\n",
    "        \"\"\"\n",
    "\n",
    "        num_examples = data.shape[0]\n",
    "\n",
    "        # Create a matrix, where each row is to be the hidden units (plus a bias unit)\n",
    "        # sampled from a training example.\n",
    "        hidden_states = np.ones((num_examples, self.num_hidden + 1))\n",
    "\n",
    "        # Insert bias units of 1 into the first column of data.\n",
    "        data = np.insert(data, 0, 1, axis = 1)\n",
    "\n",
    "        # Calculate the activations of the hidden units.\n",
    "        hidden_activations = np.dot(data, self.weights)\n",
    "        # Calculate the probabilities of turning the hidden units on.\n",
    "        hidden_probs = self._logistic(hidden_activations)\n",
    "        # Turn the hidden units on with their specified probabilities.\n",
    "        hidden_states[:,:] = hidden_probs > np.random.rand(num_examples, self.num_hidden + 1)\n",
    "#         hidden_states[:,:] = hidden_probs\n",
    "\n",
    "        # Ignore the bias units.\n",
    "        hidden_states = hidden_states[:,1:]\n",
    "        return hidden_states\n",
    "    \n",
    "    # TODO: Remove the code duplication between this method and `run_visible`?\n",
    "    def run_hidden(self, data):\n",
    "        \"\"\"\n",
    "        Assuming the RBM has been trained (so that weights for the network have been learned),\n",
    "        run the network on a set of hidden units, to get a sample of the visible units.\n",
    "        Parameters\n",
    "        ----------\n",
    "        data: A matrix where each row consists of the states of the hidden units.\n",
    "        Returns\n",
    "        -------\n",
    "        visible_states: A matrix where each row consists of the visible units activated from the hidden\n",
    "        units in the data matrix passed in.\n",
    "        \"\"\"\n",
    "\n",
    "        num_examples = data.shape[0]\n",
    "\n",
    "        # Create a matrix, where each row is to be the visible units (plus a bias unit)\n",
    "        # sampled from a training example.\n",
    "        visible_states = np.ones((num_examples, self.num_visible + 1))\n",
    "\n",
    "        # Insert bias units of 1 into the first column of data.\n",
    "        data = np.insert(data, 0, 1, axis = 1)\n",
    "\n",
    "        # Calculate the activations of the visible units.\n",
    "        visible_activations = np.dot(data, self.weights.T)\n",
    "        # Calculate the probabilities of turning the visible units on.\n",
    "        visible_probs = self._logistic(visible_activations)\n",
    "        # Turn the visible units on with their specified probabilities.\n",
    "        visible_states[:,:] = visible_probs > np.random.rand(num_examples, self.num_visible + 1)\n",
    "#         visible_states[:,:] = visible_probs\n",
    "        # Always fix the bias unit to 1.\n",
    "        # visible_states[:,0] = 1\n",
    "\n",
    "        # Ignore the bias units.\n",
    "        visible_states = visible_states[:,1:]\n",
    "        return visible_states\n",
    "    \n",
    "    def daydream(self, num_samples):\n",
    "        \"\"\"\n",
    "        Randomly initialize the visible units once, and start running alternating Gibbs sampling steps\n",
    "        (where each step consists of updating all the hidden units, and then updating all of the visible units),\n",
    "        taking a sample of the visible units at each step.\n",
    "        Note that we only initialize the network *once*, so these samples are correlated.\n",
    "        Returns\n",
    "        -------\n",
    "        samples: A matrix, where each row is a sample of the visible units produced while the network was\n",
    "        daydreaming.\n",
    "        \"\"\"\n",
    "\n",
    "        # Create a matrix, where each row is to be a sample of of the visible units \n",
    "        # (with an extra bias unit), initialized to all ones.\n",
    "        samples = np.ones((num_samples, self.num_visible + 1))\n",
    "\n",
    "        # Take the first sample from a uniform distribution.\n",
    "        samples[0,1:] = np.random.rand(self.num_visible)\n",
    "\n",
    "        # Start the alternating Gibbs sampling.\n",
    "        # Note that we keep the hidden units binary states, but leave the\n",
    "        # visible units as real probabilities. See section 3 of Hinton's\n",
    "        # \"A Practical Guide to Training Restricted Boltzmann Machines\"\n",
    "        # for more on why.\n",
    "        for i in range(1, num_samples):\n",
    "            visible = samples[i-1,:]\n",
    "\n",
    "            # Calculate the activations of the hidden units.\n",
    "            hidden_activations = np.dot(visible, self.weights)      \n",
    "            # Calculate the probabilities of turning the hidden units on.\n",
    "            hidden_probs = self._logistic(hidden_activations)\n",
    "            # Turn the hidden units on with their specified probabilities.\n",
    "            hidden_states = hidden_probs > np.random.rand(self.num_hidden + 1)\n",
    "#             hidden_states = hidden_probs\n",
    "            # Always fix the bias unit to 1.\n",
    "            hidden_states[0] = 1\n",
    "\n",
    "            # Recalculate the probabilities that the visible units are on.\n",
    "            visible_activations = np.dot(hidden_states, self.weights.T)\n",
    "            visible_probs = self._logistic(visible_activations)\n",
    "            visible_states = visible_probs > np.random.rand(self.num_visible + 1)\n",
    "#             visible_states = visible_probs\n",
    "            samples[i,:] = visible_states\n",
    "\n",
    "        # Ignore the bias units (the first column), since they're always set to 1.\n",
    "        return samples[:,1:]        \n",
    "      \n",
    "    def _logistic(self, x):\n",
    "        return 1.0 / (1 + np.exp(-x))"
   ]
  },
  {
   "cell_type": "code",
   "execution_count": 344,
   "metadata": {
    "collapsed": true
   },
   "outputs": [],
   "source": [
    "# import itertools\n",
    "# all_strings = [\"\".join(seq) for seq in itertools.product(\"01\", repeat=6)]\n",
    "# data = list(map(lambda bit_string: list(map(lambda x: int(x), bit_string)), all_strings))\n",
    "# data"
   ]
  },
  {
   "cell_type": "code",
   "execution_count": 359,
   "metadata": {
    "collapsed": true
   },
   "outputs": [],
   "source": [
    "# data = [[0,0,0,0], [0,0,0,1], [0,0,1,0], [0,0,1,1]]\n",
    "data = [[0,0,0,1], [0,0,1,0], [0,1,0,0], [1,0,0,0]] * 500"
   ]
  },
  {
   "cell_type": "code",
   "execution_count": 434,
   "metadata": {},
   "outputs": [
    {
     "data": {
      "text/plain": [
       "[[1, 0, 0, 0, 0, 0, 0, 0, 0, 0, 0, 0, 0, 0, 0, 0, 0, 0, 0, 0],\n",
       " [0, 1, 0, 0, 0, 0, 0, 0, 0, 0, 0, 0, 0, 0, 0, 0, 0, 0, 0, 0],\n",
       " [0, 0, 1, 0, 0, 0, 0, 0, 0, 0, 0, 0, 0, 0, 0, 0, 0, 0, 0, 0],\n",
       " [0, 0, 0, 1, 0, 0, 0, 0, 0, 0, 0, 0, 0, 0, 0, 0, 0, 0, 0, 0],\n",
       " [0, 0, 0, 0, 1, 0, 0, 0, 0, 0, 0, 0, 0, 0, 0, 0, 0, 0, 0, 0],\n",
       " [0, 0, 0, 0, 0, 1, 0, 0, 0, 0, 0, 0, 0, 0, 0, 0, 0, 0, 0, 0],\n",
       " [0, 0, 0, 0, 0, 0, 1, 0, 0, 0, 0, 0, 0, 0, 0, 0, 0, 0, 0, 0],\n",
       " [0, 0, 0, 0, 0, 0, 0, 1, 0, 0, 0, 0, 0, 0, 0, 0, 0, 0, 0, 0],\n",
       " [0, 0, 0, 0, 0, 0, 0, 0, 1, 0, 0, 0, 0, 0, 0, 0, 0, 0, 0, 0],\n",
       " [0, 0, 0, 0, 0, 0, 0, 0, 0, 1, 0, 0, 0, 0, 0, 0, 0, 0, 0, 0],\n",
       " [0, 0, 0, 0, 0, 0, 0, 0, 0, 0, 1, 0, 0, 0, 0, 0, 0, 0, 0, 0],\n",
       " [0, 0, 0, 0, 0, 0, 0, 0, 0, 0, 0, 1, 0, 0, 0, 0, 0, 0, 0, 0],\n",
       " [0, 0, 0, 0, 0, 0, 0, 0, 0, 0, 0, 0, 1, 0, 0, 0, 0, 0, 0, 0],\n",
       " [0, 0, 0, 0, 0, 0, 0, 0, 0, 0, 0, 0, 0, 1, 0, 0, 0, 0, 0, 0],\n",
       " [0, 0, 0, 0, 0, 0, 0, 0, 0, 0, 0, 0, 0, 0, 1, 0, 0, 0, 0, 0],\n",
       " [0, 0, 0, 0, 0, 0, 0, 0, 0, 0, 0, 0, 0, 0, 0, 1, 0, 0, 0, 0],\n",
       " [0, 0, 0, 0, 0, 0, 0, 0, 0, 0, 0, 0, 0, 0, 0, 0, 1, 0, 0, 0],\n",
       " [0, 0, 0, 0, 0, 0, 0, 0, 0, 0, 0, 0, 0, 0, 0, 0, 0, 1, 0, 0],\n",
       " [0, 0, 0, 0, 0, 0, 0, 0, 0, 0, 0, 0, 0, 0, 0, 0, 0, 0, 1, 0],\n",
       " [0, 0, 0, 0, 0, 0, 0, 0, 0, 0, 0, 0, 0, 0, 0, 0, 0, 0, 0, 1]]"
      ]
     },
     "execution_count": 434,
     "metadata": {},
     "output_type": "execute_result"
    }
   ],
   "source": [
    "N = 20\n",
    "data = []\n",
    "for i in range(N):\n",
    "    tmp = [0] * N\n",
    "    tmp[i] += 1\n",
    "    data.append(tmp)\n",
    "data"
   ]
  },
  {
   "cell_type": "code",
   "execution_count": 550,
   "metadata": {
    "collapsed": true,
    "scrolled": true
   },
   "outputs": [],
   "source": [
    "training_data = np.array(data)\n",
    "\n",
    "r = RBM(num_visible=N, num_hidden=N)\n",
    "# r.debug_print = False\n",
    "r.train(training_data, max_epochs=5000, learning_rate=0.1)"
   ]
  },
  {
   "cell_type": "code",
   "execution_count": 361,
   "metadata": {
    "collapsed": true
   },
   "outputs": [],
   "source": [
    "# print(r.weights)"
   ]
  },
  {
   "cell_type": "code",
   "execution_count": 362,
   "metadata": {
    "collapsed": true,
    "scrolled": true
   },
   "outputs": [],
   "source": [
    "# user = np.array([[1,0,0,1]])\n",
    "# print(r.run_visible(user))\n",
    "# print(r.run_hidden(user))"
   ]
  },
  {
   "cell_type": "code",
   "execution_count": 363,
   "metadata": {
    "collapsed": true
   },
   "outputs": [],
   "source": [
    "# user = np.array([[0,1,0,1]])\n",
    "# hid = r.run_visible(user)\n",
    "# plt.plot(user[0])\n",
    "# plt.plot((r.run_hidden(hid))[0])\n",
    "# plt.show()"
   ]
  },
  {
   "cell_type": "code",
   "execution_count": 423,
   "metadata": {},
   "outputs": [
    {
     "data": {
      "text/plain": [
       "array([ 0.,  0.,  0.,  1.])"
      ]
     },
     "execution_count": 423,
     "metadata": {},
     "output_type": "execute_result"
    }
   ],
   "source": [
    "total_iter = 100\n",
    "out = r.daydream(total_iter)[-1]\n",
    "out"
   ]
  },
  {
   "cell_type": "code",
   "execution_count": 436,
   "metadata": {
    "collapsed": true
   },
   "outputs": [],
   "source": [
    "def dreaming(rbm, total_dream=1, total_iter=10):\n",
    "    res = []\n",
    "    for i in range(total_dream):\n",
    "        res.append(rbm.daydream(total_iter)[-1])\n",
    "    res = np.array(res)\n",
    "    return res"
   ]
  },
  {
   "cell_type": "code",
   "execution_count": 437,
   "metadata": {
    "collapsed": true
   },
   "outputs": [],
   "source": [
    "from collections import Counter"
   ]
  },
  {
   "cell_type": "code",
   "execution_count": 440,
   "metadata": {
    "collapsed": true
   },
   "outputs": [],
   "source": [
    "dreams = dreaming(r, total_dream=1000, total_iter=10)\n",
    "dreams = [tuple(x) for x in dreams]\n",
    "c = Counter(dreams)\n",
    "# to_plot = [(''.join([str(int(ch)) for ch in x[0]]), x[1]) for x in list(c.items())]\n",
    "to_plot = [(''.join([str(int(ch)) for ch in x]), c[tuple(x)]/1000) for x in data]"
   ]
  },
  {
   "cell_type": "code",
   "execution_count": 441,
   "metadata": {},
   "outputs": [
    {
     "data": {
      "image/png": "[encoded data removed]",
      "text/plain": [
       "<matplotlib.figure.Figure at 0x10b9e37b8>"
      ]
     },
     "metadata": {},
     "output_type": "display_data"
    }
   ],
   "source": [
    "plt.figure()\n",
    "plt.bar([x[0] for x in to_plot], [x[1] for x in to_plot])\n",
    "plt.title('for N=20, 1000 dreams, 10 iters per dream')\n",
    "plt.show()"
   ]
  },
  {
   "cell_type": "code",
   "execution_count": 418,
   "metadata": {},
   "outputs": [
    {
     "data": {
      "image/png": "[encoded data removed]",
      "text/plain": [
       "<matplotlib.figure.Figure at 0x10aa89e80>"
      ]
     },
     "metadata": {},
     "output_type": "display_data"
    }
   ],
   "source": [
    "plt.figure()\n",
    "plt.bar([x[0] for x in to_plot], [x[1] for x in to_plot])\n",
    "plt.show()"
   ]
  },
  {
   "cell_type": "code",
   "execution_count": null,
   "metadata": {
    "collapsed": true
   },
   "outputs": [],
   "source": []
  },
  {
   "cell_type": "code",
   "execution_count": null,
   "metadata": {
    "collapsed": true
   },
   "outputs": [],
   "source": []
  }
 ],
 "metadata": {
  "kernelspec": {
   "display_name": "Python 3",
   "language": "python",
   "name": "python3"
  },
  "language_info": {
   "codemirror_mode": {
    "name": "ipython",
    "version": 3
   },
   "file_extension": ".py",
   "mimetype": "text/x-python",
   "name": "python",
   "nbconvert_exporter": "python",
   "pygments_lexer": "ipython3",
   "version": "3.6.4"
  }
 },
 "nbformat": 4,
 "nbformat_minor": 1
}
